{
 "cells": [
  {
   "cell_type": "code",
   "execution_count": 25,
   "metadata": {},
   "outputs": [],
   "source": [
    "import tensorflow as tf\n",
    "from cython_weave import *\n",
    "import tensorflow_weave_help\n",
    "reload(tensorflow_weave_help)\n",
    "from tensorflow_weave_help import *\n",
    "from tensorflow.python.client import timeline\n",
    "from fancy_conv import *"
   ]
  },
  {
   "cell_type": "code",
   "execution_count": 32,
   "metadata": {},
   "outputs": [],
   "source": [
    "weave_param = {'num_zeros': 2, 'filter_size':3}\n",
    "num_image = 10\n",
    "num_filters = 7\n",
    "N = 32\n",
    "x = np.arange(1,num_image*num_filters*N*N +1).reshape(num_image, num_filters,N,N).astype(float)\n",
    "\n",
    "zero_Indexor = tf.convert_to_tensor(create_part_I_zero_weave_matrix((num_filters,N,N), weave_param))\n",
    "array_Indexor = tf.convert_to_tensor(create_part_I_array_weave_matrix((num_filters,N,N), weave_param))\n",
    "\n",
    "a = tf.placeholder(tf.float32,(None, num_filters,N,N))\n",
    "a_cat = tf.concat([a, tf.zeros_like(a)], axis = 3)\n",
    "\n",
    "def fn_zero(x):\n",
    "    return tf.gather_nd(x, zero_Indexor)\n",
    "\n",
    "def fn_array(x):\n",
    "    return tf.gather_nd(x, array_Indexor)\n",
    "\n",
    "output = (tf.map_fn(fn_zero, a_cat), tf.map_fn(fn_array, a_cat))\n",
    "\n",
    "with tf.Session() as sess:\n",
    "    r_zero, r_array = sess.run(output, feed_dict={a:x})"
   ]
  },
  {
   "cell_type": "code",
   "execution_count": 33,
   "metadata": {},
   "outputs": [
    {
     "name": "stdout",
     "output_type": "stream",
     "text": [
      "(10, 7, 94, 94)\n",
      "(10, 7, 94, 94)\n"
     ]
    }
   ],
   "source": [
    "print(r_zero.shape)\n",
    "print(r_array.shape)"
   ]
  },
  {
   "cell_type": "code",
   "execution_count": 34,
   "metadata": {},
   "outputs": [
    {
     "name": "stdout",
     "output_type": "stream",
     "text": [
      "(10, 7, 94, 94)\n",
      "(10, 7, 94, 94)\n"
     ]
    }
   ],
   "source": [
    "cython_r_zero, _ = zero_weave_forward(x, weave_param)\n",
    "cython_r_array, _ = array_weave_fast_forward(x,weave_param)\n",
    "print(cython_r_array.shape)\n",
    "print(cython_r_zero.shape)"
   ]
  },
  {
   "cell_type": "code",
   "execution_count": 35,
   "metadata": {},
   "outputs": [
    {
     "name": "stdout",
     "output_type": "stream",
     "text": [
      "1.0\n",
      "1.0\n"
     ]
    }
   ],
   "source": [
    "print((cython_r_zero == r_zero).mean())\n",
    "print((cython_r_array==r_array).mean())"
   ]
  },
  {
   "cell_type": "code",
   "execution_count": 30,
   "metadata": {},
   "outputs": [
    {
     "name": "stdout",
     "output_type": "stream",
     "text": [
      "[ 1.  0.  0.  2.  0.  0.  3.  0.  0.  4.  0.  0.  5.  0.  0.  6.  0.  0.\n",
      "  7.  0.  0.  8.  0.  0.  9.  0.  0. 10.  0.  0. 11.  0.  0. 12.  0.  0.\n",
      " 13.  0.  0. 14.  0.  0. 15.  0.  0. 16.  0.  0. 17.  0.  0. 18.  0.  0.\n",
      " 19.  0.  0. 20.  0.  0. 21.  0.  0. 22.  0.  0. 23.  0.  0. 24.  0.  0.\n",
      " 25.  0.  0. 26.  0.  0. 27.  0.  0. 28.  0.  0. 29.  0.  0. 30.  0.  0.\n",
      " 31.  0.  0. 32.]\n",
      "[ 1.  0.  0.  2.  0.  0.  3.  0.  0.  4.  0.  0.  5.  0.  0.  6.  0.  0.\n",
      "  7.  0.  0.  8.  0.  0.  9.  0.  0. 10.  0.  0. 11.  0.  0. 12.  0.  0.\n",
      " 13.  0.  0. 14.  0.  0. 15.  0.  0. 16.  0.  0. 17.  0.  0. 18.  0.  0.\n",
      " 19.  0.  0. 20.  0.  0. 21.  0.  0. 22.  0.  0. 23.  0.  0. 24.  0.  0.\n",
      " 25.  0.  0. 26.  0.  0. 27.  0.  0. 28.  0.  0. 29.  0.  0. 30.  0.  0.\n",
      " 31.  0.  0. 32.]\n"
     ]
    }
   ],
   "source": [
    "print(r[0,0,0])\n",
    "print(cython_r[0,0,0])"
   ]
  },
  {
   "cell_type": "code",
   "execution_count": null,
   "metadata": {},
   "outputs": [],
   "source": []
  },
  {
   "cell_type": "code",
   "execution_count": null,
   "metadata": {},
   "outputs": [],
   "source": []
  }
 ],
 "metadata": {
  "kernelspec": {
   "display_name": "Python 2",
   "language": "python",
   "name": "python2"
  },
  "language_info": {
   "codemirror_mode": {
    "name": "ipython",
    "version": 2
   },
   "file_extension": ".py",
   "mimetype": "text/x-python",
   "name": "python",
   "nbconvert_exporter": "python",
   "pygments_lexer": "ipython2",
   "version": "2.7.14"
  }
 },
 "nbformat": 4,
 "nbformat_minor": 2
}
