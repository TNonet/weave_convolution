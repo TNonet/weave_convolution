{
 "cells": [
  {
   "cell_type": "code",
   "execution_count": 1,
   "metadata": {},
   "outputs": [],
   "source": [
    "from keras.datasets import cifar10\n",
    "import numpy as np\n",
    "\n",
    "import keras\n",
    "import tensorflow as tf\n",
    "from keras.layers import Input, Conv2D, Dense, Flatten, Add, ZeroPadding2D, add, MaxPool2D\n",
    "from keras.models import Model\n",
    "from keras.utils.np_utils import to_categorical \n",
    "from tensorflow_weave import *"
   ]
  },
  {
   "cell_type": "code",
   "execution_count": 2,
   "metadata": {},
   "outputs": [],
   "source": [
    "(x_train, y_train), (x_test, y_test) = cifar10.load_data()"
   ]
  },
  {
   "cell_type": "code",
   "execution_count": 4,
   "metadata": {},
   "outputs": [
    {
     "name": "stdout",
     "output_type": "stream",
     "text": [
      "(50000, 3, 32, 32)\n",
      "(50000, 10)\n"
     ]
    }
   ],
   "source": [
    "print(x_train.shape)\n",
    "y_train = to_categorical(y_train, num_classes=10)\n",
    "y_test = to_categorical(y_test, num_classes=10)\n",
    "print(y_train.shape)"
   ]
  },
  {
   "cell_type": "code",
   "execution_count": 45,
   "metadata": {},
   "outputs": [],
   "source": [
    "filter_size = 3\n",
    "num_filters = 10\n",
    "include_center = 0 \n",
    "pad_size = filter_size//2\n",
    "mid_layer = 30"
   ]
  },
  {
   "cell_type": "code",
   "execution_count": 48,
   "metadata": {},
   "outputs": [],
   "source": [
    "inputs = Input(shape=(3,32,32))\n",
    "tf.cast(inputs, dtype=tf.float64)\n",
    "######### Layer 1\n",
    "x_pad = ZeroPadding2D(padding=(pad_size,pad_size))(inputs)\n",
    "\n",
    "\n",
    "x_per = Conv2D(num_filters,\n",
    "               kernel_size = (filter_size,filter_size),\n",
    "               strides=(1,1),\n",
    "               padding='valid',\n",
    "               activation='relu')(x_pad)\n",
    "\n",
    "x_loc = Conv2D(num_filters,\n",
    "               kernel_size= (filter_size,filter_size),\n",
    "               strides=(1,1),\n",
    "               padding='valid',\n",
    "               activation = 'relu')(x_pad)\n",
    "\n",
    "x_zero = ZeroWeave()(x_loc)\n",
    "x_weave = ArrayWeave(include_center = include_center)(x_per)\n",
    "\n",
    "x = Add()([x_weave, x_zero])\n",
    "\n",
    "x = ZeroPadding2D(padding=(pad_size,pad_size))(x)\n",
    "\n",
    "x = Conv2D(int(0.5*num_filters),\n",
    "           kernel_size= (filter_size,filter_size),\n",
    "           strides=(filter_size,filter_size),\n",
    "           padding='valid',\n",
    "           activation = 'relu')(x)\n",
    "x = MaxPool2D()(x)\n",
    "\n",
    "x = Flatten()(x)\n",
    "x = Dense(mid_layer, activation = 'relu')(x)\n",
    "predictions = Dense(10, activation='softmax')(x)\n",
    "\n",
    "# This creates a model that includes\n",
    "# the Input layer and three Dense layers\n",
    "model = Model(inputs=[inputs], outputs=predictions)\n",
    "adam = keras.optimizers.Adam(lr=0.001, beta_1=0.9, beta_2=0.999, epsilon=None, decay=0.0, amsgrad=True)\n",
    "model.compile(loss='categorical_crossentropy', optimizer=adam, metrics=['accuracy'])"
   ]
  },
  {
   "cell_type": "code",
   "execution_count": 49,
   "metadata": {},
   "outputs": [
    {
     "name": "stdout",
     "output_type": "stream",
     "text": [
      "Epoch 1/10\n",
      "25984/50000 [==============>...............] - ETA: 5:26 - loss: 14.4984 - acc: 0.1004"
     ]
    },
    {
     "ename": "KeyboardInterrupt",
     "evalue": "",
     "output_type": "error",
     "traceback": [
      "\u001b[0;31m---------------------------------------------------------------------------\u001b[0m",
      "\u001b[0;31mKeyboardInterrupt\u001b[0m                         Traceback (most recent call last)",
      "\u001b[0;32m<ipython-input-49-6e8db204d897>\u001b[0m in \u001b[0;36m<module>\u001b[0;34m()\u001b[0m\n\u001b[1;32m      1\u001b[0m \u001b[0;31m#reduce_lr = ReduceLROnPlateau(monitor='val_loss', factor=0.2, patience=5, min_lr=0.001)\u001b[0m\u001b[0;34m\u001b[0m\u001b[0;34m\u001b[0m\u001b[0m\n\u001b[0;32m----> 2\u001b[0;31m \u001b[0mmodel\u001b[0m\u001b[0;34m.\u001b[0m\u001b[0mfit\u001b[0m\u001b[0;34m(\u001b[0m\u001b[0mx_train\u001b[0m\u001b[0;34m,\u001b[0m\u001b[0my_train\u001b[0m\u001b[0;34m,\u001b[0m \u001b[0mepochs\u001b[0m \u001b[0;34m=\u001b[0m \u001b[0;36m10\u001b[0m\u001b[0;34m,\u001b[0m \u001b[0mverbose\u001b[0m \u001b[0;34m=\u001b[0m \u001b[0;36m1\u001b[0m\u001b[0;34m)\u001b[0m\u001b[0;34m\u001b[0m\u001b[0m\n\u001b[0m",
      "\u001b[0;32m/Users/Tim/anaconda2/lib/python2.7/site-packages/keras/engine/training.pyc\u001b[0m in \u001b[0;36mfit\u001b[0;34m(self, x, y, batch_size, epochs, verbose, callbacks, validation_split, validation_data, shuffle, class_weight, sample_weight, initial_epoch, steps_per_epoch, validation_steps, **kwargs)\u001b[0m\n\u001b[1;32m   1703\u001b[0m                               \u001b[0minitial_epoch\u001b[0m\u001b[0;34m=\u001b[0m\u001b[0minitial_epoch\u001b[0m\u001b[0;34m,\u001b[0m\u001b[0;34m\u001b[0m\u001b[0m\n\u001b[1;32m   1704\u001b[0m                               \u001b[0msteps_per_epoch\u001b[0m\u001b[0;34m=\u001b[0m\u001b[0msteps_per_epoch\u001b[0m\u001b[0;34m,\u001b[0m\u001b[0;34m\u001b[0m\u001b[0m\n\u001b[0;32m-> 1705\u001b[0;31m                               validation_steps=validation_steps)\n\u001b[0m\u001b[1;32m   1706\u001b[0m \u001b[0;34m\u001b[0m\u001b[0m\n\u001b[1;32m   1707\u001b[0m     def evaluate(self, x=None, y=None,\n",
      "\u001b[0;32m/Users/Tim/anaconda2/lib/python2.7/site-packages/keras/engine/training.pyc\u001b[0m in \u001b[0;36m_fit_loop\u001b[0;34m(self, f, ins, out_labels, batch_size, epochs, verbose, callbacks, val_f, val_ins, shuffle, callback_metrics, initial_epoch, steps_per_epoch, validation_steps)\u001b[0m\n\u001b[1;32m   1233\u001b[0m                         \u001b[0mins_batch\u001b[0m\u001b[0;34m[\u001b[0m\u001b[0mi\u001b[0m\u001b[0;34m]\u001b[0m \u001b[0;34m=\u001b[0m \u001b[0mins_batch\u001b[0m\u001b[0;34m[\u001b[0m\u001b[0mi\u001b[0m\u001b[0;34m]\u001b[0m\u001b[0;34m.\u001b[0m\u001b[0mtoarray\u001b[0m\u001b[0;34m(\u001b[0m\u001b[0;34m)\u001b[0m\u001b[0;34m\u001b[0m\u001b[0m\n\u001b[1;32m   1234\u001b[0m \u001b[0;34m\u001b[0m\u001b[0m\n\u001b[0;32m-> 1235\u001b[0;31m                     \u001b[0mouts\u001b[0m \u001b[0;34m=\u001b[0m \u001b[0mf\u001b[0m\u001b[0;34m(\u001b[0m\u001b[0mins_batch\u001b[0m\u001b[0;34m)\u001b[0m\u001b[0;34m\u001b[0m\u001b[0m\n\u001b[0m\u001b[1;32m   1236\u001b[0m                     \u001b[0;32mif\u001b[0m \u001b[0;32mnot\u001b[0m \u001b[0misinstance\u001b[0m\u001b[0;34m(\u001b[0m\u001b[0mouts\u001b[0m\u001b[0;34m,\u001b[0m \u001b[0mlist\u001b[0m\u001b[0;34m)\u001b[0m\u001b[0;34m:\u001b[0m\u001b[0;34m\u001b[0m\u001b[0m\n\u001b[1;32m   1237\u001b[0m                         \u001b[0mouts\u001b[0m \u001b[0;34m=\u001b[0m \u001b[0;34m[\u001b[0m\u001b[0mouts\u001b[0m\u001b[0;34m]\u001b[0m\u001b[0;34m\u001b[0m\u001b[0m\n",
      "\u001b[0;32m/Users/Tim/anaconda2/lib/python2.7/site-packages/keras/backend/tensorflow_backend.pyc\u001b[0m in \u001b[0;36m__call__\u001b[0;34m(self, inputs)\u001b[0m\n\u001b[1;32m   2476\u001b[0m         \u001b[0msession\u001b[0m \u001b[0;34m=\u001b[0m \u001b[0mget_session\u001b[0m\u001b[0;34m(\u001b[0m\u001b[0;34m)\u001b[0m\u001b[0;34m\u001b[0m\u001b[0m\n\u001b[1;32m   2477\u001b[0m         updated = session.run(fetches=fetches, feed_dict=feed_dict,\n\u001b[0;32m-> 2478\u001b[0;31m                               **self.session_kwargs)\n\u001b[0m\u001b[1;32m   2479\u001b[0m         \u001b[0;32mreturn\u001b[0m \u001b[0mupdated\u001b[0m\u001b[0;34m[\u001b[0m\u001b[0;34m:\u001b[0m\u001b[0mlen\u001b[0m\u001b[0;34m(\u001b[0m\u001b[0mself\u001b[0m\u001b[0;34m.\u001b[0m\u001b[0moutputs\u001b[0m\u001b[0;34m)\u001b[0m\u001b[0;34m]\u001b[0m\u001b[0;34m\u001b[0m\u001b[0m\n\u001b[1;32m   2480\u001b[0m \u001b[0;34m\u001b[0m\u001b[0m\n",
      "\u001b[0;32m/Users/Tim/anaconda2/lib/python2.7/site-packages/tensorflow/python/client/session.pyc\u001b[0m in \u001b[0;36mrun\u001b[0;34m(self, fetches, feed_dict, options, run_metadata)\u001b[0m\n\u001b[1;32m    893\u001b[0m     \u001b[0;32mtry\u001b[0m\u001b[0;34m:\u001b[0m\u001b[0;34m\u001b[0m\u001b[0m\n\u001b[1;32m    894\u001b[0m       result = self._run(None, fetches, feed_dict, options_ptr,\n\u001b[0;32m--> 895\u001b[0;31m                          run_metadata_ptr)\n\u001b[0m\u001b[1;32m    896\u001b[0m       \u001b[0;32mif\u001b[0m \u001b[0mrun_metadata\u001b[0m\u001b[0;34m:\u001b[0m\u001b[0;34m\u001b[0m\u001b[0m\n\u001b[1;32m    897\u001b[0m         \u001b[0mproto_data\u001b[0m \u001b[0;34m=\u001b[0m \u001b[0mtf_session\u001b[0m\u001b[0;34m.\u001b[0m\u001b[0mTF_GetBuffer\u001b[0m\u001b[0;34m(\u001b[0m\u001b[0mrun_metadata_ptr\u001b[0m\u001b[0;34m)\u001b[0m\u001b[0;34m\u001b[0m\u001b[0m\n",
      "\u001b[0;32m/Users/Tim/anaconda2/lib/python2.7/site-packages/tensorflow/python/client/session.pyc\u001b[0m in \u001b[0;36m_run\u001b[0;34m(self, handle, fetches, feed_dict, options, run_metadata)\u001b[0m\n\u001b[1;32m   1126\u001b[0m     \u001b[0;32mif\u001b[0m \u001b[0mfinal_fetches\u001b[0m \u001b[0;32mor\u001b[0m \u001b[0mfinal_targets\u001b[0m \u001b[0;32mor\u001b[0m \u001b[0;34m(\u001b[0m\u001b[0mhandle\u001b[0m \u001b[0;32mand\u001b[0m \u001b[0mfeed_dict_tensor\u001b[0m\u001b[0;34m)\u001b[0m\u001b[0;34m:\u001b[0m\u001b[0;34m\u001b[0m\u001b[0m\n\u001b[1;32m   1127\u001b[0m       results = self._do_run(handle, final_targets, final_fetches,\n\u001b[0;32m-> 1128\u001b[0;31m                              feed_dict_tensor, options, run_metadata)\n\u001b[0m\u001b[1;32m   1129\u001b[0m     \u001b[0;32melse\u001b[0m\u001b[0;34m:\u001b[0m\u001b[0;34m\u001b[0m\u001b[0m\n\u001b[1;32m   1130\u001b[0m       \u001b[0mresults\u001b[0m \u001b[0;34m=\u001b[0m \u001b[0;34m[\u001b[0m\u001b[0;34m]\u001b[0m\u001b[0;34m\u001b[0m\u001b[0m\n",
      "\u001b[0;32m/Users/Tim/anaconda2/lib/python2.7/site-packages/tensorflow/python/client/session.pyc\u001b[0m in \u001b[0;36m_do_run\u001b[0;34m(self, handle, target_list, fetch_list, feed_dict, options, run_metadata)\u001b[0m\n\u001b[1;32m   1342\u001b[0m     \u001b[0;32mif\u001b[0m \u001b[0mhandle\u001b[0m \u001b[0;32mis\u001b[0m \u001b[0mNone\u001b[0m\u001b[0;34m:\u001b[0m\u001b[0;34m\u001b[0m\u001b[0m\n\u001b[1;32m   1343\u001b[0m       return self._do_call(_run_fn, self._session, feeds, fetches, targets,\n\u001b[0;32m-> 1344\u001b[0;31m                            options, run_metadata)\n\u001b[0m\u001b[1;32m   1345\u001b[0m     \u001b[0;32melse\u001b[0m\u001b[0;34m:\u001b[0m\u001b[0;34m\u001b[0m\u001b[0m\n\u001b[1;32m   1346\u001b[0m       \u001b[0;32mreturn\u001b[0m \u001b[0mself\u001b[0m\u001b[0;34m.\u001b[0m\u001b[0m_do_call\u001b[0m\u001b[0;34m(\u001b[0m\u001b[0m_prun_fn\u001b[0m\u001b[0;34m,\u001b[0m \u001b[0mself\u001b[0m\u001b[0;34m.\u001b[0m\u001b[0m_session\u001b[0m\u001b[0;34m,\u001b[0m \u001b[0mhandle\u001b[0m\u001b[0;34m,\u001b[0m \u001b[0mfeeds\u001b[0m\u001b[0;34m,\u001b[0m \u001b[0mfetches\u001b[0m\u001b[0;34m)\u001b[0m\u001b[0;34m\u001b[0m\u001b[0m\n",
      "\u001b[0;32m/Users/Tim/anaconda2/lib/python2.7/site-packages/tensorflow/python/client/session.pyc\u001b[0m in \u001b[0;36m_do_call\u001b[0;34m(self, fn, *args)\u001b[0m\n\u001b[1;32m   1348\u001b[0m   \u001b[0;32mdef\u001b[0m \u001b[0m_do_call\u001b[0m\u001b[0;34m(\u001b[0m\u001b[0mself\u001b[0m\u001b[0;34m,\u001b[0m \u001b[0mfn\u001b[0m\u001b[0;34m,\u001b[0m \u001b[0;34m*\u001b[0m\u001b[0margs\u001b[0m\u001b[0;34m)\u001b[0m\u001b[0;34m:\u001b[0m\u001b[0;34m\u001b[0m\u001b[0m\n\u001b[1;32m   1349\u001b[0m     \u001b[0;32mtry\u001b[0m\u001b[0;34m:\u001b[0m\u001b[0;34m\u001b[0m\u001b[0m\n\u001b[0;32m-> 1350\u001b[0;31m       \u001b[0;32mreturn\u001b[0m \u001b[0mfn\u001b[0m\u001b[0;34m(\u001b[0m\u001b[0;34m*\u001b[0m\u001b[0margs\u001b[0m\u001b[0;34m)\u001b[0m\u001b[0;34m\u001b[0m\u001b[0m\n\u001b[0m\u001b[1;32m   1351\u001b[0m     \u001b[0;32mexcept\u001b[0m \u001b[0merrors\u001b[0m\u001b[0;34m.\u001b[0m\u001b[0mOpError\u001b[0m \u001b[0;32mas\u001b[0m \u001b[0me\u001b[0m\u001b[0;34m:\u001b[0m\u001b[0;34m\u001b[0m\u001b[0m\n\u001b[1;32m   1352\u001b[0m       \u001b[0mmessage\u001b[0m \u001b[0;34m=\u001b[0m \u001b[0mcompat\u001b[0m\u001b[0;34m.\u001b[0m\u001b[0mas_text\u001b[0m\u001b[0;34m(\u001b[0m\u001b[0me\u001b[0m\u001b[0;34m.\u001b[0m\u001b[0mmessage\u001b[0m\u001b[0;34m)\u001b[0m\u001b[0;34m\u001b[0m\u001b[0m\n",
      "\u001b[0;32m/Users/Tim/anaconda2/lib/python2.7/site-packages/tensorflow/python/client/session.pyc\u001b[0m in \u001b[0;36m_run_fn\u001b[0;34m(session, feed_dict, fetch_list, target_list, options, run_metadata)\u001b[0m\n\u001b[1;32m   1327\u001b[0m           return tf_session.TF_Run(session, options,\n\u001b[1;32m   1328\u001b[0m                                    \u001b[0mfeed_dict\u001b[0m\u001b[0;34m,\u001b[0m \u001b[0mfetch_list\u001b[0m\u001b[0;34m,\u001b[0m \u001b[0mtarget_list\u001b[0m\u001b[0;34m,\u001b[0m\u001b[0;34m\u001b[0m\u001b[0m\n\u001b[0;32m-> 1329\u001b[0;31m                                    status, run_metadata)\n\u001b[0m\u001b[1;32m   1330\u001b[0m \u001b[0;34m\u001b[0m\u001b[0m\n\u001b[1;32m   1331\u001b[0m     \u001b[0;32mdef\u001b[0m \u001b[0m_prun_fn\u001b[0m\u001b[0;34m(\u001b[0m\u001b[0msession\u001b[0m\u001b[0;34m,\u001b[0m \u001b[0mhandle\u001b[0m\u001b[0;34m,\u001b[0m \u001b[0mfeed_dict\u001b[0m\u001b[0;34m,\u001b[0m \u001b[0mfetch_list\u001b[0m\u001b[0;34m)\u001b[0m\u001b[0;34m:\u001b[0m\u001b[0;34m\u001b[0m\u001b[0m\n",
      "\u001b[0;31mKeyboardInterrupt\u001b[0m: "
     ]
    }
   ],
   "source": [
    "#reduce_lr = ReduceLROnPlateau(monitor='val_loss', factor=0.2, patience=5, min_lr=0.001)\n",
    "model.fit(x_train,y_train, epochs = 10, verbose = 1)"
   ]
  },
  {
   "cell_type": "code",
   "execution_count": 41,
   "metadata": {},
   "outputs": [
    {
     "name": "stdout",
     "output_type": "stream",
     "text": [
      "10000/10000 [==============================] - 38s 4ms/step\n"
     ]
    },
    {
     "data": {
      "text/plain": [
       "[1.4139167850494385, 0.5147]"
      ]
     },
     "execution_count": 41,
     "metadata": {},
     "output_type": "execute_result"
    }
   ],
   "source": [
    "model.evaluate(x_test, y_test)"
   ]
  },
  {
   "cell_type": "code",
   "execution_count": 23,
   "metadata": {},
   "outputs": [
    {
     "data": {
      "text/plain": [
       "[<keras.engine.topology.InputLayer at 0x182349e6d0>,\n",
       " <keras.layers.convolutional.ZeroPadding2D at 0x182349e7d0>,\n",
       " <keras.layers.convolutional.Conv2D at 0x1823100450>,\n",
       " <keras.layers.convolutional.Conv2D at 0x182349e690>,\n",
       " <tensorflow_weave.ArrayWeave at 0x182349ead0>,\n",
       " <tensorflow_weave.ZeroWeave at 0x182349e790>,\n",
       " <keras.layers.merge.Add at 0x1823471550>,\n",
       " <keras.layers.convolutional.ZeroPadding2D at 0x1823454710>,\n",
       " <keras.layers.convolutional.Conv2D at 0x1823471590>,\n",
       " <keras.layers.pooling.MaxPooling2D at 0x18231e8890>,\n",
       " <keras.layers.core.Flatten at 0x1823438dd0>,\n",
       " <keras.layers.core.Dense at 0x18220a6f50>,\n",
       " <keras.layers.core.Dense at 0x18234dfa90>]"
      ]
     },
     "execution_count": 23,
     "metadata": {},
     "output_type": "execute_result"
    }
   ],
   "source": [
    "model.layers"
   ]
  },
  {
   "cell_type": "code",
   "execution_count": 25,
   "metadata": {},
   "outputs": [
    {
     "data": {
      "text/plain": [
       "[array([[[[ 0.29960608, -0.28861186,  0.1592465 ,  0.24725753],\n",
       "          [-0.24199893,  0.01990325, -0.24087994, -0.2327908 ],\n",
       "          [ 0.13462713,  0.06380621, -0.05194268, -0.18662104]],\n",
       " \n",
       "         [[-0.05814334, -0.1169623 , -0.08285387, -0.2757885 ],\n",
       "          [-0.05679119,  0.11527789,  0.13418324,  0.0952201 ],\n",
       "          [-0.0026477 ,  0.13327926,  0.27648175, -0.2354526 ]],\n",
       " \n",
       "         [[-0.21779808, -0.04931591,  0.10018279, -0.00555757],\n",
       "          [ 0.08576497,  0.0016393 ,  0.2717865 ,  0.26411957],\n",
       "          [-0.0416683 , -0.29627255,  0.29565087,  0.04526897]]],\n",
       " \n",
       " \n",
       "        [[[-0.04062799,  0.14626591, -0.06930771, -0.270012  ],\n",
       "          [-0.04287893, -0.20437771, -0.06653652, -0.1122063 ],\n",
       "          [-0.17345144,  0.02114441,  0.11052226, -0.06783617]],\n",
       " \n",
       "         [[-0.06887268,  0.12182418,  0.0584613 , -0.19139285],\n",
       "          [ 0.23886715, -0.21013212, -0.18156159,  0.03146605],\n",
       "          [ 0.10928108, -0.26527032, -0.30255297, -0.09012193]],\n",
       " \n",
       "         [[-0.13999303,  0.24672896,  0.0488966 ,  0.23487358],\n",
       "          [-0.09230623,  0.30408543,  0.0576783 , -0.16028453],\n",
       "          [-0.26748368,  0.2487829 , -0.01239897,  0.24490689]]],\n",
       " \n",
       " \n",
       "        [[[-0.11330998,  0.2827065 ,  0.06167364,  0.05259662],\n",
       "          [-0.05469757, -0.283796  ,  0.2751256 ,  0.24490607],\n",
       "          [-0.24771766, -0.26015583, -0.3111521 ,  0.09199238]],\n",
       " \n",
       "         [[-0.2902758 ,  0.07415381, -0.21695797,  0.05233202],\n",
       "          [-0.08317776, -0.06272331, -0.10486615, -0.07168702],\n",
       "          [-0.2983188 ,  0.1922226 ,  0.2629098 ,  0.08883584]],\n",
       " \n",
       "         [[-0.18845086,  0.04960371,  0.11805548, -0.29966727],\n",
       "          [ 0.1881553 ,  0.25800392, -0.08695341, -0.18881017],\n",
       "          [-0.15916897,  0.06556641,  0.08113308, -0.08088771]]]],\n",
       "       dtype=float32),\n",
       " array([ 0.0024595 , -0.00162177, -0.00775946, -0.00630598], dtype=float32)]"
      ]
     },
     "execution_count": 25,
     "metadata": {},
     "output_type": "execute_result"
    }
   ],
   "source": [
    "\n",
    "model.layers[2].get_weights()"
   ]
  },
  {
   "cell_type": "code",
   "execution_count": 29,
   "metadata": {},
   "outputs": [
    {
     "data": {
      "text/plain": [
       "[array([[[[-0.17659913,  0.04425956,  0.03592607, -0.00823027,\n",
       "           -0.06430855, -0.11623493,  0.19238359, -0.00555114,\n",
       "            0.08804604,  0.11232868,  0.1582436 , -0.19912536],\n",
       "          [-0.03459128,  0.18392497,  0.08043488,  0.03508746,\n",
       "            0.15871221, -0.13208997, -0.14473063, -0.09323473,\n",
       "            0.05682389,  0.12338021,  0.00291273,  0.16889282],\n",
       "          [-0.09569734,  0.04555588,  0.16159618, -0.07774577,\n",
       "            0.03380111, -0.13233125, -0.09905578,  0.18259785,\n",
       "           -0.12220959,  0.11689623,  0.1155142 , -0.01528297],\n",
       "          [ 0.05878767,  0.06590427, -0.16495606,  0.18004964,\n",
       "           -0.08915877, -0.1324701 , -0.1172122 ,  0.02378388,\n",
       "            0.12347722, -0.05788571, -0.12921175, -0.03900485]],\n",
       " \n",
       "         [[-0.18797381, -0.16916938,  0.134841  ,  0.14691517,\n",
       "            0.10628194, -0.2006874 ,  0.09512314, -0.14029087,\n",
       "            0.0990786 ,  0.06301841, -0.14158961, -0.04448771],\n",
       "          [ 0.0360195 , -0.06677677,  0.00388518,  0.01107707,\n",
       "            0.04873191,  0.08613837,  0.10415174, -0.18624404,\n",
       "            0.10998252, -0.03112641,  0.02932741, -0.05783004],\n",
       "          [ 0.04450036, -0.01775408, -0.08532657,  0.1666297 ,\n",
       "            0.07585491,  0.14250618,  0.18703818, -0.02917101,\n",
       "            0.1454411 , -0.10190561, -0.11245541, -0.09983592],\n",
       "          [ 0.16218814,  0.20501359, -0.01814154, -0.10105478,\n",
       "           -0.06550337,  0.10057344, -0.1918043 ,  0.15140072,\n",
       "           -0.0297569 ,  0.12358043,  0.11171   , -0.1321846 ]],\n",
       " \n",
       "         [[-0.11297005,  0.03960671, -0.16953692,  0.02626315,\n",
       "            0.02080174,  0.15497312,  0.10643962, -0.14541122,\n",
       "           -0.08038458,  0.09834981,  0.07615468,  0.19610393],\n",
       "          [ 0.17208172,  0.19317548, -0.02216722, -0.18243742,\n",
       "            0.1337835 , -0.11442275, -0.0712476 , -0.09099495,\n",
       "           -0.14334975, -0.12030801, -0.03841514, -0.14813934],\n",
       "          [ 0.19698235, -0.08962899, -0.07829607, -0.07511854,\n",
       "           -0.09284113,  0.14011474, -0.02349718,  0.03473365,\n",
       "           -0.09740158,  0.18545194,  0.02691695,  0.17402086],\n",
       "          [ 0.02712927, -0.14783849, -0.08222825, -0.10664155,\n",
       "           -0.02607427,  0.117991  , -0.00270638, -0.14047147,\n",
       "            0.06564856,  0.09249361, -0.20057195, -0.10546932]]],\n",
       " \n",
       " \n",
       "        [[[ 0.0891529 ,  0.0696266 , -0.09681996, -0.1789855 ,\n",
       "            0.00363056,  0.02399336,  0.18885571, -0.00274564,\n",
       "            0.01748809, -0.00289252,  0.11735705,  0.19217509],\n",
       "          [ 0.00919963,  0.13724452, -0.05669722, -0.10116382,\n",
       "           -0.01592588, -0.09145298,  0.13966328,  0.08204701,\n",
       "            0.12093804, -0.02335389, -0.01398346, -0.00629375],\n",
       "          [ 0.13086475,  0.09295155,  0.07661668, -0.10617055,\n",
       "            0.15801282, -0.0864059 , -0.14776716, -0.10592229,\n",
       "           -0.15496033, -0.12186448, -0.1619155 ,  0.02464085],\n",
       "          [-0.0261051 ,  0.08964974, -0.11112715, -0.05127981,\n",
       "            0.1283354 , -0.16035523,  0.0246445 , -0.10858775,\n",
       "           -0.01755355,  0.04150674, -0.09007801,  0.09998728]],\n",
       " \n",
       "         [[-0.06737696,  0.12673114, -0.15177935,  0.00796668,\n",
       "           -0.01313516, -0.01719836, -0.07304149, -0.12890188,\n",
       "            0.04406466, -0.1740205 ,  0.04927829,  0.06852493],\n",
       "          [ 0.045923  , -0.10707269,  0.03070768,  0.04548504,\n",
       "            0.17232439, -0.10944831, -0.09000566, -0.13703911,\n",
       "           -0.12685   ,  0.00418364,  0.07550024, -0.0202431 ],\n",
       "          [-0.11223308,  0.11627777, -0.14519031,  0.06897485,\n",
       "           -0.12568295, -0.01761128,  0.179246  ,  0.13123837,\n",
       "            0.18956403, -0.15045594, -0.08115707, -0.06628931],\n",
       "          [ 0.11039285, -0.1662194 , -0.0325771 ,  0.04728807,\n",
       "            0.02033292,  0.08961005, -0.16727035,  0.09226896,\n",
       "            0.15891053, -0.15883231, -0.11713031,  0.20261309]],\n",
       " \n",
       "         [[-0.13140541, -0.13900937, -0.07804467, -0.12487455,\n",
       "           -0.13486889, -0.19732004,  0.15949681, -0.1478187 ,\n",
       "            0.10626768, -0.01887802, -0.00066839, -0.17365798],\n",
       "          [ 0.19820887,  0.1104151 , -0.20843989, -0.14597352,\n",
       "            0.16190118,  0.07776226,  0.1315814 ,  0.190256  ,\n",
       "            0.12573372, -0.06940003,  0.01572382, -0.0042198 ],\n",
       "          [-0.12722242, -0.07005755,  0.16546811,  0.01837137,\n",
       "           -0.0225178 , -0.11824957, -0.14710641, -0.07606214,\n",
       "           -0.06738606,  0.0702415 ,  0.00386442,  0.19298895],\n",
       "          [-0.16635211,  0.08574523, -0.00937349, -0.070949  ,\n",
       "            0.19262144, -0.10787486, -0.03292696,  0.05823977,\n",
       "            0.13433877,  0.02553918, -0.12725289,  0.16152698]]],\n",
       " \n",
       " \n",
       "        [[[ 0.09751555, -0.17087832,  0.06398702, -0.0950459 ,\n",
       "            0.10902968,  0.14325932, -0.13172047, -0.18822898,\n",
       "            0.07338682,  0.13963431, -0.13341033,  0.11540505],\n",
       "          [ 0.190057  ,  0.19135189, -0.06574436,  0.1284745 ,\n",
       "            0.09687909,  0.04623722,  0.15846406,  0.02364759,\n",
       "           -0.144268  , -0.10941324, -0.09306641,  0.13696697],\n",
       "          [-0.15828028,  0.14820656, -0.00659462,  0.10863473,\n",
       "            0.07117287,  0.01976113, -0.01002281,  0.00111753,\n",
       "           -0.17525774, -0.19937487,  0.17429018,  0.03476232],\n",
       "          [-0.02069489,  0.01653008,  0.02996399, -0.11790638,\n",
       "            0.03833156, -0.03393656,  0.14439675,  0.03915685,\n",
       "            0.00599499, -0.08594479,  0.1199402 ,  0.02370387]],\n",
       " \n",
       "         [[-0.04309924,  0.13162675,  0.02842032, -0.16784379,\n",
       "           -0.17300579, -0.11766593, -0.18992458,  0.13655256,\n",
       "           -0.00278015, -0.01169521,  0.04188198,  0.11840541],\n",
       "          [ 0.02867219, -0.08402202, -0.20956333,  0.0949821 ,\n",
       "            0.07437619,  0.17931227, -0.01749316,  0.14417747,\n",
       "           -0.08215111, -0.01817697, -0.14015399, -0.04963324],\n",
       "          [-0.11935355,  0.04629593, -0.00985706, -0.16912904,\n",
       "            0.1656305 ,  0.20042558,  0.20267242, -0.14356394,\n",
       "            0.18695314, -0.14940363,  0.02795327,  0.18127413],\n",
       "          [ 0.01064964, -0.08068401, -0.15027303, -0.11361977,\n",
       "            0.17693307, -0.13019264,  0.1544287 ,  0.10935249,\n",
       "           -0.00999593,  0.04646775, -0.14313045, -0.02749114]],\n",
       " \n",
       "         [[ 0.15425327,  0.12078019,  0.02192843,  0.09762111,\n",
       "            0.09452834,  0.17500918, -0.03370355,  0.08937216,\n",
       "           -0.16760093,  0.1152412 , -0.04775913, -0.03149306],\n",
       "          [ 0.06415147, -0.10512686,  0.01093899, -0.18330635,\n",
       "           -0.00643841,  0.01186112, -0.11219513, -0.02340793,\n",
       "           -0.04560833,  0.07849889, -0.10891785,  0.073672  ],\n",
       "          [ 0.00728785,  0.12093394,  0.15864377,  0.04277567,\n",
       "            0.15320604,  0.06433044, -0.17312492, -0.17042893,\n",
       "           -0.09097006,  0.15470226, -0.18699521,  0.15605888],\n",
       "          [ 0.0664545 , -0.14358829,  0.16605638,  0.01904305,\n",
       "            0.07200691,  0.10767154,  0.03849518, -0.07193001,\n",
       "           -0.14440489, -0.01524627,  0.07676701,  0.00614757]]]],\n",
       "       dtype=float32),\n",
       " array([ 4.3963396e-04, -4.4329450e-03, -7.5982776e-03,  4.9276799e-03,\n",
       "         3.4941749e-03, -1.2966460e-03,  5.5354987e-03, -5.5548153e-03,\n",
       "         6.5642796e-03, -8.4137283e-03,  4.2968510e-05, -8.4450245e-03],\n",
       "       dtype=float32)]"
      ]
     },
     "execution_count": 29,
     "metadata": {},
     "output_type": "execute_result"
    }
   ],
   "source": [
    "model.layers[8].get_weights()"
   ]
  },
  {
   "cell_type": "code",
   "execution_count": null,
   "metadata": {},
   "outputs": [],
   "source": []
  }
 ],
 "metadata": {
  "kernelspec": {
   "display_name": "Python 2",
   "language": "python",
   "name": "python2"
  },
  "language_info": {
   "codemirror_mode": {
    "name": "ipython",
    "version": 2
   },
   "file_extension": ".py",
   "mimetype": "text/x-python",
   "name": "python",
   "nbconvert_exporter": "python",
   "pygments_lexer": "ipython2",
   "version": "2.7.14"
  }
 },
 "nbformat": 4,
 "nbformat_minor": 2
}
