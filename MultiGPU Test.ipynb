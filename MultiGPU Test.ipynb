{
 "cells": [
  {
   "cell_type": "code",
   "execution_count": 1,
   "metadata": {},
   "outputs": [
    {
     "name": "stderr",
     "output_type": "stream",
     "text": [
      "/Users/Tim/anaconda2/lib/python2.7/site-packages/h5py/__init__.py:36: FutureWarning: Conversion of the second argument of issubdtype from `float` to `np.floating` is deprecated. In future, it will be treated as `np.float64 == np.dtype(float).type`.\n",
      "  from ._conv import register_converters as _register_converters\n",
      "Using TensorFlow backend.\n"
     ]
    }
   ],
   "source": [
    "import weave\n",
    "import keras\n",
    "from keras.datasets import cifar10\n",
    "from keras.utils.np_utils import to_categorical"
   ]
  },
  {
   "cell_type": "code",
   "execution_count": 6,
   "metadata": {},
   "outputs": [
    {
     "name": "stdout",
     "output_type": "stream",
     "text": [
      "GPU settings allow for inf layers\n",
      "Minimum output size allow for 6 layers\n",
      "Number of layers 4\n",
      "First Layer Size: 8 (Number of Units)\n",
      "('Disjoint:', False)\n",
      "number of units 8\n",
      "number of devices 16\n",
      "number of inputs 8\n",
      "First Layer Output Size: 8 (Number of Tensors)\n",
      "('Disjoint:', True)\n",
      "number of units 4\n",
      "number of devices 16\n",
      "number of inputs 8\n",
      "('Disjoint:', True)\n",
      "number of units 2\n",
      "number of devices 16\n",
      "number of inputs 4\n",
      "('Disjoint:', True)\n",
      "number of units 1\n",
      "number of devices 16\n",
      "number of inputs 2\n",
      "Final Layer Size 1\n"
     ]
    }
   ],
   "source": [
    "model = weave.pyrm_net(input_size=(32,32,3),\n",
    "                       n_layers = 4,\n",
    "                       n_filters_start = 5,\n",
    "                       n_gpus = 4,\n",
    "                       min_dim = 4,\n",
    "                      end_max_pool = False)"
   ]
  },
  {
   "cell_type": "code",
   "execution_count": 3,
   "metadata": {},
   "outputs": [
    {
     "name": "stdout",
     "output_type": "stream",
     "text": [
      "(50000, 3, 32, 32)\n",
      "(10000, 10)\n"
     ]
    }
   ],
   "source": [
    "(x_train, y_train), (x_test, y_test) = cifar10.load_data()\n",
    "print(x_train.shape)\n",
    "y_train = to_categorical(y_train, num_classes=10)\n",
    "y_test = to_categorical(y_test, num_classes=10)\n",
    "print(y_test.shape)"
   ]
  },
  {
   "cell_type": "code",
   "execution_count": 7,
   "metadata": {},
   "outputs": [
    {
     "name": "stdout",
     "output_type": "stream",
     "text": [
      "Epoch 1/1\n",
      "100/100 [==============================] - 19s 195ms/step - loss: 9.9868 - acc: 0.1200\n"
     ]
    },
    {
     "data": {
      "text/plain": [
       "<keras.callbacks.History at 0x1c33700a10>"
      ]
     },
     "execution_count": 7,
     "metadata": {},
     "output_type": "execute_result"
    }
   ],
   "source": [
    "viewer = keras.callbacks.TensorBoard(log_dir='./logs', histogram_freq=0, batch_size=32, write_graph=True)\n",
    "model.fit(x_train[0:100], y_train[0:100], callbacks=[viewer])"
   ]
  },
  {
   "cell_type": "code",
   "execution_count": null,
   "metadata": {},
   "outputs": [],
   "source": []
  }
 ],
 "metadata": {
  "kernelspec": {
   "display_name": "Python 2",
   "language": "python",
   "name": "python2"
  },
  "language_info": {
   "codemirror_mode": {
    "name": "ipython",
    "version": 2
   },
   "file_extension": ".py",
   "mimetype": "text/x-python",
   "name": "python",
   "nbconvert_exporter": "python",
   "pygments_lexer": "ipython2",
   "version": "2.7.14"
  }
 },
 "nbformat": 4,
 "nbformat_minor": 2
}
