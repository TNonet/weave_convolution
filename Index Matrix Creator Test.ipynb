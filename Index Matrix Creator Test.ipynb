{
 "cells": [
  {
   "cell_type": "code",
   "execution_count": 1,
   "metadata": {},
   "outputs": [
    {
     "name": "stderr",
     "output_type": "stream",
     "text": [
      "/Users/Tim/anaconda2/lib/python2.7/site-packages/h5py/__init__.py:36: FutureWarning: Conversion of the second argument of issubdtype from `float` to `np.floating` is deprecated. In future, it will be treated as `np.float64 == np.dtype(float).type`.\n",
      "  from ._conv import register_converters as _register_converters\n"
     ]
    }
   ],
   "source": [
    "import numpy as np\n",
    "from tensorflow_weave_help import *\n",
    "from cython_weave import *"
   ]
  },
  {
   "cell_type": "code",
   "execution_count": 2,
   "metadata": {},
   "outputs": [],
   "source": [
    "weave_params = {'num_zeros':2, 'filter_size':3}\n",
    "#I_array_100_40_32_32_3 = create_full_I_array_weave_matrix((100,40,32,32), 10, weave_params)"
   ]
  },
  {
   "cell_type": "code",
   "execution_count": null,
   "metadata": {},
   "outputs": [],
   "source": [
    "\n"
   ]
  },
  {
   "cell_type": "code",
   "execution_count": 3,
   "metadata": {},
   "outputs": [],
   "source": [
    "def create_full_I_array_weave_matrix_fast(input_shape, max_num_images, weave_param):\n",
    "    \"\"\"\n",
    "    createses properly sized 5D indexing tensor, I_array_weave that can be applied to\n",
    "    tf.gather_nd(x, I_array_weave) that will return a tensor that is identical to\n",
    "    x, cache = array_weave_fast_forward(tensor, num_zeros = 2)\n",
    "\n",
    "    However, this takes a while to build in favor of fast execution time in the graph\n",
    "    thus\n",
    "\n",
    "    Creates an matrix of size (num_images, num_filters, height, width, input_tensor_dimension (4))\n",
    "    \"\"\"\n",
    "    num_images,num_filters,num_rows,num_cols = input_shape\n",
    "    num_images = max(max_num_images, num_images)\n",
    "\n",
    "    tensor_dimension = len(input_shape)\n",
    "    if tensor_dimension != 4:\n",
    "        raise ValueError('Must operate on 4D tensors')\n",
    "    if num_rows != num_cols:\n",
    "        raise ValueErrro('Must operate ona square image')\n",
    "    \n",
    "    N_arr = np.arange(1,num_cols**2 + 1).reshape(\n",
    "        [num_rows,num_cols]).astype(float)\n",
    "    N_weave,_ = array_weave_fast_forward(N_arr, weave_param)\n",
    "    num_rows, num_cols = N_weave.shape\n",
    "        \n",
    "    N_weave[np.where(N_weave == 0)] = -1\n",
    "    print(num_cols//(weave_param['num_zeros']+1))\n",
    "    \n",
    "    I_temp = np.zeros([num_rows,num_cols,tensor_dimension])\n",
    "    for i in range(num_cols):\n",
    "        for j in range(num_rows):\n",
    "            i_j_loc = np.where(N_weave[i,j] == N_arr)\n",
    "            if len(i_j_loc[0]) > 0:\n",
    "                I_temp[i,j] = np.array([-2,-3,i_j_loc[0],i_j_loc[1]])\n",
    "            else:\n",
    "                I_temp[i,j] = np.array([0,0,0,num_cols//(weave_param['num_zeros'])])\n",
    "    \n",
    "    I_full = np.zeros([num_images,num_filters,num_rows,num_cols,tensor_dimension])\n",
    "    \n",
    "    for img in range(num_images):\n",
    "        for layer in range(num_filters):\n",
    "            I_temp_current = np.copy(I_temp)\n",
    "            I_temp_current[np.where(I_temp_current == -2)] = img\n",
    "            I_temp_current[np.where(I_temp_current == -3)] = layer\n",
    "            I_full[img,layer] = I_temp_current\n",
    "                        \n",
    "    return I_full.astype(int)\n",
    "\n",
    "def create_full_I_zero_weave_matrix_fast(input_shape, max_num_images, weave_param):\n",
    "    \"\"\"\n",
    "    createses properly sized 5D indexing tensor, I_array_weave that can be applied to\n",
    "    tf.gather_nd(x, I_array_weave) that will return a tensor that is identical to\n",
    "    x, cache = array_weave_fast_forward(tensor, num_zeros = 2)\n",
    "\n",
    "    However, this takes a while to build in favor of fast execution time in the graph\n",
    "    thus\n",
    "\n",
    "    Creates an matrix of size (num_images, num_filters, height, width, input_tensor_dimension (4))\n",
    "    \"\"\"\n",
    "    num_images,num_filters,num_rows,num_cols = input_shape\n",
    "    num_images = max(max_num_images, num_images)\n",
    "\n",
    "    tensor_dimension = len(input_shape)\n",
    "    if tensor_dimension != 4:\n",
    "        raise ValueError('Must operate on 4D tensors')\n",
    "    if num_rows != num_cols:\n",
    "        raise ValueErrro('Must operate ona square image')\n",
    "    \n",
    "    N_arr = np.arange(1,num_cols**2 + 1).reshape(\n",
    "        [num_rows,num_cols]).astype(float)\n",
    "    N_weave,_ = zero_weave_fast_forward(N_arr, weave_param)\n",
    "    num_rows, num_cols = N_weave.shape\n",
    "        \n",
    "    N_weave[np.where(N_weave == 0)] = -1\n",
    "    \n",
    "    I_temp = np.zeros([num_rows,num_cols,tensor_dimension])\n",
    "    for i in range(num_cols):\n",
    "        for j in range(num_rows):\n",
    "            i_j_loc = np.where(N_weave[i,j] == N_arr)\n",
    "            if len(i_j_loc[0]) > 0:\n",
    "                I_temp[i,j] = np.array([-2,-3,i_j_loc[0],i_j_loc[1]])\n",
    "            else:\n",
    "                I_temp[i,j] = np.array([0,0,0,num_cols//(weave_param['num_zeros'])])\n",
    "    \n",
    "    I_full = np.zeros([num_images,num_filters,num_rows,num_cols,tensor_dimension])\n",
    "    \n",
    "    for img in range(num_images):\n",
    "        for layer in range(num_filters):\n",
    "            I_temp_current = np.copy(I_temp)\n",
    "            I_temp_current[np.where(I_temp_current == -2)] = img\n",
    "            I_temp_current[np.where(I_temp_current == -3)] = layer\n",
    "            I_full[img,layer] = I_temp_current\n",
    "                        \n",
    "    return I_full.astype(int)"
   ]
  },
  {
   "cell_type": "code",
   "execution_count": 4,
   "metadata": {},
   "outputs": [
    {
     "name": "stdout",
     "output_type": "stream",
     "text": [
      "4\n",
      "0\n",
      "1\n",
      "2\n",
      "3\n",
      "1.0\n"
     ]
    }
   ],
   "source": [
    "A = create_full_I_array_weave_matrix_fast((4,4,5,5),4,weave_params)\n",
    "B = create_full_I_array_weave_matrix((4,4,5,5), 4, weave_params)\n",
    "print(np.mean(A== B))"
   ]
  },
  {
   "cell_type": "code",
   "execution_count": 5,
   "metadata": {},
   "outputs": [
    {
     "name": "stdout",
     "output_type": "stream",
     "text": [
      "0\n",
      "1\n",
      "2\n",
      "3\n",
      "1.0\n",
      "[[1 0 0 0]\n",
      " [0 0 0 6]\n",
      " [0 0 0 6]\n",
      " [1 0 0 1]\n",
      " [0 0 0 6]\n",
      " [0 0 0 6]\n",
      " [1 0 0 2]\n",
      " [0 0 0 6]\n",
      " [0 0 0 6]\n",
      " [1 0 0 3]\n",
      " [0 0 0 6]\n",
      " [0 0 0 6]\n",
      " [1 0 0 4]]\n",
      "[[1 0 0 0]\n",
      " [0 0 0 6]\n",
      " [0 0 0 6]\n",
      " [1 0 0 1]\n",
      " [0 0 0 6]\n",
      " [0 0 0 6]\n",
      " [1 0 0 2]\n",
      " [0 0 0 6]\n",
      " [0 0 0 6]\n",
      " [1 0 0 3]\n",
      " [0 0 0 6]\n",
      " [0 0 0 6]\n",
      " [1 0 0 4]]\n"
     ]
    }
   ],
   "source": [
    "A = create_full_I_zero_weave_matrix_fast((4,4,5,5),4,weave_params)\n",
    "B = create_full_I_zero_weave_matrix((4,4,5,5), 4, weave_params)\n",
    "print(np.mean(A== B))\n",
    "print(A[1,0,0])\n",
    "print(B[1,0,0])"
   ]
  },
  {
   "cell_type": "code",
   "execution_count": 6,
   "metadata": {},
   "outputs": [],
   "source": [
    "A = create_full_I_zero_weave_matrix_fast((128,50,32,32),128,weave_params)"
   ]
  },
  {
   "cell_type": "code",
   "execution_count": null,
   "metadata": {},
   "outputs": [],
   "source": []
  }
 ],
 "metadata": {
  "kernelspec": {
   "display_name": "Python 2",
   "language": "python",
   "name": "python2"
  },
  "language_info": {
   "codemirror_mode": {
    "name": "ipython",
    "version": 2
   },
   "file_extension": ".py",
   "mimetype": "text/x-python",
   "name": "python",
   "nbconvert_exporter": "python",
   "pygments_lexer": "ipython2",
   "version": "2.7.14"
  }
 },
 "nbformat": 4,
 "nbformat_minor": 2
}
