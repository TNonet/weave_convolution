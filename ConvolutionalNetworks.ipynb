{
 "cells": [
  {
   "cell_type": "markdown",
   "metadata": {},
   "source": [
    "# Convolutional Networks\n",
    "So far we have worked with deep fully-connected networks, using them to explore different optimization strategies and network architectures. Fully-connected networks are a good testbed for experimentation because they are very computationally efficient, but in practice all state-of-the-art results use convolutional networks instead.\n",
    "\n",
    "First you will implement several layer types that are used in convolutional networks. You will then use these layers to train a convolutional network on the CIFAR-10 dataset."
   ]
  },
  {
   "cell_type": "code",
   "execution_count": 1,
   "metadata": {},
   "outputs": [],
   "source": [
    "# As usual, a bit of setup\n",
    "\n",
    "import numpy as np\n",
    "import matplotlib.pyplot as plt\n",
    "from cnn import *\n",
    "from data_utils import get_CIFAR10_data\n",
    "from gradient_check import eval_numerical_gradient_array, eval_numerical_gradient\n",
    "from layers import *\n",
    "from fast_layers import *\n",
    "from solver import Solver\n",
    "\n",
    "%matplotlib inline\n",
    "plt.rcParams['figure.figsize'] = (10.0, 8.0) # set default size of plots\n",
    "plt.rcParams['image.interpolation'] = 'nearest'\n",
    "plt.rcParams['image.cmap'] = 'gray'\n",
    "\n",
    "# for auto-reloading external modules\n",
    "# see http://stackoverflow.com/questions/1907993/autoreload-of-modules-in-ipython\n",
    "%load_ext autoreload\n",
    "%autoreload 2\n",
    "\n",
    "def rel_error(x, y):\n",
    "  \"\"\" returns relative error \"\"\"\n",
    "  return np.max(np.abs(x - y) / (np.maximum(1e-8, np.abs(x) + np.abs(y))))"
   ]
  },
  {
   "cell_type": "code",
   "execution_count": 2,
   "metadata": {},
   "outputs": [
    {
     "name": "stdout",
     "output_type": "stream",
     "text": [
      "X_val:  (1000, 3, 32, 32)\n",
      "X_train:  (49000, 3, 32, 32)\n",
      "X_test:  (1000, 3, 32, 32)\n",
      "y_val:  (1000,)\n",
      "y_train:  (49000,)\n",
      "y_test:  (1000,)\n"
     ]
    }
   ],
   "source": [
    "# Load the (preprocessed) CIFAR10 data.\n",
    "\n",
    "data = get_CIFAR10_data()\n",
    "for k, v in data.iteritems():\n",
    "  print '%s: ' % k, v.shape"
   ]
  },
  {
   "cell_type": "code",
   "execution_count": 48,
   "metadata": {},
   "outputs": [],
   "source": [
    "def num_params(model):\n",
    "    num_params = 0\n",
    "    for _,params in model.params.items():\n",
    "        num_params += params.size\n",
    "    return num_params\n",
    "    "
   ]
  },
  {
   "cell_type": "markdown",
   "metadata": {},
   "source": [
    "# Convolution: Naive backward pass\n",
    "Implement the backward pass for the convolution operation in the function `conv_backward_naive` in the file `layers.py`. Again, you don't need to worry too much about computational efficiency.\n",
    "\n",
    "When you are done, run the following to check your backward pass with a numeric gradient check."
   ]
  },
  {
   "cell_type": "code",
   "execution_count": 29,
   "metadata": {},
   "outputs": [
    {
     "name": "stdout",
     "output_type": "stream",
     "text": [
      "Testing conv_backward_naive function\n",
      "dx zero weave error:  3.275642187690244e-12\n",
      "dx per weave error:  3.276591016995991e-12\n",
      "0.0\n",
      "[[ 2.22621194  0.57452325  1.0845629   2.92986001  0.95375312  1.36679045\n",
      "  -0.61434419  0.51634726  0.4830339  -1.05417265]\n",
      " [-0.75613367 -1.91433492 -0.99453923  0.21700671  0.3522385  -0.87640156\n",
      "  -1.48338496  0.83814374 -0.0818085   0.19158021]\n",
      " [-0.62519081 -2.53100083  0.52556712 -0.74862801 -1.13944397  0.23421354\n",
      "  -0.97619102  0.11251007 -1.57766576  1.20894152]\n",
      " [-0.68459044 -1.04651228 -0.05177406 -0.17967197 -4.50441313 -0.65005073\n",
      "  -2.02636404 -0.61530549 -1.14343432 -2.98613851]\n",
      " [ 1.58988484  0.34650594 -0.30182222  1.44218447 -1.65200108 -3.22947938\n",
      "  -2.39445212 -2.91100437 -3.55387362 -2.12532776]\n",
      " [ 0.00676036  3.29636819 -1.43727822 -3.43263845  1.14799608  1.08916146\n",
      "  -2.35834633  0.31069051 -1.75023665  1.680219  ]\n",
      " [ 3.67501291 -0.88630618  3.3683186  -1.87590113 -0.06224887  0.91341175\n",
      "   0.03420835 -1.14164873  0.01144448 -0.17905719]\n",
      " [-1.03920801  1.68826734 -0.38456325 -1.22708709  0.45636254 -1.83464834\n",
      "   0.92326866 -0.57249311  3.38395     0.76977017]\n",
      " [ 0.72144755  1.1293168   0.94203726  4.09232609  3.10360549 -1.39380261\n",
      "   1.34888064  0.35124268 -0.31286553  1.10989969]\n",
      " [ 0.25323188 -0.44082368  2.29048585 -0.47370258  0.12292461  0.21937532\n",
      "  -0.60589371  1.03696752 -0.60882001 -1.04670408]]\n",
      "()\n",
      "[[ 2.22621194  0.57452325  1.0845629   2.92986001  0.95375312  1.36679045\n",
      "  -0.61434419  0.51634726  0.4830339  -1.05417265]\n",
      " [-0.75613367 -1.91433492 -0.99453923  0.21700671  0.3522385  -0.87640156\n",
      "  -1.48338496  0.83814374 -0.0818085   0.19158021]\n",
      " [-0.62519081 -2.53100083  0.52556712 -0.74862801 -1.13944397  0.23421354\n",
      "  -0.97619102  0.11251007 -1.57766576  1.20894152]\n",
      " [-0.68459044 -1.04651228 -0.05177406 -0.17967197 -4.50441313 -0.65005073\n",
      "  -2.02636404 -0.61530549 -1.14343432 -2.98613851]\n",
      " [ 1.58988484  0.34650594 -0.30182222  1.44218447 -1.65200108 -3.22947938\n",
      "  -2.39445212 -2.91100437 -3.55387362 -2.12532776]\n",
      " [ 0.00676036  3.29636819 -1.43727822 -3.43263845  1.14799608  1.08916146\n",
      "  -2.35834633  0.31069051 -1.75023665  1.680219  ]\n",
      " [ 3.67501291 -0.88630618  3.3683186  -1.87590113 -0.06224887  0.91341175\n",
      "   0.03420835 -1.14164873  0.01144448 -0.17905719]\n",
      " [-1.03920801  1.68826734 -0.38456325 -1.22708709  0.45636254 -1.83464834\n",
      "   0.92326866 -0.57249311  3.38395     0.76977017]\n",
      " [ 0.72144755  1.1293168   0.94203726  4.09232609  3.10360549 -1.39380261\n",
      "   1.34888064  0.35124268 -0.31286553  1.10989969]\n",
      " [ 0.25323188 -0.44082368  2.29048585 -0.47370258  0.12292461  0.21937532\n",
      "  -0.60589371  1.03696752 -0.60882001 -1.04670408]]\n"
     ]
    }
   ],
   "source": [
    "from fancy_conv import *\n",
    "size = 10\n",
    "new_size = 3*size - 2\n",
    "x = np.random.randn(4, 3, size, size)\n",
    "y = np.random.randn(4, 3, new_size, new_size)\n",
    "dout = np.random.randn(4,3,new_size,new_size)\n",
    "weave_param = {'num_zeros': 2, 'filter_size': 3}\n",
    "\n",
    "dx_num_zero_weave  = eval_numerical_gradient_array(lambda x: zero_weave_forward(x, weave_param)[0], x, dout)\n",
    "dx_num_per_weave = eval_numerical_gradient_array(lambda x: array_weave_forwards(x, weave_param)[0], x, dout)\n",
    "\n",
    "add_out = array_sum_backwards(x, y)\n",
    "zero_out, zero_cache = zero_weave_forward(x, weave_param)\n",
    "weave_out, weave_cache = array_weave_forwards(x, weave_param)\n",
    "\n",
    "dx_zero = zero_weave_backwards(dout, zero_cache)\n",
    "dx_weave = array_weave_backwards(dout, weave_cache)\n",
    "dx_weave_naive = array_weave_backwards_naive(dout, weave_cache)\n",
    "# Your errors should be around 1e-9'\n",
    "print 'Testing conv_backward_naive function'\n",
    "print 'dx zero weave error: ', rel_error(dx_zero, dx_num_zero_weave)\n",
    "print 'dx per weave error: ', rel_error(dx_num_per_weave, dx_weave)\n",
    "print((dx_weave-dx_weave_naive).mean())\n",
    "print(dx_num_per_weave[0][0])\n",
    "print()\n",
    "print(dx_weave[0][0])"
   ]
  },
  {
   "cell_type": "markdown",
   "metadata": {},
   "source": [
    "# Three-layer ConvNet\n",
    "Now that you have implemented all the necessary layers, we can put them together into a simple convolutional network.\n",
    "\n",
    "Open the file `cnn.py` and complete the implementation of the `ThreeLayerConvNet` class. Run the following cells to help you debug:"
   ]
  },
  {
   "cell_type": "markdown",
   "metadata": {},
   "source": [
    "## Sanity check loss\n",
    "After you build a new network, one of the first things you should do is sanity check the loss. When we use the softmax loss, we expect the loss for random weights (and no regularization) to be about `log(C)` for `C` classes. When we add regularization this should go up."
   ]
  },
  {
   "cell_type": "code",
   "execution_count": 3,
   "metadata": {},
   "outputs": [
    {
     "name": "stdout",
     "output_type": "stream",
     "text": [
      "Initial loss (no regularization):  2.3025243347963156\n",
      "Initial loss (with regularization):  2.5105028665145697\n"
     ]
    }
   ],
   "source": [
    "model = ThreeLayerFancyNet()\n",
    "\n",
    "m = 50\n",
    "X = np.random.randn(m, 3, 32, 32)\n",
    "y = np.random.randint(10, size=m)\n",
    "\n",
    "loss, grads = model.loss(X, y)\n",
    "print 'Initial loss (no regularization): ', loss\n",
    "\n",
    "model.reg = 0.5\n",
    "loss, grads = model.loss(X, y)\n",
    "print 'Initial loss (with regularization): ', loss"
   ]
  },
  {
   "cell_type": "markdown",
   "metadata": {},
   "source": [
    "## Gradient check\n",
    "After the loss looks reasonable, use numeric gradient checking to make sure that your backward pass is correct. When you use numeric gradient checking you should use a small amount of artifical data and a small number of neurons at each layer."
   ]
  },
  {
   "cell_type": "code",
   "execution_count": 4,
   "metadata": {},
   "outputs": [
    {
     "name": "stdout",
     "output_type": "stream",
     "text": [
      "theta_affine_1 max relative error: 3.643688e-02\n",
      "theta_affine_1_0 max relative error: 1.000000e+00\n",
      "theta_affine_2 max relative error: 3.245088e-02\n",
      "theta_affine_2_0 max relative error: 1.796813e-09\n",
      "theta_large max relative error: 3.141255e-01\n",
      "theta_large_0 max relative error: 3.263362e-01\n",
      "theta_loc max relative error: 1.823032e-01\n",
      "theta_loc_0 max relative error: 1.085665e-02\n",
      "theta_per max relative error: 1.000000e+00\n",
      "theta_per_0 max relative error: 1.000000e+00\n"
     ]
    }
   ],
   "source": [
    "num_inputs = 2\n",
    "input_dim = (3, 16, 16)\n",
    "reg = 0.0\n",
    "num_classes = 10\n",
    "X = np.random.randn(num_inputs, *input_dim)\n",
    "y = np.random.randint(num_classes, size=num_inputs)\n",
    "\n",
    "model = ThreeLayerFancyNet(num_filters=3, filter_size=3,\n",
    "                          input_dim=input_dim, hidden_dim=7,\n",
    "                          dtype=np.float64)\n",
    "loss, grads = model.loss(X, y)\n",
    "for param_name in sorted(grads):\n",
    "    f = lambda _: model.loss(X, y)[0]\n",
    "    param_grad_num = eval_numerical_gradient(f, model.params[param_name], verbose=False, h=1e-6)\n",
    "    e = rel_error(param_grad_num, grads[param_name])\n",
    "    print '%s max relative error: %e' % (param_name, rel_error(param_grad_num, grads[param_name]))"
   ]
  },
  {
   "cell_type": "markdown",
   "metadata": {},
   "source": [
    "## Overfit small data\n",
    "A nice trick is to train your model with just a few training samples. You should be able to overfit small datasets, which will result in very high training accuracy (very close to 1.00) and comparatively low validation accuracy (in the 0.20-0.25 range)."
   ]
  },
  {
   "cell_type": "code",
   "execution_count": 5,
   "metadata": {},
   "outputs": [
    {
     "name": "stdout",
     "output_type": "stream",
     "text": [
      "(Iteration 1 / 40) loss: 2.302842\n",
      "(Epoch 0 / 20) train acc: 0.120000; val_acc: 0.105000\n",
      "(Epoch 1 / 20) train acc: 0.230000; val_acc: 0.154000\n",
      "(Epoch 2 / 20) train acc: 0.240000; val_acc: 0.117000\n",
      "(Epoch 3 / 20) train acc: 0.370000; val_acc: 0.135000\n",
      "(Epoch 4 / 20) train acc: 0.370000; val_acc: 0.175000\n",
      "(Epoch 5 / 20) train acc: 0.450000; val_acc: 0.195000\n",
      "(Iteration 11 / 40) loss: 1.509542\n",
      "(Epoch 6 / 20) train acc: 0.480000; val_acc: 0.175000\n",
      "(Epoch 7 / 20) train acc: 0.660000; val_acc: 0.199000\n",
      "(Epoch 8 / 20) train acc: 0.690000; val_acc: 0.195000\n",
      "(Epoch 9 / 20) train acc: 0.690000; val_acc: 0.183000\n",
      "(Epoch 10 / 20) train acc: 0.780000; val_acc: 0.183000\n",
      "(Iteration 21 / 40) loss: 0.703558\n",
      "(Epoch 11 / 20) train acc: 0.830000; val_acc: 0.201000\n",
      "(Epoch 12 / 20) train acc: 0.860000; val_acc: 0.189000\n",
      "(Epoch 13 / 20) train acc: 0.880000; val_acc: 0.184000\n",
      "(Epoch 14 / 20) train acc: 0.920000; val_acc: 0.197000\n",
      "(Epoch 15 / 20) train acc: 0.960000; val_acc: 0.198000\n",
      "(Iteration 31 / 40) loss: 0.069894\n",
      "(Epoch 16 / 20) train acc: 0.970000; val_acc: 0.226000\n",
      "(Epoch 17 / 20) train acc: 0.990000; val_acc: 0.237000\n",
      "(Epoch 18 / 20) train acc: 0.990000; val_acc: 0.224000\n",
      "(Epoch 19 / 20) train acc: 0.990000; val_acc: 0.213000\n",
      "(Epoch 20 / 20) train acc: 0.980000; val_acc: 0.188000\n"
     ]
    }
   ],
   "source": [
    "num_train = 100\n",
    "small_data = {\n",
    "  'X_train': data['X_train'][:num_train],\n",
    "  'y_train': data['y_train'][:num_train],\n",
    "  'X_val': data['X_val'],\n",
    "  'y_val': data['y_val'],\n",
    "}\n",
    "model_fanc = ThreeLayerFancyNet(weight_scale=1e-2)\n",
    "\n",
    "solver_fanc = Solver(model_fanc, small_data,\n",
    "                num_epochs=20, batch_size=50,\n",
    "                update_rule='adam',\n",
    "                optim_config={\n",
    "                  'learning_rate': 1e-3,\n",
    "                },\n",
    "                verbose=True, print_every=10)\n",
    "solver_fanc.train()"
   ]
  },
  {
   "cell_type": "code",
   "execution_count": 40,
   "metadata": {},
   "outputs": [
    {
     "name": "stdout",
     "output_type": "stream",
     "text": [
      "(Iteration 1 / 2000) loss: 2.307102\n",
      "(Epoch 0 / 20) train acc: 0.150000; val_acc: 0.146000\n",
      "(Iteration 11 / 2000) loss: 2.018053\n",
      "(Iteration 21 / 2000) loss: 1.673560\n",
      "(Iteration 31 / 2000) loss: 1.891853\n",
      "(Iteration 41 / 2000) loss: 2.094593\n",
      "(Iteration 51 / 2000) loss: 1.932086\n",
      "(Iteration 61 / 2000) loss: 1.784535\n",
      "(Iteration 71 / 2000) loss: 1.832249\n",
      "(Iteration 81 / 2000) loss: 1.537012\n",
      "(Iteration 91 / 2000) loss: 1.445745\n",
      "(Epoch 1 / 20) train acc: 0.479000; val_acc: 0.404000\n",
      "(Iteration 101 / 2000) loss: 1.300947\n",
      "(Iteration 111 / 2000) loss: 1.494999\n",
      "(Iteration 121 / 2000) loss: 1.330065\n",
      "(Iteration 131 / 2000) loss: 1.456870\n",
      "(Iteration 141 / 2000) loss: 1.559031\n",
      "(Iteration 151 / 2000) loss: 1.241629\n",
      "(Iteration 161 / 2000) loss: 1.281059\n",
      "(Iteration 171 / 2000) loss: 1.429651\n",
      "(Iteration 181 / 2000) loss: 1.561921\n",
      "(Iteration 191 / 2000) loss: 1.272349\n",
      "(Epoch 2 / 20) train acc: 0.526000; val_acc: 0.435000\n",
      "(Iteration 201 / 2000) loss: 1.390059\n",
      "(Iteration 211 / 2000) loss: 1.005334\n",
      "(Iteration 221 / 2000) loss: 1.138204\n",
      "(Iteration 231 / 2000) loss: 0.974747\n",
      "(Iteration 241 / 2000) loss: 1.294420\n",
      "(Iteration 251 / 2000) loss: 1.195369\n",
      "(Iteration 261 / 2000) loss: 1.342960\n",
      "(Iteration 271 / 2000) loss: 1.189627\n",
      "(Iteration 281 / 2000) loss: 1.413582\n",
      "(Iteration 291 / 2000) loss: 1.345305\n",
      "(Epoch 3 / 20) train acc: 0.612000; val_acc: 0.479000\n",
      "(Iteration 301 / 2000) loss: 1.177379\n",
      "(Iteration 311 / 2000) loss: 0.887659\n",
      "(Iteration 321 / 2000) loss: 1.267533\n",
      "(Iteration 331 / 2000) loss: 1.314639\n",
      "(Iteration 341 / 2000) loss: 1.009677\n",
      "(Iteration 351 / 2000) loss: 0.859453\n",
      "(Iteration 361 / 2000) loss: 1.156696\n",
      "(Iteration 371 / 2000) loss: 0.988603\n",
      "(Iteration 381 / 2000) loss: 0.846342\n",
      "(Iteration 391 / 2000) loss: 1.224931\n",
      "(Epoch 4 / 20) train acc: 0.646000; val_acc: 0.455000\n",
      "(Iteration 401 / 2000) loss: 0.962431\n",
      "(Iteration 411 / 2000) loss: 0.812743\n",
      "(Iteration 421 / 2000) loss: 1.066186\n",
      "(Iteration 431 / 2000) loss: 0.880474\n",
      "(Iteration 441 / 2000) loss: 0.942110\n",
      "(Iteration 451 / 2000) loss: 1.171437\n",
      "(Iteration 461 / 2000) loss: 1.285202\n",
      "(Iteration 471 / 2000) loss: 1.092044\n",
      "(Iteration 481 / 2000) loss: 0.780436\n",
      "(Iteration 491 / 2000) loss: 0.872494\n",
      "(Epoch 5 / 20) train acc: 0.676000; val_acc: 0.507000\n",
      "(Iteration 501 / 2000) loss: 1.094662\n",
      "(Iteration 511 / 2000) loss: 0.879505\n",
      "(Iteration 521 / 2000) loss: 0.899808\n",
      "(Iteration 531 / 2000) loss: 1.039939\n",
      "(Iteration 541 / 2000) loss: 1.134600\n",
      "(Iteration 551 / 2000) loss: 0.956618\n",
      "(Iteration 561 / 2000) loss: 0.766157\n",
      "(Iteration 571 / 2000) loss: 1.011987\n",
      "(Iteration 581 / 2000) loss: 0.784083\n",
      "(Iteration 591 / 2000) loss: 1.093617\n",
      "(Epoch 6 / 20) train acc: 0.761000; val_acc: 0.487000\n",
      "(Iteration 601 / 2000) loss: 0.751958\n",
      "(Iteration 611 / 2000) loss: 0.824060\n",
      "(Iteration 621 / 2000) loss: 0.783481\n",
      "(Iteration 631 / 2000) loss: 1.016062\n",
      "(Iteration 641 / 2000) loss: 0.812344\n",
      "(Iteration 651 / 2000) loss: 0.845138\n",
      "(Iteration 661 / 2000) loss: 0.846275\n",
      "(Iteration 671 / 2000) loss: 0.757905\n",
      "(Iteration 681 / 2000) loss: 0.768789\n",
      "(Iteration 691 / 2000) loss: 0.709236\n",
      "(Epoch 7 / 20) train acc: 0.771000; val_acc: 0.500000\n",
      "(Iteration 701 / 2000) loss: 0.641244\n",
      "(Iteration 711 / 2000) loss: 0.522784\n",
      "(Iteration 721 / 2000) loss: 0.562363\n",
      "(Iteration 731 / 2000) loss: 0.573914\n",
      "(Iteration 741 / 2000) loss: 0.712298\n",
      "(Iteration 751 / 2000) loss: 0.537478\n",
      "(Iteration 761 / 2000) loss: 0.635166\n",
      "(Iteration 771 / 2000) loss: 0.664256\n",
      "(Iteration 781 / 2000) loss: 0.389257\n",
      "(Iteration 791 / 2000) loss: 0.356334\n",
      "(Epoch 8 / 20) train acc: 0.753000; val_acc: 0.481000\n",
      "(Iteration 801 / 2000) loss: 0.859782\n",
      "(Iteration 811 / 2000) loss: 0.712371\n",
      "(Iteration 821 / 2000) loss: 0.519273\n",
      "(Iteration 831 / 2000) loss: 0.525981\n",
      "(Iteration 841 / 2000) loss: 0.783821\n",
      "(Iteration 851 / 2000) loss: 0.692345\n",
      "(Iteration 861 / 2000) loss: 0.925634\n",
      "(Iteration 871 / 2000) loss: 0.747564\n",
      "(Iteration 881 / 2000) loss: 0.588675\n",
      "(Iteration 891 / 2000) loss: 0.593928\n",
      "(Epoch 9 / 20) train acc: 0.785000; val_acc: 0.454000\n",
      "(Iteration 901 / 2000) loss: 0.432092\n",
      "(Iteration 911 / 2000) loss: 0.545228\n",
      "(Iteration 921 / 2000) loss: 0.490169\n",
      "(Iteration 931 / 2000) loss: 0.502775\n",
      "(Iteration 941 / 2000) loss: 0.664289\n",
      "(Iteration 951 / 2000) loss: 0.361706\n",
      "(Iteration 961 / 2000) loss: 0.514606\n",
      "(Iteration 971 / 2000) loss: 0.576648\n",
      "(Iteration 981 / 2000) loss: 0.499417\n",
      "(Iteration 991 / 2000) loss: 0.471685\n",
      "(Epoch 10 / 20) train acc: 0.814000; val_acc: 0.490000\n",
      "(Iteration 1001 / 2000) loss: 0.483470\n",
      "(Iteration 1011 / 2000) loss: 0.365848\n",
      "(Iteration 1021 / 2000) loss: 0.444945\n",
      "(Iteration 1031 / 2000) loss: 0.413969\n",
      "(Iteration 1041 / 2000) loss: 0.317878\n",
      "(Iteration 1051 / 2000) loss: 0.353522\n",
      "(Iteration 1061 / 2000) loss: 0.646361\n",
      "(Iteration 1071 / 2000) loss: 0.377523\n",
      "(Iteration 1081 / 2000) loss: 0.397774\n",
      "(Iteration 1091 / 2000) loss: 0.433461\n",
      "(Epoch 11 / 20) train acc: 0.872000; val_acc: 0.497000\n",
      "(Iteration 1101 / 2000) loss: 0.438087\n",
      "(Iteration 1111 / 2000) loss: 0.190126\n",
      "(Iteration 1121 / 2000) loss: 0.490223\n",
      "(Iteration 1131 / 2000) loss: 0.389177\n",
      "(Iteration 1141 / 2000) loss: 0.240766\n",
      "(Iteration 1151 / 2000) loss: 0.492369\n",
      "(Iteration 1161 / 2000) loss: 0.573036\n",
      "(Iteration 1171 / 2000) loss: 0.589593\n",
      "(Iteration 1181 / 2000) loss: 0.665599\n",
      "(Iteration 1191 / 2000) loss: 0.600970\n",
      "(Epoch 12 / 20) train acc: 0.824000; val_acc: 0.500000\n",
      "(Iteration 1201 / 2000) loss: 0.433126\n",
      "(Iteration 1211 / 2000) loss: 0.467323\n",
      "(Iteration 1221 / 2000) loss: 0.369672\n",
      "(Iteration 1231 / 2000) loss: 0.402566\n",
      "(Iteration 1241 / 2000) loss: 0.378008\n",
      "(Iteration 1251 / 2000) loss: 0.617355\n",
      "(Iteration 1261 / 2000) loss: 0.216974\n",
      "(Iteration 1271 / 2000) loss: 0.408652\n",
      "(Iteration 1281 / 2000) loss: 0.322132\n",
      "(Iteration 1291 / 2000) loss: 0.220009\n",
      "(Epoch 13 / 20) train acc: 0.890000; val_acc: 0.485000\n",
      "(Iteration 1301 / 2000) loss: 0.334141\n",
      "(Iteration 1311 / 2000) loss: 0.427585\n",
      "(Iteration 1321 / 2000) loss: 0.239320\n",
      "(Iteration 1331 / 2000) loss: 0.297452\n",
      "(Iteration 1341 / 2000) loss: 0.292528\n",
      "(Iteration 1351 / 2000) loss: 0.405476\n",
      "(Iteration 1361 / 2000) loss: 0.230663\n",
      "(Iteration 1371 / 2000) loss: 0.422469\n",
      "(Iteration 1381 / 2000) loss: 0.393682\n",
      "(Iteration 1391 / 2000) loss: 0.276800\n",
      "(Epoch 14 / 20) train acc: 0.876000; val_acc: 0.472000\n",
      "(Iteration 1401 / 2000) loss: 0.221937\n",
      "(Iteration 1411 / 2000) loss: 0.581758\n",
      "(Iteration 1421 / 2000) loss: 0.343423\n",
      "(Iteration 1431 / 2000) loss: 0.389327\n",
      "(Iteration 1441 / 2000) loss: 0.209094\n",
      "(Iteration 1451 / 2000) loss: 0.516212\n",
      "(Iteration 1461 / 2000) loss: 0.277953\n",
      "(Iteration 1471 / 2000) loss: 0.224476\n",
      "(Iteration 1481 / 2000) loss: 0.167738\n",
      "(Iteration 1491 / 2000) loss: 0.187850\n",
      "(Epoch 15 / 20) train acc: 0.910000; val_acc: 0.501000\n",
      "(Iteration 1501 / 2000) loss: 0.163635\n",
      "(Iteration 1511 / 2000) loss: 0.270696\n",
      "(Iteration 1521 / 2000) loss: 0.272643\n",
      "(Iteration 1531 / 2000) loss: 0.570428\n",
      "(Iteration 1541 / 2000) loss: 0.284440\n",
      "(Iteration 1551 / 2000) loss: 0.186836\n",
      "(Iteration 1561 / 2000) loss: 0.274073\n",
      "(Iteration 1571 / 2000) loss: 0.205032\n",
      "(Iteration 1581 / 2000) loss: 0.371238\n",
      "(Iteration 1591 / 2000) loss: 0.180412\n",
      "(Epoch 16 / 20) train acc: 0.911000; val_acc: 0.498000\n",
      "(Iteration 1601 / 2000) loss: 0.168547\n",
      "(Iteration 1611 / 2000) loss: 0.174465\n",
      "(Iteration 1621 / 2000) loss: 0.219966\n",
      "(Iteration 1631 / 2000) loss: 0.177541\n",
      "(Iteration 1641 / 2000) loss: 0.191267\n",
      "(Iteration 1651 / 2000) loss: 0.447052\n",
      "(Iteration 1661 / 2000) loss: 0.227818\n",
      "(Iteration 1671 / 2000) loss: 0.124667\n",
      "(Iteration 1681 / 2000) loss: 0.162688\n",
      "(Iteration 1691 / 2000) loss: 0.190432\n",
      "(Epoch 17 / 20) train acc: 0.929000; val_acc: 0.500000\n",
      "(Iteration 1701 / 2000) loss: 0.386270\n",
      "(Iteration 1711 / 2000) loss: 0.291949\n",
      "(Iteration 1721 / 2000) loss: 0.278614\n",
      "(Iteration 1731 / 2000) loss: 0.441292\n",
      "(Iteration 1741 / 2000) loss: 0.443213\n",
      "(Iteration 1751 / 2000) loss: 0.178741\n",
      "(Iteration 1761 / 2000) loss: 0.141034\n",
      "(Iteration 1771 / 2000) loss: 0.186476\n",
      "(Iteration 1781 / 2000) loss: 0.498664\n",
      "(Iteration 1791 / 2000) loss: 0.511761\n",
      "(Epoch 18 / 20) train acc: 0.917000; val_acc: 0.499000\n",
      "(Iteration 1801 / 2000) loss: 0.291075\n",
      "(Iteration 1811 / 2000) loss: 0.364657\n",
      "(Iteration 1821 / 2000) loss: 0.453220\n",
      "(Iteration 1831 / 2000) loss: 0.536780\n",
      "(Iteration 1841 / 2000) loss: 0.313922\n",
      "(Iteration 1851 / 2000) loss: 0.156694\n",
      "(Iteration 1861 / 2000) loss: 0.156360\n"
     ]
    },
    {
     "name": "stdout",
     "output_type": "stream",
     "text": [
      "(Iteration 1871 / 2000) loss: 0.082005\n",
      "(Iteration 1881 / 2000) loss: 0.063219\n",
      "(Iteration 1891 / 2000) loss: 0.058786\n",
      "(Epoch 19 / 20) train acc: 0.940000; val_acc: 0.505000\n",
      "(Iteration 1901 / 2000) loss: 0.235800\n",
      "(Iteration 1911 / 2000) loss: 0.185078\n",
      "(Iteration 1921 / 2000) loss: 0.168429\n",
      "(Iteration 1931 / 2000) loss: 0.122564\n",
      "(Iteration 1941 / 2000) loss: 0.265986\n",
      "(Iteration 1951 / 2000) loss: 0.355912\n",
      "(Iteration 1961 / 2000) loss: 0.382182\n",
      "(Iteration 1971 / 2000) loss: 0.085451\n",
      "(Iteration 1981 / 2000) loss: 0.186453\n",
      "(Iteration 1991 / 2000) loss: 0.186655\n",
      "(Epoch 20 / 20) train acc: 0.958000; val_acc: 0.477000\n"
     ]
    }
   ],
   "source": [
    "model_norm = ThreeLayerNet(weight_scale=1e-2)\n",
    "\n",
    "solver_norm = Solver(model_norm, small_data,\n",
    "                num_epochs=20, batch_size=50,\n",
    "                update_rule='adam',\n",
    "                optim_config={\n",
    "                  'learning_rate': 1e-3,\n",
    "                },\n",
    "                verbose=True, print_every=10)\n",
    "\n",
    "solver_norm.train()"
   ]
  },
  {
   "cell_type": "markdown",
   "metadata": {},
   "source": [
    "Plotting the loss, training accuracy, and validation accuracy should show clear overfitting:"
   ]
  },
  {
   "cell_type": "code",
   "execution_count": 41,
   "metadata": {},
   "outputs": [
    {
     "data": {
      "image/png": "[encoded data removed]",
      "text/plain": [
       "<matplotlib.figure.Figure at 0x180c25af10>"
      ]
     },
     "metadata": {},
     "output_type": "display_data"
    }
   ],
   "source": [
    "plt.plot(solver_norm.train_acc_history, '-o')\n",
    "plt.plot(solver_norm.val_acc_history, '-o')\n",
    "plt.plot(solver_fanc.train_acc_history, '-o')\n",
    "plt.plot(solver_fanc.val_acc_history, '-o')\n",
    "plt.legend(['train_norm', 'val_norm', 'train_fanc','val_norm'], loc='upper left')\n",
    "plt.xlabel('epoch')\n",
    "plt.ylabel('accuracy')\n",
    "plt.show()"
   ]
  },
  {
   "cell_type": "code",
   "execution_count": 50,
   "metadata": {},
   "outputs": [
    {
     "name": "stdout",
     "output_type": "stream",
     "text": [
      "831350\n",
      "821206\n"
     ]
    }
   ],
   "source": [
    "print(num_params(model_fanc))\n",
    "print(num_params(model_norm))"
   ]
  },
  {
   "cell_type": "markdown",
   "metadata": {},
   "source": [
    "## Train the net\n",
    "By training the three-layer convolutional network for one epoch, you should achieve greater than 40% accuracy on the training set:"
   ]
  },
  {
   "cell_type": "code",
   "execution_count": 6,
   "metadata": {
    "scrolled": false
   },
   "outputs": [
    {
     "name": "stdout",
     "output_type": "stream",
     "text": [
      "(Iteration 1 / 19600) loss: 2.303709\n",
      "(Epoch 0 / 20) train acc: 0.109000; val_acc: 0.113000\n",
      "(Iteration 21 / 19600) loss: 2.262710\n",
      "(Iteration 41 / 19600) loss: 2.082965\n",
      "(Iteration 61 / 19600) loss: 2.081170\n",
      "(Iteration 81 / 19600) loss: 1.983518\n",
      "(Iteration 101 / 19600) loss: 1.958206\n",
      "(Iteration 121 / 19600) loss: 1.893271\n",
      "(Iteration 141 / 19600) loss: 1.699172\n",
      "(Iteration 161 / 19600) loss: 1.807587\n",
      "(Iteration 181 / 19600) loss: 1.572378\n",
      "(Iteration 201 / 19600) loss: 1.977285\n",
      "(Iteration 221 / 19600) loss: 1.899581\n",
      "(Iteration 241 / 19600) loss: 1.602887\n",
      "(Iteration 261 / 19600) loss: 1.581265\n",
      "(Iteration 281 / 19600) loss: 1.486260\n",
      "(Iteration 301 / 19600) loss: 1.489862\n",
      "(Iteration 321 / 19600) loss: 1.891634\n",
      "(Iteration 341 / 19600) loss: 1.633471\n",
      "(Iteration 361 / 19600) loss: 1.700674\n",
      "(Iteration 381 / 19600) loss: 1.148109\n",
      "(Iteration 401 / 19600) loss: 1.658139\n",
      "(Iteration 421 / 19600) loss: 1.446442\n",
      "(Iteration 441 / 19600) loss: 1.540025\n",
      "(Iteration 461 / 19600) loss: 1.744635\n",
      "(Iteration 481 / 19600) loss: 1.707548\n",
      "(Iteration 501 / 19600) loss: 1.490318\n",
      "(Iteration 521 / 19600) loss: 1.486431\n",
      "(Iteration 541 / 19600) loss: 1.773112\n",
      "(Iteration 561 / 19600) loss: 1.472805\n",
      "(Iteration 581 / 19600) loss: 1.469318\n",
      "(Iteration 601 / 19600) loss: 1.495105\n",
      "(Iteration 621 / 19600) loss: 1.872443\n",
      "(Iteration 641 / 19600) loss: 1.578694\n",
      "(Iteration 661 / 19600) loss: 1.898928\n",
      "(Iteration 681 / 19600) loss: 1.518766\n",
      "(Iteration 701 / 19600) loss: 1.588772\n",
      "(Iteration 721 / 19600) loss: 1.473063\n",
      "(Iteration 741 / 19600) loss: 1.607802\n",
      "(Iteration 761 / 19600) loss: 1.724687\n",
      "(Iteration 781 / 19600) loss: 1.172306\n",
      "(Iteration 801 / 19600) loss: 1.426429\n",
      "(Iteration 821 / 19600) loss: 1.281656\n",
      "(Iteration 841 / 19600) loss: 1.742670\n",
      "(Iteration 861 / 19600) loss: 1.264789\n",
      "(Iteration 881 / 19600) loss: 1.472043\n",
      "(Iteration 901 / 19600) loss: 1.314550\n",
      "(Iteration 921 / 19600) loss: 1.198540\n",
      "(Iteration 941 / 19600) loss: 1.322571\n",
      "(Iteration 961 / 19600) loss: 1.635582\n",
      "(Epoch 1 / 20) train acc: 0.557000; val_acc: 0.499000\n",
      "(Iteration 981 / 19600) loss: 1.442474\n",
      "(Iteration 1001 / 19600) loss: 1.412719\n",
      "(Iteration 1021 / 19600) loss: 1.266306\n",
      "(Iteration 1041 / 19600) loss: 1.498312\n",
      "(Iteration 1061 / 19600) loss: 1.467273\n",
      "(Iteration 1081 / 19600) loss: 1.248807\n",
      "(Iteration 1101 / 19600) loss: 1.320378\n",
      "(Iteration 1121 / 19600) loss: 1.349390\n",
      "(Iteration 1141 / 19600) loss: 1.774970\n",
      "(Iteration 1161 / 19600) loss: 1.277882\n",
      "(Iteration 1181 / 19600) loss: 1.305885\n",
      "(Iteration 1201 / 19600) loss: 1.351705\n",
      "(Iteration 1221 / 19600) loss: 1.245986\n",
      "(Iteration 1241 / 19600) loss: 1.428350\n",
      "(Iteration 1261 / 19600) loss: 1.325513\n",
      "(Iteration 1281 / 19600) loss: 1.568580\n",
      "(Iteration 1301 / 19600) loss: 1.345233\n",
      "(Iteration 1321 / 19600) loss: 1.304115\n",
      "(Iteration 1341 / 19600) loss: 1.281704\n",
      "(Iteration 1361 / 19600) loss: 1.454605\n",
      "(Iteration 1381 / 19600) loss: 1.186057\n",
      "(Iteration 1401 / 19600) loss: 1.169068\n",
      "(Iteration 1421 / 19600) loss: 1.317276\n",
      "(Iteration 1441 / 19600) loss: 1.299577\n",
      "(Iteration 1461 / 19600) loss: 1.384928\n",
      "(Iteration 1481 / 19600) loss: 1.329987\n",
      "(Iteration 1501 / 19600) loss: 1.766087\n",
      "(Iteration 1521 / 19600) loss: 1.255000\n",
      "(Iteration 1541 / 19600) loss: 1.262509\n",
      "(Iteration 1561 / 19600) loss: 1.456416\n",
      "(Iteration 1581 / 19600) loss: 1.237050\n",
      "(Iteration 1601 / 19600) loss: 1.204938\n",
      "(Iteration 1621 / 19600) loss: 1.163909\n",
      "(Iteration 1641 / 19600) loss: 1.406080\n",
      "(Iteration 1661 / 19600) loss: 1.314875\n",
      "(Iteration 1681 / 19600) loss: 1.325296\n",
      "(Iteration 1701 / 19600) loss: 1.118655\n"
     ]
    },
    {
     "ename": "KeyboardInterrupt",
     "evalue": "",
     "output_type": "error",
     "traceback": [
      "\u001b[0;31m---------------------------------------------------------------------------\u001b[0m",
      "\u001b[0;31mKeyboardInterrupt\u001b[0m                         Traceback (most recent call last)",
      "\u001b[0;32m<ipython-input-6-2aa58684e642>\u001b[0m in \u001b[0;36m<module>\u001b[0;34m()\u001b[0m\n\u001b[1;32m      8\u001b[0m                 },\n\u001b[1;32m      9\u001b[0m                 verbose=True, print_every=20)\n\u001b[0;32m---> 10\u001b[0;31m \u001b[0mfull_solver\u001b[0m\u001b[0;34m.\u001b[0m\u001b[0mtrain\u001b[0m\u001b[0;34m(\u001b[0m\u001b[0;34m)\u001b[0m\u001b[0;34m\u001b[0m\u001b[0m\n\u001b[0m",
      "\u001b[0;32m/Users/Tim/Documents/GitHub/weave_convolution/solver.pyc\u001b[0m in \u001b[0;36mtrain\u001b[0;34m(self)\u001b[0m\n\u001b[1;32m    225\u001b[0m \u001b[0;34m\u001b[0m\u001b[0m\n\u001b[1;32m    226\u001b[0m     \u001b[0;32mfor\u001b[0m \u001b[0mt\u001b[0m \u001b[0;32min\u001b[0m \u001b[0mxrange\u001b[0m\u001b[0;34m(\u001b[0m\u001b[0mnum_iterations\u001b[0m\u001b[0;34m)\u001b[0m\u001b[0;34m:\u001b[0m\u001b[0;34m\u001b[0m\u001b[0m\n\u001b[0;32m--> 227\u001b[0;31m       \u001b[0mself\u001b[0m\u001b[0;34m.\u001b[0m\u001b[0m_step\u001b[0m\u001b[0;34m(\u001b[0m\u001b[0;34m)\u001b[0m\u001b[0;34m\u001b[0m\u001b[0m\n\u001b[0m\u001b[1;32m    228\u001b[0m \u001b[0;34m\u001b[0m\u001b[0m\n\u001b[1;32m    229\u001b[0m       \u001b[0;31m# Maybe print training loss\u001b[0m\u001b[0;34m\u001b[0m\u001b[0;34m\u001b[0m\u001b[0m\n",
      "\u001b[0;32m/Users/Tim/Documents/GitHub/weave_convolution/solver.pyc\u001b[0m in \u001b[0;36m_step\u001b[0;34m(self)\u001b[0m\n\u001b[1;32m    163\u001b[0m \u001b[0;34m\u001b[0m\u001b[0m\n\u001b[1;32m    164\u001b[0m     \u001b[0;31m# Compute loss and gradient\u001b[0m\u001b[0;34m\u001b[0m\u001b[0;34m\u001b[0m\u001b[0m\n\u001b[0;32m--> 165\u001b[0;31m     \u001b[0mloss\u001b[0m\u001b[0;34m,\u001b[0m \u001b[0mgrads\u001b[0m \u001b[0;34m=\u001b[0m \u001b[0mself\u001b[0m\u001b[0;34m.\u001b[0m\u001b[0mmodel\u001b[0m\u001b[0;34m.\u001b[0m\u001b[0mloss\u001b[0m\u001b[0;34m(\u001b[0m\u001b[0mX_batch\u001b[0m\u001b[0;34m,\u001b[0m \u001b[0my_batch\u001b[0m\u001b[0;34m)\u001b[0m\u001b[0;34m\u001b[0m\u001b[0m\n\u001b[0m\u001b[1;32m    166\u001b[0m     \u001b[0mself\u001b[0m\u001b[0;34m.\u001b[0m\u001b[0mloss_history\u001b[0m\u001b[0;34m.\u001b[0m\u001b[0mappend\u001b[0m\u001b[0;34m(\u001b[0m\u001b[0mloss\u001b[0m\u001b[0;34m)\u001b[0m\u001b[0;34m\u001b[0m\u001b[0m\n\u001b[1;32m    167\u001b[0m \u001b[0;34m\u001b[0m\u001b[0m\n",
      "\u001b[0;32m/Users/Tim/Documents/GitHub/weave_convolution/cnn.py\u001b[0m in \u001b[0;36mloss\u001b[0;34m(self, X, y)\u001b[0m\n\u001b[1;32m    124\u001b[0m \u001b[0;34m\u001b[0m\u001b[0m\n\u001b[1;32m    125\u001b[0m     X_2, cache_large_conv = conv_relu_pool_forward(X_combine, theta_large, \n\u001b[0;32m--> 126\u001b[0;31m         theta_large_0, large_conv_param, pool_param)\n\u001b[0m\u001b[1;32m    127\u001b[0m \u001b[0;34m\u001b[0m\u001b[0m\n\u001b[1;32m    128\u001b[0m     \u001b[0mX_3\u001b[0m\u001b[0;34m,\u001b[0m \u001b[0mcache_affine_1\u001b[0m \u001b[0;34m=\u001b[0m \u001b[0maffine_relu_forward\u001b[0m\u001b[0;34m(\u001b[0m\u001b[0mX_2\u001b[0m\u001b[0;34m,\u001b[0m \u001b[0mtheta_affine_1\u001b[0m\u001b[0;34m,\u001b[0m \u001b[0mtheta_affine_1_0\u001b[0m\u001b[0;34m)\u001b[0m\u001b[0;34m\u001b[0m\u001b[0m\n",
      "\u001b[0;32m/Users/Tim/Documents/GitHub/weave_convolution/layer_utils.pyc\u001b[0m in \u001b[0;36mconv_relu_pool_forward\u001b[0;34m(x, theta, theta0, conv_param, pool_param)\u001b[0m\n\u001b[1;32m     74\u001b[0m   \u001b[0;34m-\u001b[0m \u001b[0mcache\u001b[0m\u001b[0;34m:\u001b[0m \u001b[0mObject\u001b[0m \u001b[0mto\u001b[0m \u001b[0mgive\u001b[0m \u001b[0mto\u001b[0m \u001b[0mthe\u001b[0m \u001b[0mbackward\u001b[0m \u001b[0;32mpass\u001b[0m\u001b[0;34m\u001b[0m\u001b[0m\n\u001b[1;32m     75\u001b[0m   \"\"\"\n\u001b[0;32m---> 76\u001b[0;31m   \u001b[0ma\u001b[0m\u001b[0;34m,\u001b[0m \u001b[0mconv_cache\u001b[0m \u001b[0;34m=\u001b[0m \u001b[0mconv_forward_fast\u001b[0m\u001b[0;34m(\u001b[0m\u001b[0mx\u001b[0m\u001b[0;34m,\u001b[0m \u001b[0mtheta\u001b[0m\u001b[0;34m,\u001b[0m \u001b[0mtheta0\u001b[0m\u001b[0;34m,\u001b[0m \u001b[0mconv_param\u001b[0m\u001b[0;34m)\u001b[0m\u001b[0;34m\u001b[0m\u001b[0m\n\u001b[0m\u001b[1;32m     77\u001b[0m   \u001b[0ms\u001b[0m\u001b[0;34m,\u001b[0m \u001b[0mrelu_cache\u001b[0m \u001b[0;34m=\u001b[0m \u001b[0mrelu_forward\u001b[0m\u001b[0;34m(\u001b[0m\u001b[0ma\u001b[0m\u001b[0;34m)\u001b[0m\u001b[0;34m\u001b[0m\u001b[0m\n\u001b[1;32m     78\u001b[0m   \u001b[0mout\u001b[0m\u001b[0;34m,\u001b[0m \u001b[0mpool_cache\u001b[0m \u001b[0;34m=\u001b[0m \u001b[0mmax_pool_forward_fast\u001b[0m\u001b[0;34m(\u001b[0m\u001b[0ms\u001b[0m\u001b[0;34m,\u001b[0m \u001b[0mpool_param\u001b[0m\u001b[0;34m)\u001b[0m\u001b[0;34m\u001b[0m\u001b[0m\n",
      "\u001b[0;32m/Users/Tim/Documents/GitHub/weave_convolution/fast_layers.pyc\u001b[0m in \u001b[0;36mconv_forward_strides\u001b[0;34m(x, w, b, conv_param)\u001b[0m\n\u001b[1;32m     52\u001b[0m   \u001b[0;31m# Pad the input\u001b[0m\u001b[0;34m\u001b[0m\u001b[0;34m\u001b[0m\u001b[0m\n\u001b[1;32m     53\u001b[0m   \u001b[0mp\u001b[0m \u001b[0;34m=\u001b[0m \u001b[0mpad\u001b[0m\u001b[0;34m\u001b[0m\u001b[0m\n\u001b[0;32m---> 54\u001b[0;31m   \u001b[0mx_padded\u001b[0m \u001b[0;34m=\u001b[0m \u001b[0mnp\u001b[0m\u001b[0;34m.\u001b[0m\u001b[0mpad\u001b[0m\u001b[0;34m(\u001b[0m\u001b[0mx\u001b[0m\u001b[0;34m,\u001b[0m \u001b[0;34m(\u001b[0m\u001b[0;34m(\u001b[0m\u001b[0;36m0\u001b[0m\u001b[0;34m,\u001b[0m \u001b[0;36m0\u001b[0m\u001b[0;34m)\u001b[0m\u001b[0;34m,\u001b[0m \u001b[0;34m(\u001b[0m\u001b[0;36m0\u001b[0m\u001b[0;34m,\u001b[0m \u001b[0;36m0\u001b[0m\u001b[0;34m)\u001b[0m\u001b[0;34m,\u001b[0m \u001b[0;34m(\u001b[0m\u001b[0mp\u001b[0m\u001b[0;34m,\u001b[0m \u001b[0mp\u001b[0m\u001b[0;34m)\u001b[0m\u001b[0;34m,\u001b[0m \u001b[0;34m(\u001b[0m\u001b[0mp\u001b[0m\u001b[0;34m,\u001b[0m \u001b[0mp\u001b[0m\u001b[0;34m)\u001b[0m\u001b[0;34m)\u001b[0m\u001b[0;34m,\u001b[0m \u001b[0mmode\u001b[0m\u001b[0;34m=\u001b[0m\u001b[0;34m'constant'\u001b[0m\u001b[0;34m)\u001b[0m\u001b[0;34m\u001b[0m\u001b[0m\n\u001b[0m\u001b[1;32m     55\u001b[0m \u001b[0;34m\u001b[0m\u001b[0m\n\u001b[1;32m     56\u001b[0m   \u001b[0;31m# Figure out output dimensions\u001b[0m\u001b[0;34m\u001b[0m\u001b[0;34m\u001b[0m\u001b[0m\n",
      "\u001b[0;32m/Users/Tim/anaconda2/lib/python2.7/site-packages/numpy/lib/arraypad.pyc\u001b[0m in \u001b[0;36mpad\u001b[0;34m(array, pad_width, mode, **kwargs)\u001b[0m\n\u001b[1;32m   1374\u001b[0m         \u001b[0;32mfor\u001b[0m \u001b[0maxis\u001b[0m\u001b[0;34m,\u001b[0m \u001b[0;34m(\u001b[0m\u001b[0;34m(\u001b[0m\u001b[0mpad_before\u001b[0m\u001b[0;34m,\u001b[0m \u001b[0mpad_after\u001b[0m\u001b[0;34m)\u001b[0m\u001b[0;34m,\u001b[0m \u001b[0;34m(\u001b[0m\u001b[0mbefore_val\u001b[0m\u001b[0;34m,\u001b[0m \u001b[0mafter_val\u001b[0m\u001b[0;34m)\u001b[0m\u001b[0;34m)\u001b[0m\u001b[0;31m \u001b[0m\u001b[0;31m\\\u001b[0m\u001b[0;34m\u001b[0m\u001b[0m\n\u001b[1;32m   1375\u001b[0m                 \u001b[0;32min\u001b[0m \u001b[0menumerate\u001b[0m\u001b[0;34m(\u001b[0m\u001b[0mzip\u001b[0m\u001b[0;34m(\u001b[0m\u001b[0mpad_width\u001b[0m\u001b[0;34m,\u001b[0m \u001b[0mkwargs\u001b[0m\u001b[0;34m[\u001b[0m\u001b[0;34m'constant_values'\u001b[0m\u001b[0;34m]\u001b[0m\u001b[0;34m)\u001b[0m\u001b[0;34m)\u001b[0m\u001b[0;34m:\u001b[0m\u001b[0;34m\u001b[0m\u001b[0m\n\u001b[0;32m-> 1376\u001b[0;31m             \u001b[0mnewmat\u001b[0m \u001b[0;34m=\u001b[0m \u001b[0m_prepend_const\u001b[0m\u001b[0;34m(\u001b[0m\u001b[0mnewmat\u001b[0m\u001b[0;34m,\u001b[0m \u001b[0mpad_before\u001b[0m\u001b[0;34m,\u001b[0m \u001b[0mbefore_val\u001b[0m\u001b[0;34m,\u001b[0m \u001b[0maxis\u001b[0m\u001b[0;34m)\u001b[0m\u001b[0;34m\u001b[0m\u001b[0m\n\u001b[0m\u001b[1;32m   1377\u001b[0m             \u001b[0mnewmat\u001b[0m \u001b[0;34m=\u001b[0m \u001b[0m_append_const\u001b[0m\u001b[0;34m(\u001b[0m\u001b[0mnewmat\u001b[0m\u001b[0;34m,\u001b[0m \u001b[0mpad_after\u001b[0m\u001b[0;34m,\u001b[0m \u001b[0mafter_val\u001b[0m\u001b[0;34m,\u001b[0m \u001b[0maxis\u001b[0m\u001b[0;34m)\u001b[0m\u001b[0;34m\u001b[0m\u001b[0m\n\u001b[1;32m   1378\u001b[0m \u001b[0;34m\u001b[0m\u001b[0m\n",
      "\u001b[0;32m/Users/Tim/anaconda2/lib/python2.7/site-packages/numpy/lib/arraypad.pyc\u001b[0m in \u001b[0;36m_prepend_const\u001b[0;34m(arr, pad_amt, val, axis)\u001b[0m\n\u001b[1;32m    103\u001b[0m     \u001b[0;32mif\u001b[0m \u001b[0mval\u001b[0m \u001b[0;34m==\u001b[0m \u001b[0;36m0\u001b[0m\u001b[0;34m:\u001b[0m\u001b[0;34m\u001b[0m\u001b[0m\n\u001b[1;32m    104\u001b[0m         return np.concatenate((np.zeros(padshape, dtype=arr.dtype), arr),\n\u001b[0;32m--> 105\u001b[0;31m                               axis=axis)\n\u001b[0m\u001b[1;32m    106\u001b[0m     \u001b[0;32melse\u001b[0m\u001b[0;34m:\u001b[0m\u001b[0;34m\u001b[0m\u001b[0m\n\u001b[1;32m    107\u001b[0m         return np.concatenate(((np.zeros(padshape) + val).astype(arr.dtype),\n",
      "\u001b[0;31mKeyboardInterrupt\u001b[0m: "
     ]
    }
   ],
   "source": [
    "model_full = ThreeLayerFancyNet(weight_scale=0.001, hidden_dim=300, reg=0.001)\n",
    "\n",
    "full_solver = Solver(model_full, data,\n",
    "                num_epochs=20, batch_size=50,\n",
    "                update_rule='adam',\n",
    "                optim_config={\n",
    "                  'learning_rate': 1e-3,\n",
    "                },\n",
    "                verbose=True, print_every=20)\n",
    "full_solver.train()"
   ]
  },
  {
   "cell_type": "markdown",
   "metadata": {},
   "source": [
    "## Visualize Filters\n",
    "You can visualize the first-layer convolutional filters from the trained network by running the following:"
   ]
  },
  {
   "cell_type": "code",
   "execution_count": null,
   "metadata": {},
   "outputs": [],
   "source": [
    "from vis_utils import visualize_grid\n",
    "\n",
    "grid = visualize_grid(model.params['theta1'].transpose(0, 2, 3, 1))\n",
    "plt.imshow(grid.astype('uint8'))\n",
    "plt.axis('off')\n",
    "plt.gcf().set_size_inches(5, 5)\n",
    "plt.show()"
   ]
  },
  {
   "cell_type": "markdown",
   "metadata": {},
   "source": [
    "# Experiment!\n",
    "Experiment and try to get the best performance that you can on CIFAR-10 using a ConvNet. Here are some ideas to get you started:\n",
    "\n",
    "### Things you should try:\n",
    "- Filter size: Above we used 7x7; this makes pretty pictures but smaller filters may be more efficient\n",
    "- Number of filters: Above we used 32 filters. Do more or fewer do better?\n",
    "- Network architecture: The network above has two layers of trainable parameters. Can you do better with a deeper network? You can implement alternative architectures in the file `convnet.py`. Some good architectures to try include:\n",
    "    - [conv-relu-pool]xN - conv - relu - [affine]xM - [softmax or SVM]\n",
    "    - [conv-relu-pool]XN - [affine]XM - [softmax or SVM]\n",
    "    - [conv-relu-conv-relu-pool]xN - [affine]xM - [softmax or SVM]\n",
    "\n",
    "### Tips for training\n",
    "For each network architecture that you try, you should tune the learning rate and regularization strength. When doing this there are a couple important things to keep in mind:\n",
    "\n",
    "- If the parameters are working well, you should see improvement within a few hundred iterations\n",
    "- Remember the course-to-fine approach for hyperparameter tuning: start by testing a large range of hyperparameters for just a few training iterations to find the combinations of parameters that are working at all.\n",
    "- Once you have found some sets of parameters that seem to work, search more finely around these parameters. You may need to train for more epochs.\n",
    "\n",
    "### Going above and beyond\n",
    "If you are feeling adventurous there are many other features you can implement to try and improve your performance. You are **not required** to implement any of these; however they would be good things to try for extra credit.\n",
    "\n",
    "- Alternative update steps: For the assignment we implemented SGD+momentum, RMSprop, and Adam; you could try alternatives like AdaGrad or AdaDelta.\n",
    "- Alternative activation functions such as leaky ReLU\n",
    "- Model ensembles\n",
    "- Data augmentation\n",
    "\n",
    "If you do decide to implement something extra, clearly describe it in the \"Extra Credit Description\" cell below.\n",
    "\n",
    "### What we expect\n",
    "At the very least, you should be able to train a ConvNet that gets at least 65% accuracy on the validation set. This is just a lower bound - if you are careful it should be possible to get accuracies much higher than that! Extra credit points will be awarded for particularly high-scoring models or unique approaches.\n",
    "\n",
    "You should use the space below to experiment and train your network. The final cell in this notebook should contain the training, validation, and test set accuracies for your final trained network. In this notebook you should also write an explanation of what you did, any additional features that you implemented, and any visualizations or graphs that you make in the process of training and evaluating your network.\n",
    "\n",
    "Have fun and happy training!"
   ]
  },
  {
   "cell_type": "code",
   "execution_count": null,
   "metadata": {},
   "outputs": [],
   "source": [
    "# Train a really good model on CIFAR-10"
   ]
  },
  {
   "cell_type": "markdown",
   "metadata": {},
   "source": [
    "# Extra Credit Description\n",
    "If you implement any additional features for extra credit, clearly describe them here with pointers to any code in this or other files if applicable.\n",
    "\n",
    "We implemented a new Non-Linear Function: Exponential Linear Unit.\n",
    "\n",
    "ELU(X) = x for x>0, = exp(x) -1 for x<= 0\n",
    "\n",
    "This can be seen in the following cells, and be found in layers.py and layers utlis.py\n",
    "\n",
    "All following networks use ELUS.\n",
    "\n",
    "We found that ELU conv net memorizes 50 examples faster than the same network with ReLu.\n",
    "\n",
    "We ran two different modesls BestNet and BestNet2 that have their \"geometries\" in the class doc strings.\n",
    "\n",
    "The Last Network we ran get a Val Accuracy of 73.9%."
   ]
  },
  {
   "cell_type": "markdown",
   "metadata": {},
   "source": [
    "# ELU (Eponential Linear Unit Check)\n",
    "After preforming some simple research we found a possibly superior method to Leaky ReLu which was ELU and found the implementation very easy.\n",
    "In the following cells we check our implemntation of ELU which can be found in layer_utils.py"
   ]
  },
  {
   "cell_type": "code",
   "execution_count": 10,
   "metadata": {},
   "outputs": [
    {
     "name": "stdout",
     "output_type": "stream",
     "text": [
      "Testing conv_elu_pool\n",
      "dx error:  1.5278856439353933e-07\n",
      "dtheta error:  4.4277686235391647e-10\n",
      "dtheta0 error:  1.001467179037312e-11\n"
     ]
    }
   ],
   "source": [
    "from layer_utils import conv_elu_pool_forward, conv_elu_pool_backward\n",
    "\n",
    "x = np.random.randn(2, 3, 16, 16)\n",
    "theta = np.random.randn(3, 3, 3, 3)\n",
    "theta0 = np.random.randn(3,)\n",
    "dout = np.random.randn(2, 3, 8, 8)\n",
    "conv_param = {'stride': 1, 'pad': 1}\n",
    "pool_param = {'pool_height': 2, 'pool_width': 2, 'stride': 2}\n",
    "\n",
    "out, cache = conv_elu_pool_forward(x, theta, theta0, conv_param, pool_param)\n",
    "dx, dtheta, dtheta0 = conv_elu_pool_backward(dout, cache)\n",
    "\n",
    "dx_num = eval_numerical_gradient_array(lambda x: conv_elu_pool_forward(x, theta, theta0, conv_param, pool_param)[0], x, dout)\n",
    "dtheta_num = eval_numerical_gradient_array(lambda w: conv_elu_pool_forward(x, theta, theta0, conv_param, pool_param)[0], theta, dout)\n",
    "dtheta0_num = eval_numerical_gradient_array(lambda b: conv_elu_pool_forward(x, theta, theta0, conv_param, pool_param)[0], theta0, dout)\n",
    "print 'Testing conv_elu_pool'\n",
    "print 'dx error: ', rel_error(dx_num, dx)\n",
    "print 'dtheta error: ', rel_error(dtheta_num, dtheta)\n",
    "print 'dtheta0 error: ', rel_error(dtheta0_num, dtheta0)"
   ]
  },
  {
   "cell_type": "markdown",
   "metadata": {},
   "source": [
    "# Checking if our CONV ELU 3 Layer neural network will learn better than the CONV RELU 3 Layer"
   ]
  },
  {
   "cell_type": "code",
   "execution_count": null,
   "metadata": {},
   "outputs": [],
   "source": [
    "num_train = 100\n",
    "small_data = {\n",
    "  'X_train': data['X_train'][:num_train],\n",
    "  'y_train': data['y_train'][:num_train],\n",
    "  'X_val': data['X_val'],\n",
    "  'y_val': data['y_val'],\n",
    "}\n",
    "\n",
    "model = ThreeLayerConvEluNet(weight_scale=1e-2)\n",
    "\n",
    "solver = Solver(model, small_data,\n",
    "                num_epochs=20, batch_size=50,\n",
    "                update_rule='adam',\n",
    "                optim_config={\n",
    "                  'learning_rate': 1e-3,\n",
    "                },\n",
    "                verbose=True, print_every=1)\n",
    "solver.train()"
   ]
  },
  {
   "cell_type": "markdown",
   "metadata": {},
   "source": [
    "Plotting ELU Loss"
   ]
  },
  {
   "cell_type": "code",
   "execution_count": null,
   "metadata": {},
   "outputs": [],
   "source": [
    "plt.subplot(2, 1, 1)\n",
    "plt.plot(solver.loss_history, 'o')\n",
    "plt.xlabel('iteration')\n",
    "plt.ylabel('loss')\n",
    "\n",
    "plt.subplot(2, 1, 2)\n",
    "plt.plot(solver.train_acc_history, '-o')\n",
    "plt.plot(solver.val_acc_history, '-o')\n",
    "plt.legend(['train', 'val'], loc='upper left')\n",
    "plt.xlabel('epoch')\n",
    "plt.ylabel('accuracy')\n",
    "plt.show()"
   ]
  },
  {
   "cell_type": "markdown",
   "metadata": {},
   "source": [
    "When compared to the same Convolution Net with ReLu which can be seen in a previous cell. This network learns faster significantly."
   ]
  },
  {
   "cell_type": "markdown",
   "metadata": {},
   "source": [
    "# Training Custom Convolutional Net to Reach 65% acc\n",
    "Code can be found in cnn.py under BestNet, BestNet2"
   ]
  },
  {
   "cell_type": "code",
   "execution_count": null,
   "metadata": {},
   "outputs": [],
   "source": [
    "num_inputs = 2\n",
    "input_dim = (3, 16, 16)\n",
    "reg = 0.0\n",
    "num_classes = 10\n",
    "X = np.random.randn(num_inputs, *input_dim)\n",
    "y = np.random.randint(num_classes, size=num_inputs)\n",
    "\n",
    "model = BestNet(num_filters=3, filter_size=3,\n",
    "                          input_dim=input_dim, hidden_dim=7,\n",
    "                          dtype=np.float64)\n",
    "loss, grads = model.loss(X, y)\n",
    "for param_name in sorted(grads):\n",
    "    f = lambda _: model.loss(X, y)[0]\n",
    "    param_grad_num = eval_numerical_gradient(f, model.params[param_name], verbose=False, h=1e-6)\n",
    "    e = rel_error(param_grad_num, grads[param_name])\n",
    "    print '%s max relative error: %e' % (param_name, rel_error(param_grad_num, grads[param_name]))"
   ]
  },
  {
   "cell_type": "markdown",
   "metadata": {},
   "source": [
    "This shows that the Net Learsn and nearly memorizes 1000 examples"
   ]
  },
  {
   "cell_type": "code",
   "execution_count": 7,
   "metadata": {},
   "outputs": [
    {
     "name": "stdout",
     "output_type": "stream",
     "text": [
      "(1000, 3, 31, 31)\n"
     ]
    },
    {
     "ename": "NameError",
     "evalue": "name 'BestNet' is not defined",
     "output_type": "error",
     "traceback": [
      "\u001b[0;31m---------------------------------------------------------------------------\u001b[0m",
      "\u001b[0;31mNameError\u001b[0m                                 Traceback (most recent call last)",
      "\u001b[0;32m<ipython-input-7-a4bc5748494d>\u001b[0m in \u001b[0;36m<module>\u001b[0;34m()\u001b[0m\n\u001b[1;32m      7\u001b[0m }\n\u001b[1;32m      8\u001b[0m \u001b[0;32mprint\u001b[0m\u001b[0;34m(\u001b[0m\u001b[0msmall_data\u001b[0m\u001b[0;34m[\u001b[0m\u001b[0;34m'X_train'\u001b[0m\u001b[0;34m]\u001b[0m\u001b[0;34m.\u001b[0m\u001b[0mshape\u001b[0m\u001b[0;34m)\u001b[0m\u001b[0;34m\u001b[0m\u001b[0m\n\u001b[0;32m----> 9\u001b[0;31m \u001b[0mmodel\u001b[0m \u001b[0;34m=\u001b[0m \u001b[0mBestNet\u001b[0m\u001b[0;34m(\u001b[0m\u001b[0mweight_scale\u001b[0m\u001b[0;34m=\u001b[0m\u001b[0;36m1e-2\u001b[0m\u001b[0;34m)\u001b[0m\u001b[0;34m\u001b[0m\u001b[0m\n\u001b[0m\u001b[1;32m     10\u001b[0m \u001b[0;34m\u001b[0m\u001b[0m\n\u001b[1;32m     11\u001b[0m solver = Solver(model, small_data,\n",
      "\u001b[0;31mNameError\u001b[0m: name 'BestNet' is not defined"
     ]
    }
   ],
   "source": [
    "num_train = 1000\n",
    "small_data = {\n",
    "  'X_train': data['X_train'][:num_train],\n",
    "  'y_train': data['y_train'][:num_train],\n",
    "  'X_val': data['X_val'],\n",
    "  'y_val': data['y_val'],\n",
    "}\n",
    "\n",
    "model = BestNet(weight_scale=1e-2)\n",
    "\n",
    "solver = Solver(model, small_data,\n",
    "                num_epochs=20, batch_size=50,\n",
    "                update_rule='adam',\n",
    "                optim_config={\n",
    "                  'learning_rate': 1e-3,\n",
    "                },\n",
    "                verbose=True, print_every=1000)\n",
    "solver.train()"
   ]
  },
  {
   "cell_type": "markdown",
   "metadata": {},
   "source": [
    "The model without regulizaration preforms above 65% but still is overfitted with the full data set. Running it again with a slight regularization of .01 improves over fitting but not perfectly. "
   ]
  },
  {
   "cell_type": "code",
   "execution_count": null,
   "metadata": {},
   "outputs": [],
   "source": [
    "model = BestNet(weight_scale=1e-2)\n",
    "\n",
    "solver = Solver(model, data,\n",
    "                num_epochs=20, batch_size=50,\n",
    "                update_rule='adam',\n",
    "                optim_config={\n",
    "                  'learning_rate': 1e-3,\n",
    "                },\n",
    "                verbose=True, print_every=1000)\n",
    "solver.train()"
   ]
  },
  {
   "cell_type": "code",
   "execution_count": null,
   "metadata": {},
   "outputs": [],
   "source": [
    "model = BestNet(weight_scale=1e-2, reg = .01)\n",
    "\n",
    "solver = Solver(model, data,\n",
    "                num_epochs=20, batch_size=50,\n",
    "                update_rule='adam',\n",
    "                optim_config={\n",
    "                  'learning_rate': 1e-3,\n",
    "                },\n",
    "                verbose=True, print_every=1000)\n",
    "solver.train()"
   ]
  },
  {
   "cell_type": "code",
   "execution_count": null,
   "metadata": {},
   "outputs": [],
   "source": [
    "model3 = BestNet2(weight_scale=1e-2, reg = .01)\n",
    "\n",
    "num_train = 1000\n",
    "small_data = {\n",
    "  'X_train': data['X_train'][:num_train],\n",
    "  'y_train': data['y_train'][:num_train],\n",
    "  'X_val': data['X_val'],\n",
    "  'y_val': data['y_val'],\n",
    "}\n",
    "\n",
    "solver = Solver(model3, small_data,\n",
    "                num_epochs=20, batch_size=50,\n",
    "                update_rule='adam',\n",
    "                optim_config={\n",
    "                  'learning_rate': 1e-3,\n",
    "                },\n",
    "                verbose=True, print_every=1000)\n",
    "solver.train()"
   ]
  },
  {
   "cell_type": "code",
   "execution_count": null,
   "metadata": {},
   "outputs": [],
   "source": [
    "model3 = BestNet2(weight_scale=1e-2)\n",
    "\n",
    "solver = Solver(model3, data,\n",
    "                num_epochs=20, batch_size=50,\n",
    "                update_rule='adam',\n",
    "                optim_config={\n",
    "                  'learning_rate': 1e-3,\n",
    "                },\n",
    "                verbose=True, print_every=1000)\n",
    "solver.train()"
   ]
  },
  {
   "cell_type": "code",
   "execution_count": null,
   "metadata": {},
   "outputs": [],
   "source": [
    "model4 = BestNet2(weight_scale=1e-2, reg = 0.02)\n",
    "\n",
    "solver = Solver(model4, data,\n",
    "                num_epochs=20, batch_size=50,\n",
    "                update_rule='adam',\n",
    "                optim_config={\n",
    "                  'learning_rate': 1e-3,\n",
    "                },\n",
    "                verbose=True, print_every=1000)\n",
    "solver.train()"
   ]
  },
  {
   "cell_type": "code",
   "execution_count": null,
   "metadata": {},
   "outputs": [],
   "source": []
  },
  {
   "cell_type": "code",
   "execution_count": null,
   "metadata": {},
   "outputs": [],
   "source": []
  }
 ],
 "metadata": {
  "anaconda-cloud": {},
  "kernelspec": {
   "display_name": "Python 2",
   "language": "python",
   "name": "python2"
  },
  "language_info": {
   "codemirror_mode": {
    "name": "ipython",
    "version": 2
   },
   "file_extension": ".py",
   "mimetype": "text/x-python",
   "name": "python",
   "nbconvert_exporter": "python",
   "pygments_lexer": "ipython2",
   "version": "2.7.14"
  }
 },
 "nbformat": 4,
 "nbformat_minor": 1
}
