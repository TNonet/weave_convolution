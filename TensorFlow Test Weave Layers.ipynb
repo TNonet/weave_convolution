{
 "cells": [
  {
   "cell_type": "code",
   "execution_count": 1,
   "metadata": {},
   "outputs": [
    {
     "name": "stderr",
     "output_type": "stream",
     "text": [
      "/Users/Tim/anaconda2/lib/python2.7/site-packages/h5py/__init__.py:36: FutureWarning: Conversion of the second argument of issubdtype from `float` to `np.floating` is deprecated. In future, it will be treated as `np.float64 == np.dtype(float).type`.\n",
      "  from ._conv import register_converters as _register_converters\n",
      "Using TensorFlow backend.\n"
     ]
    }
   ],
   "source": [
    "from data_utils import get_CIFAR10_data\n",
    "import numpy as np\n",
    "\n",
    "import keras\n",
    "import tensorflow as tf\n",
    "from keras.layers import Input, Conv2D, Dense, Flatten, Add, ZeroPadding2D, Merge, add, MaxPool2D\n",
    "from keras.models import Model\n",
    "from keras.utils.np_utils import to_categorical \n",
    "import tensorflow_weave\n",
    "reload(tensorflow_weave)\n",
    "from tensorflow_weave import *"
   ]
  },
  {
   "cell_type": "code",
   "execution_count": 2,
   "metadata": {},
   "outputs": [
    {
     "name": "stdout",
     "output_type": "stream",
     "text": [
      "X_val:  (1000, 3, 32, 32)\n",
      "X_train:  (49000, 3, 32, 32)\n",
      "X_test:  (1000, 3, 32, 32)\n",
      "y_val:  (1000,)\n",
      "y_train:  (49000,)\n",
      "y_test:  (1000,)\n"
     ]
    }
   ],
   "source": [
    "#Load the (preprocessed) CIFAR10 data.\n",
    "\n",
    "data = get_CIFAR10_data()\n",
    "for k, v in data.iteritems():\n",
    "  print '%s: ' % k, v.shape"
   ]
  },
  {
   "cell_type": "code",
   "execution_count": 27,
   "metadata": {},
   "outputs": [],
   "source": [
    "filter_size = 3\n",
    "num_filters = 2\n",
    "pad_size = filter_size//2\n",
    "mid_layer = 100\n",
    "\n",
    "\n",
    "X_train = data['X_train']\n",
    "Y_train = data['y_train']\n",
    "X_Val = data['X_val']\n",
    "Y_Val = data['y_val']\n",
    "\n",
    "Y_train = to_categorical(Y_train, num_classes=10)\n",
    "Y_val = to_categorical(Y_Val, num_classes=10)"
   ]
  },
  {
   "cell_type": "code",
   "execution_count": 45,
   "metadata": {},
   "outputs": [],
   "source": [
    "def build_weave_conv_model(num_filters1, num_filters2):\n",
    "    inputs = Input(shape=(3,32,32))\n",
    "\n",
    "\n",
    "    ######### Layer 1\n",
    "    x_pad = ZeroPadding2D(padding=(pad_size,pad_size))(inputs)\n",
    "\n",
    "\n",
    "    x_per = Conv2D(num_filters1,\n",
    "                   kernel_size = (filter_size,filter_size),\n",
    "                   strides=(1,1),\n",
    "                   padding='valid',\n",
    "                   activation='relu')(x_pad)\n",
    "\n",
    "    x_loc = Conv2D(num_filters1,\n",
    "                   kernel_size= (filter_size,filter_size),\n",
    "                   strides=(1,1),\n",
    "                   padding='valid',\n",
    "                   activation = 'relu')(x_pad)\n",
    "\n",
    "    x_zero = ZeroWeave()(x_loc)\n",
    "    x_weave = ArrayWeave()(x_per)\n",
    "\n",
    "    x = Add()([x_weave, x_zero])\n",
    "\n",
    "    x = ZeroPadding2D(padding=(pad_size,pad_size))(x)\n",
    "\n",
    "    x = Conv2D(num_filters2,\n",
    "               kernel_size= (filter_size,filter_size),\n",
    "               strides=(filter_size,filter_size),\n",
    "               padding='valid',\n",
    "               activation = 'relu')(x)\n",
    "    x = MaxPool2D()(x)\n",
    "#     ###############\n",
    "#     x_pad = ZeroPadding2D(padding=(pad_size,pad_size))(x)\n",
    "\n",
    "\n",
    "#     x_per = Conv2D(2*num_filters,\n",
    "#                    kernel_size = (filter_size,filter_size),\n",
    "#                    strides=(1,1),\n",
    "#                    padding='valid',\n",
    "#                    activation='relu')(x_pad)\n",
    "\n",
    "#     x_loc = Conv2D(2*num_filters,\n",
    "#                    kernel_size= (filter_size,filter_size),\n",
    "#                    strides=(1,1),\n",
    "#                    padding='valid',\n",
    "#                    activation = 'relu')(x_pad)\n",
    "\n",
    "#     x_zero = ZeroWeave()(x_loc)\n",
    "#     x_weave = ArrayWeave()(x_per)\n",
    "\n",
    "#     x = Add()([x_weave, x_zero])\n",
    "\n",
    "#     x = ZeroPadding2D(padding=(pad_size,pad_size))(x)\n",
    "\n",
    "#     x = Conv2D(2*num_filters,\n",
    "#                kernel_size= (filter_size,filter_size),\n",
    "#                strides=(filter_size,filter_size),\n",
    "#                padding='valid',\n",
    "#                activation = 'relu')(x)\n",
    "\n",
    "#     x = MaxPool2D()(x)\n",
    "    x = Flatten()(x)\n",
    "    x = Dense(mid_layer, activation = 'relu')(x)\n",
    "    predictions = Dense(10, activation='softmax')(x)\n",
    "\n",
    "    # This creates a model that includes\n",
    "    # the Input layer and three Dense layers\n",
    "    model = Model(inputs=[inputs], outputs=predictions)\n",
    "    model.compile(loss='categorical_crossentropy', optimizer='adam', metrics=['accuracy'])\n",
    "    return model"
   ]
  },
  {
   "cell_type": "code",
   "execution_count": 42,
   "metadata": {},
   "outputs": [
    {
     "name": "stdout",
     "output_type": "stream",
     "text": [
      "Train on 46550 samples, validate on 2450 samples\n",
      "Epoch 1/10\n",
      "46550/46550 [==============================] - 432s 9ms/step - loss: 1.8561 - acc: 0.3450 - val_loss: 1.5603 - val_acc: 0.4359\n",
      "Epoch 2/10\n",
      "46550/46550 [==============================] - 413s 9ms/step - loss: 1.4973 - acc: 0.4614 - val_loss: 1.4424 - val_acc: 0.4845\n",
      "Epoch 3/10\n",
      "46550/46550 [==============================] - 386s 8ms/step - loss: 1.3901 - acc: 0.5018 - val_loss: 1.4278 - val_acc: 0.4853\n",
      "Epoch 4/10\n",
      "46550/46550 [==============================] - 384s 8ms/step - loss: 1.3142 - acc: 0.5273 - val_loss: 1.3253 - val_acc: 0.5310\n",
      "Epoch 5/10\n",
      "46550/46550 [==============================] - 380s 8ms/step - loss: 1.2548 - acc: 0.5502 - val_loss: 1.3510 - val_acc: 0.5216\n",
      "Epoch 6/10\n",
      "46550/46550 [==============================] - 383s 8ms/step - loss: 1.2092 - acc: 0.5682 - val_loss: 1.3272 - val_acc: 0.5229\n",
      "Epoch 7/10\n",
      "46550/46550 [==============================] - 386s 8ms/step - loss: 1.1706 - acc: 0.5803 - val_loss: 1.2908 - val_acc: 0.5424\n",
      "Epoch 8/10\n",
      "46550/46550 [==============================] - 5827s 125ms/step - loss: 1.1344 - acc: 0.5959 - val_loss: 1.3239 - val_acc: 0.5343\n",
      "Epoch 9/10\n",
      "46550/46550 [==============================] - 478s 10ms/step - loss: 1.1057 - acc: 0.6051 - val_loss: 1.2683 - val_acc: 0.5514\n",
      "Epoch 10/10\n",
      "46550/46550 [==============================] - 443s 10ms/step - loss: 1.0791 - acc: 0.6141 - val_loss: 1.2669 - val_acc: 0.5567\n"
     ]
    }
   ],
   "source": [
    "#hist1 = model.fit(X_train, Y_train, epochs = 10, validation_split=.05, verbose=1)"
   ]
  },
  {
   "cell_type": "code",
   "execution_count": 46,
   "metadata": {},
   "outputs": [],
   "source": [
    "def build_norm_conv_model(num_filters1, num_filters2):\n",
    "    inputs = Input(shape=(3,32,32))\n",
    "\n",
    "    ####### Layer 1\n",
    "    x = ZeroPadding2D(padding=(pad_size,pad_size))(inputs)\n",
    "\n",
    "    x = Conv2D(num_filters1,\n",
    "                   kernel_size = (filter_size,filter_size),\n",
    "                   strides=(1,1),\n",
    "                   padding='valid',\n",
    "                   activation='relu')(x)\n",
    "\n",
    "    x = ZeroPadding2D(padding=(pad_size,pad_size))(x)\n",
    "\n",
    "    x = Conv2D(num_filters1,\n",
    "                   kernel_size= (filter_size,filter_size),\n",
    "                   strides=(1,1),\n",
    "                   padding='valid',\n",
    "                   activation = 'relu')(x)\n",
    "\n",
    "    x = ZeroPadding2D(padding=(pad_size,pad_size))(x)\n",
    "\n",
    "    x = Conv2D(num_filters2,\n",
    "               kernel_size= (filter_size,filter_size),\n",
    "               strides=(1,1),\n",
    "               padding='valid',\n",
    "               activation = 'relu')(x)\n",
    "\n",
    "    x = MaxPool2D()(x)\n",
    "#     ####### Layer 2\n",
    "#     x = ZeroPadding2D(padding=(pad_size,pad_size))(x)\n",
    "\n",
    "#     x = Conv2D(2*num_filters,\n",
    "#                    kernel_size = (filter_size,filter_size),\n",
    "#                    strides=(1,1),\n",
    "#                    padding='valid',\n",
    "#                    activation='relu')(x)\n",
    "\n",
    "#     x = ZeroPadding2D(padding=(pad_size,pad_size))(x)\n",
    "\n",
    "#     x = Conv2D(2*num_filters,\n",
    "#                    kernel_size= (filter_size,filter_size),\n",
    "#                    strides=(1,1),\n",
    "#                    padding='valid',\n",
    "#                    activation = 'relu')(x)\n",
    "\n",
    "#     x = ZeroPadding2D(padding=(pad_size,pad_size))(x)\n",
    "\n",
    "#     x = Conv2D(2*num_filters,\n",
    "#                kernel_size= (filter_size,filter_size),\n",
    "#                strides=(1,1),\n",
    "#                padding='valid',\n",
    "#                activation = 'relu')(x)\n",
    "\n",
    "#     x = MaxPool2D()(x)\n",
    "    x = Flatten()(x)\n",
    "    x = Dense(mid_layer, activation = 'relu')(x)\n",
    "    predictions = Dense(10, activation='softmax')(x)\n",
    "\n",
    "    # This creates a model that includes\n",
    "    # the Input layer and three Dense layers\n",
    "    model2 = Model(inputs=[inputs], outputs=predictions)\n",
    "    model2.compile(loss='categorical_crossentropy', optimizer='adam', metrics=['accuracy'])\n",
    "    return model2"
   ]
  },
  {
   "cell_type": "code",
   "execution_count": 44,
   "metadata": {},
   "outputs": [
    {
     "name": "stdout",
     "output_type": "stream",
     "text": [
      "Train on 46550 samples, validate on 2450 samples\n",
      "Epoch 1/10\n",
      "46550/46550 [==============================] - 201s 4ms/step - loss: 1.7015 - acc: 0.3862 - val_loss: 1.5456 - val_acc: 0.4555\n",
      "Epoch 2/10\n",
      "46550/46550 [==============================] - 192s 4ms/step - loss: 1.4392 - acc: 0.4834 - val_loss: 1.3541 - val_acc: 0.5192\n",
      "Epoch 3/10\n",
      "46550/46550 [==============================] - 194s 4ms/step - loss: 1.3289 - acc: 0.5256 - val_loss: 1.2541 - val_acc: 0.5604\n",
      "Epoch 4/10\n",
      "46550/46550 [==============================] - 194s 4ms/step - loss: 1.2407 - acc: 0.5608 - val_loss: 1.2223 - val_acc: 0.5710\n",
      "Epoch 5/10\n",
      "46550/46550 [==============================] - 186s 4ms/step - loss: 1.1683 - acc: 0.5828 - val_loss: 1.2024 - val_acc: 0.5767\n",
      "Epoch 6/10\n",
      "46550/46550 [==============================] - 192s 4ms/step - loss: 1.1108 - acc: 0.6024 - val_loss: 1.1369 - val_acc: 0.5902\n",
      "Epoch 7/10\n",
      "46550/46550 [==============================] - 198s 4ms/step - loss: 1.0707 - acc: 0.6185 - val_loss: 1.1749 - val_acc: 0.5833\n",
      "Epoch 8/10\n",
      "46550/46550 [==============================] - 209s 4ms/step - loss: 1.0312 - acc: 0.6338 - val_loss: 1.1623 - val_acc: 0.5943\n",
      "Epoch 9/10\n",
      "46550/46550 [==============================] - 208s 4ms/step - loss: 0.9971 - acc: 0.6448 - val_loss: 1.1353 - val_acc: 0.6008\n",
      "Epoch 10/10\n",
      "46550/46550 [==============================] - 192s 4ms/step - loss: 0.9685 - acc: 0.6563 - val_loss: 1.1166 - val_acc: 0.6155\n"
     ]
    }
   ],
   "source": [
    "#hist2 = model2.fit(X_train, Y_train, epochs = 10, validation_split=.05, verbose=1)"
   ]
  },
  {
   "cell_type": "code",
   "execution_count": 54,
   "metadata": {},
   "outputs": [
    {
     "name": "stdout",
     "output_type": "stream",
     "text": [
      "(1, 1)\n",
      "('Weave Model', 0.096)\n",
      "('Norm Model', 0.108)\n",
      "(1, 2)\n",
      "('Weave Model', 0.1)\n",
      "('Norm Model', 0.084)\n",
      "(2, 1)\n"
     ]
    },
    {
     "ename": "KeyboardInterrupt",
     "evalue": "",
     "output_type": "error",
     "traceback": [
      "\u001b[0;31m---------------------------------------------------------------------------\u001b[0m",
      "\u001b[0;31mKeyboardInterrupt\u001b[0m                         Traceback (most recent call last)",
      "\u001b[0;32m<ipython-input-54-67c2f2e24943>\u001b[0m in \u001b[0;36m<module>\u001b[0;34m()\u001b[0m\n\u001b[1;32m     11\u001b[0m         \u001b[0mweave_model\u001b[0m\u001b[0;34m.\u001b[0m\u001b[0mfit\u001b[0m\u001b[0;34m(\u001b[0m\u001b[0mX_train\u001b[0m\u001b[0;34m[\u001b[0m\u001b[0;36m0\u001b[0m\u001b[0;34m:\u001b[0m\u001b[0;36m100\u001b[0m\u001b[0;34m]\u001b[0m\u001b[0;34m,\u001b[0m \u001b[0mY_train\u001b[0m\u001b[0;34m[\u001b[0m\u001b[0;36m0\u001b[0m\u001b[0;34m:\u001b[0m\u001b[0;36m100\u001b[0m\u001b[0;34m]\u001b[0m\u001b[0;34m,\u001b[0m \u001b[0mepochs\u001b[0m \u001b[0;34m=\u001b[0m \u001b[0mnum_epochs\u001b[0m\u001b[0;34m,\u001b[0m \u001b[0mverbose\u001b[0m\u001b[0;34m=\u001b[0m\u001b[0;36m0\u001b[0m\u001b[0;34m)\u001b[0m\u001b[0;34m\u001b[0m\u001b[0m\n\u001b[1;32m     12\u001b[0m         \u001b[0mnorm_model\u001b[0m\u001b[0;34m.\u001b[0m\u001b[0mfit\u001b[0m\u001b[0;34m(\u001b[0m\u001b[0mX_train\u001b[0m\u001b[0;34m[\u001b[0m\u001b[0;36m0\u001b[0m\u001b[0;34m:\u001b[0m\u001b[0;36m100\u001b[0m\u001b[0;34m]\u001b[0m\u001b[0;34m,\u001b[0m \u001b[0mY_train\u001b[0m\u001b[0;34m[\u001b[0m\u001b[0;36m0\u001b[0m\u001b[0;34m:\u001b[0m\u001b[0;36m100\u001b[0m\u001b[0;34m]\u001b[0m\u001b[0;34m,\u001b[0m \u001b[0mepochs\u001b[0m \u001b[0;34m=\u001b[0m \u001b[0mnum_epochs\u001b[0m\u001b[0;34m,\u001b[0m \u001b[0mverbose\u001b[0m\u001b[0;34m=\u001b[0m\u001b[0;36m0\u001b[0m\u001b[0;34m)\u001b[0m\u001b[0;34m\u001b[0m\u001b[0m\n\u001b[0;32m---> 13\u001b[0;31m         \u001b[0mweave_acc\u001b[0m\u001b[0;34m[\u001b[0m\u001b[0;34m(\u001b[0m\u001b[0mfilt1\u001b[0m\u001b[0;34m,\u001b[0m\u001b[0mfilt2\u001b[0m\u001b[0;34m)\u001b[0m\u001b[0;34m]\u001b[0m \u001b[0;34m=\u001b[0m \u001b[0mweave_model\u001b[0m\u001b[0;34m.\u001b[0m\u001b[0mevaluate\u001b[0m\u001b[0;34m(\u001b[0m\u001b[0mX_Val\u001b[0m\u001b[0;34m,\u001b[0m \u001b[0mY_val\u001b[0m\u001b[0;34m,\u001b[0m \u001b[0mverbose\u001b[0m \u001b[0;34m=\u001b[0m \u001b[0;36m0\u001b[0m\u001b[0;34m)\u001b[0m\u001b[0;34m[\u001b[0m\u001b[0;36m1\u001b[0m\u001b[0;34m]\u001b[0m\u001b[0;34m\u001b[0m\u001b[0m\n\u001b[0m\u001b[1;32m     14\u001b[0m         \u001b[0mnorm_acc\u001b[0m\u001b[0;34m[\u001b[0m\u001b[0;34m(\u001b[0m\u001b[0mfilt1\u001b[0m\u001b[0;34m,\u001b[0m\u001b[0mfilt2\u001b[0m\u001b[0;34m)\u001b[0m\u001b[0;34m]\u001b[0m \u001b[0;34m=\u001b[0m \u001b[0mnorm_model\u001b[0m\u001b[0;34m.\u001b[0m\u001b[0mevaluate\u001b[0m\u001b[0;34m(\u001b[0m\u001b[0mX_Val\u001b[0m\u001b[0;34m,\u001b[0m \u001b[0mY_val\u001b[0m\u001b[0;34m,\u001b[0m \u001b[0mverbose\u001b[0m \u001b[0;34m=\u001b[0m \u001b[0;36m0\u001b[0m\u001b[0;34m)\u001b[0m\u001b[0;34m[\u001b[0m\u001b[0;36m1\u001b[0m\u001b[0;34m]\u001b[0m\u001b[0;34m\u001b[0m\u001b[0m\n\u001b[1;32m     15\u001b[0m         \u001b[0;32mprint\u001b[0m\u001b[0;34m(\u001b[0m\u001b[0;34m'Weave Model'\u001b[0m\u001b[0;34m,\u001b[0m \u001b[0mweave_acc\u001b[0m\u001b[0;34m[\u001b[0m\u001b[0;34m(\u001b[0m\u001b[0mfilt1\u001b[0m\u001b[0;34m,\u001b[0m\u001b[0mfilt2\u001b[0m\u001b[0;34m)\u001b[0m\u001b[0;34m]\u001b[0m\u001b[0;34m)\u001b[0m\u001b[0;34m\u001b[0m\u001b[0m\n",
      "\u001b[0;32m/Users/Tim/anaconda2/lib/python2.7/site-packages/keras/engine/training.pyc\u001b[0m in \u001b[0;36mevaluate\u001b[0;34m(self, x, y, batch_size, verbose, sample_weight, steps)\u001b[0m\n\u001b[1;32m   1777\u001b[0m                                \u001b[0mbatch_size\u001b[0m\u001b[0;34m=\u001b[0m\u001b[0mbatch_size\u001b[0m\u001b[0;34m,\u001b[0m\u001b[0;34m\u001b[0m\u001b[0m\n\u001b[1;32m   1778\u001b[0m                                \u001b[0mverbose\u001b[0m\u001b[0;34m=\u001b[0m\u001b[0mverbose\u001b[0m\u001b[0;34m,\u001b[0m\u001b[0;34m\u001b[0m\u001b[0m\n\u001b[0;32m-> 1779\u001b[0;31m                                steps=steps)\n\u001b[0m\u001b[1;32m   1780\u001b[0m \u001b[0;34m\u001b[0m\u001b[0m\n\u001b[1;32m   1781\u001b[0m     def predict(self, x,\n",
      "\u001b[0;32m/Users/Tim/anaconda2/lib/python2.7/site-packages/keras/engine/training.pyc\u001b[0m in \u001b[0;36m_test_loop\u001b[0;34m(self, f, ins, batch_size, verbose, steps)\u001b[0m\n\u001b[1;32m   1424\u001b[0m                     \u001b[0mins_batch\u001b[0m\u001b[0;34m[\u001b[0m\u001b[0mi\u001b[0m\u001b[0;34m]\u001b[0m \u001b[0;34m=\u001b[0m \u001b[0mins_batch\u001b[0m\u001b[0;34m[\u001b[0m\u001b[0mi\u001b[0m\u001b[0;34m]\u001b[0m\u001b[0;34m.\u001b[0m\u001b[0mtoarray\u001b[0m\u001b[0;34m(\u001b[0m\u001b[0;34m)\u001b[0m\u001b[0;34m\u001b[0m\u001b[0m\n\u001b[1;32m   1425\u001b[0m \u001b[0;34m\u001b[0m\u001b[0m\n\u001b[0;32m-> 1426\u001b[0;31m                 \u001b[0mbatch_outs\u001b[0m \u001b[0;34m=\u001b[0m \u001b[0mf\u001b[0m\u001b[0;34m(\u001b[0m\u001b[0mins_batch\u001b[0m\u001b[0;34m)\u001b[0m\u001b[0;34m\u001b[0m\u001b[0m\n\u001b[0m\u001b[1;32m   1427\u001b[0m                 \u001b[0;32mif\u001b[0m \u001b[0misinstance\u001b[0m\u001b[0;34m(\u001b[0m\u001b[0mbatch_outs\u001b[0m\u001b[0;34m,\u001b[0m \u001b[0mlist\u001b[0m\u001b[0;34m)\u001b[0m\u001b[0;34m:\u001b[0m\u001b[0;34m\u001b[0m\u001b[0m\n\u001b[1;32m   1428\u001b[0m                     \u001b[0;32mif\u001b[0m \u001b[0mbatch_index\u001b[0m \u001b[0;34m==\u001b[0m \u001b[0;36m0\u001b[0m\u001b[0;34m:\u001b[0m\u001b[0;34m\u001b[0m\u001b[0m\n",
      "\u001b[0;32m/Users/Tim/anaconda2/lib/python2.7/site-packages/keras/backend/tensorflow_backend.pyc\u001b[0m in \u001b[0;36m__call__\u001b[0;34m(self, inputs)\u001b[0m\n\u001b[1;32m   2476\u001b[0m         \u001b[0msession\u001b[0m \u001b[0;34m=\u001b[0m \u001b[0mget_session\u001b[0m\u001b[0;34m(\u001b[0m\u001b[0;34m)\u001b[0m\u001b[0;34m\u001b[0m\u001b[0m\n\u001b[1;32m   2477\u001b[0m         updated = session.run(fetches=fetches, feed_dict=feed_dict,\n\u001b[0;32m-> 2478\u001b[0;31m                               **self.session_kwargs)\n\u001b[0m\u001b[1;32m   2479\u001b[0m         \u001b[0;32mreturn\u001b[0m \u001b[0mupdated\u001b[0m\u001b[0;34m[\u001b[0m\u001b[0;34m:\u001b[0m\u001b[0mlen\u001b[0m\u001b[0;34m(\u001b[0m\u001b[0mself\u001b[0m\u001b[0;34m.\u001b[0m\u001b[0moutputs\u001b[0m\u001b[0;34m)\u001b[0m\u001b[0;34m]\u001b[0m\u001b[0;34m\u001b[0m\u001b[0m\n\u001b[1;32m   2480\u001b[0m \u001b[0;34m\u001b[0m\u001b[0m\n",
      "\u001b[0;32m/Users/Tim/anaconda2/lib/python2.7/site-packages/tensorflow/python/client/session.pyc\u001b[0m in \u001b[0;36mrun\u001b[0;34m(self, fetches, feed_dict, options, run_metadata)\u001b[0m\n\u001b[1;32m    893\u001b[0m     \u001b[0;32mtry\u001b[0m\u001b[0;34m:\u001b[0m\u001b[0;34m\u001b[0m\u001b[0m\n\u001b[1;32m    894\u001b[0m       result = self._run(None, fetches, feed_dict, options_ptr,\n\u001b[0;32m--> 895\u001b[0;31m                          run_metadata_ptr)\n\u001b[0m\u001b[1;32m    896\u001b[0m       \u001b[0;32mif\u001b[0m \u001b[0mrun_metadata\u001b[0m\u001b[0;34m:\u001b[0m\u001b[0;34m\u001b[0m\u001b[0m\n\u001b[1;32m    897\u001b[0m         \u001b[0mproto_data\u001b[0m \u001b[0;34m=\u001b[0m \u001b[0mtf_session\u001b[0m\u001b[0;34m.\u001b[0m\u001b[0mTF_GetBuffer\u001b[0m\u001b[0;34m(\u001b[0m\u001b[0mrun_metadata_ptr\u001b[0m\u001b[0;34m)\u001b[0m\u001b[0;34m\u001b[0m\u001b[0m\n",
      "\u001b[0;32m/Users/Tim/anaconda2/lib/python2.7/site-packages/tensorflow/python/client/session.pyc\u001b[0m in \u001b[0;36m_run\u001b[0;34m(self, handle, fetches, feed_dict, options, run_metadata)\u001b[0m\n\u001b[1;32m   1126\u001b[0m     \u001b[0;32mif\u001b[0m \u001b[0mfinal_fetches\u001b[0m \u001b[0;32mor\u001b[0m \u001b[0mfinal_targets\u001b[0m \u001b[0;32mor\u001b[0m \u001b[0;34m(\u001b[0m\u001b[0mhandle\u001b[0m \u001b[0;32mand\u001b[0m \u001b[0mfeed_dict_tensor\u001b[0m\u001b[0;34m)\u001b[0m\u001b[0;34m:\u001b[0m\u001b[0;34m\u001b[0m\u001b[0m\n\u001b[1;32m   1127\u001b[0m       results = self._do_run(handle, final_targets, final_fetches,\n\u001b[0;32m-> 1128\u001b[0;31m                              feed_dict_tensor, options, run_metadata)\n\u001b[0m\u001b[1;32m   1129\u001b[0m     \u001b[0;32melse\u001b[0m\u001b[0;34m:\u001b[0m\u001b[0;34m\u001b[0m\u001b[0m\n\u001b[1;32m   1130\u001b[0m       \u001b[0mresults\u001b[0m \u001b[0;34m=\u001b[0m \u001b[0;34m[\u001b[0m\u001b[0;34m]\u001b[0m\u001b[0;34m\u001b[0m\u001b[0m\n",
      "\u001b[0;32m/Users/Tim/anaconda2/lib/python2.7/site-packages/tensorflow/python/client/session.pyc\u001b[0m in \u001b[0;36m_do_run\u001b[0;34m(self, handle, target_list, fetch_list, feed_dict, options, run_metadata)\u001b[0m\n\u001b[1;32m   1342\u001b[0m     \u001b[0;32mif\u001b[0m \u001b[0mhandle\u001b[0m \u001b[0;32mis\u001b[0m \u001b[0mNone\u001b[0m\u001b[0;34m:\u001b[0m\u001b[0;34m\u001b[0m\u001b[0m\n\u001b[1;32m   1343\u001b[0m       return self._do_call(_run_fn, self._session, feeds, fetches, targets,\n\u001b[0;32m-> 1344\u001b[0;31m                            options, run_metadata)\n\u001b[0m\u001b[1;32m   1345\u001b[0m     \u001b[0;32melse\u001b[0m\u001b[0;34m:\u001b[0m\u001b[0;34m\u001b[0m\u001b[0m\n\u001b[1;32m   1346\u001b[0m       \u001b[0;32mreturn\u001b[0m \u001b[0mself\u001b[0m\u001b[0;34m.\u001b[0m\u001b[0m_do_call\u001b[0m\u001b[0;34m(\u001b[0m\u001b[0m_prun_fn\u001b[0m\u001b[0;34m,\u001b[0m \u001b[0mself\u001b[0m\u001b[0;34m.\u001b[0m\u001b[0m_session\u001b[0m\u001b[0;34m,\u001b[0m \u001b[0mhandle\u001b[0m\u001b[0;34m,\u001b[0m \u001b[0mfeeds\u001b[0m\u001b[0;34m,\u001b[0m \u001b[0mfetches\u001b[0m\u001b[0;34m)\u001b[0m\u001b[0;34m\u001b[0m\u001b[0m\n",
      "\u001b[0;32m/Users/Tim/anaconda2/lib/python2.7/site-packages/tensorflow/python/client/session.pyc\u001b[0m in \u001b[0;36m_do_call\u001b[0;34m(self, fn, *args)\u001b[0m\n\u001b[1;32m   1348\u001b[0m   \u001b[0;32mdef\u001b[0m \u001b[0m_do_call\u001b[0m\u001b[0;34m(\u001b[0m\u001b[0mself\u001b[0m\u001b[0;34m,\u001b[0m \u001b[0mfn\u001b[0m\u001b[0;34m,\u001b[0m \u001b[0;34m*\u001b[0m\u001b[0margs\u001b[0m\u001b[0;34m)\u001b[0m\u001b[0;34m:\u001b[0m\u001b[0;34m\u001b[0m\u001b[0m\n\u001b[1;32m   1349\u001b[0m     \u001b[0;32mtry\u001b[0m\u001b[0;34m:\u001b[0m\u001b[0;34m\u001b[0m\u001b[0m\n\u001b[0;32m-> 1350\u001b[0;31m       \u001b[0;32mreturn\u001b[0m \u001b[0mfn\u001b[0m\u001b[0;34m(\u001b[0m\u001b[0;34m*\u001b[0m\u001b[0margs\u001b[0m\u001b[0;34m)\u001b[0m\u001b[0;34m\u001b[0m\u001b[0m\n\u001b[0m\u001b[1;32m   1351\u001b[0m     \u001b[0;32mexcept\u001b[0m \u001b[0merrors\u001b[0m\u001b[0;34m.\u001b[0m\u001b[0mOpError\u001b[0m \u001b[0;32mas\u001b[0m \u001b[0me\u001b[0m\u001b[0;34m:\u001b[0m\u001b[0;34m\u001b[0m\u001b[0m\n\u001b[1;32m   1352\u001b[0m       \u001b[0mmessage\u001b[0m \u001b[0;34m=\u001b[0m \u001b[0mcompat\u001b[0m\u001b[0;34m.\u001b[0m\u001b[0mas_text\u001b[0m\u001b[0;34m(\u001b[0m\u001b[0me\u001b[0m\u001b[0;34m.\u001b[0m\u001b[0mmessage\u001b[0m\u001b[0;34m)\u001b[0m\u001b[0;34m\u001b[0m\u001b[0m\n",
      "\u001b[0;32m/Users/Tim/anaconda2/lib/python2.7/site-packages/tensorflow/python/client/session.pyc\u001b[0m in \u001b[0;36m_run_fn\u001b[0;34m(session, feed_dict, fetch_list, target_list, options, run_metadata)\u001b[0m\n\u001b[1;32m   1327\u001b[0m           return tf_session.TF_Run(session, options,\n\u001b[1;32m   1328\u001b[0m                                    \u001b[0mfeed_dict\u001b[0m\u001b[0;34m,\u001b[0m \u001b[0mfetch_list\u001b[0m\u001b[0;34m,\u001b[0m \u001b[0mtarget_list\u001b[0m\u001b[0;34m,\u001b[0m\u001b[0;34m\u001b[0m\u001b[0m\n\u001b[0;32m-> 1329\u001b[0;31m                                    status, run_metadata)\n\u001b[0m\u001b[1;32m   1330\u001b[0m \u001b[0;34m\u001b[0m\u001b[0m\n\u001b[1;32m   1331\u001b[0m     \u001b[0;32mdef\u001b[0m \u001b[0m_prun_fn\u001b[0m\u001b[0;34m(\u001b[0m\u001b[0msession\u001b[0m\u001b[0;34m,\u001b[0m \u001b[0mhandle\u001b[0m\u001b[0;34m,\u001b[0m \u001b[0mfeed_dict\u001b[0m\u001b[0;34m,\u001b[0m \u001b[0mfetch_list\u001b[0m\u001b[0;34m)\u001b[0m\u001b[0;34m:\u001b[0m\u001b[0;34m\u001b[0m\u001b[0m\n",
      "\u001b[0;31mKeyboardInterrupt\u001b[0m: "
     ]
    }
   ],
   "source": [
    "filters1 = [1,2]#,4,8,12]\n",
    "filters2 = [1,2]#,4,8,12]\n",
    "num_epochs = 1\n",
    "weave_acc = {}\n",
    "norm_acc = {}\n",
    "for filt1 in filters1:\n",
    "    for filt2 in filters2:\n",
    "        print(filt1,filt2)\n",
    "        weave_model = build_weave_conv_model(filt1,filt2)\n",
    "        norm_model = build_norm_conv_model(filt1,filt2)\n",
    "        weave_model.fit(X_train[0:100], Y_train[0:100], epochs = num_epochs, verbose=0)\n",
    "        norm_model.fit(X_train[0:100], Y_train[0:100], epochs = num_epochs, verbose=0)\n",
    "        weave_acc[(filt1,filt2)] = weave_model.evaluate(X_Val, Y_val, verbose = 0)[1]\n",
    "        norm_acc[(filt1,filt2)] = norm_model.evaluate(X_Val, Y_val, verbose = 0)[1]\n",
    "        print('Weave Model', weave_acc[(filt1,filt2)])\n",
    "        print('Norm Model', norm_acc[(filt1,filt2)])"
   ]
  },
  {
   "cell_type": "code",
   "execution_count": null,
   "metadata": {},
   "outputs": [],
   "source": []
  }
 ],
 "metadata": {
  "kernelspec": {
   "display_name": "Python 2",
   "language": "python",
   "name": "python2"
  },
  "language_info": {
   "codemirror_mode": {
    "name": "ipython",
    "version": 2
   },
   "file_extension": ".py",
   "mimetype": "text/x-python",
   "name": "python",
   "nbconvert_exporter": "python",
   "pygments_lexer": "ipython2",
   "version": "2.7.14"
  }
 },
 "nbformat": 4,
 "nbformat_minor": 2
}
