{
 "cells": [
  {
   "cell_type": "code",
   "execution_count": 1,
   "metadata": {},
   "outputs": [
    {
     "name": "stderr",
     "output_type": "stream",
     "text": [
      "/Users/Takn/anaconda3/lib/python3.6/site-packages/h5py/__init__.py:36: FutureWarning: Conversion of the second argument of issubdtype from `float` to `np.floating` is deprecated. In future, it will be treated as `np.float64 == np.dtype(float).type`.\n",
      "  from ._conv import register_converters as _register_converters\n",
      "Using TensorFlow backend.\n"
     ]
    }
   ],
   "source": [
    "from data_utils import get_CIFAR10_data\n",
    "import numpy as np\n",
    "\n",
    "import keras\n",
    "import tensorflow as tf\n",
    "from keras.layers import Input, Conv2D, Dense, Flatten, Add, ZeroPadding2D, add, MaxPool2D\n",
    "from keras.models import Model\n",
    "from keras.utils.np_utils import to_categorical \n",
    "from tensorflow_weave import *"
   ]
  },
  {
   "cell_type": "code",
   "execution_count": 4,
   "metadata": {},
   "outputs": [
    {
     "name": "stdout",
     "output_type": "stream",
     "text": [
      "X_train:  (49000, 3, 32, 32)\n",
      "y_train:  (49000,)\n",
      "X_val:  (1000, 3, 32, 32)\n",
      "y_val:  (1000,)\n",
      "X_test:  (1000, 3, 32, 32)\n",
      "y_test:  (1000,)\n"
     ]
    }
   ],
   "source": [
    "#Load the (preprocessed) CIFAR10 data.\n",
    "\n",
    "data = get_CIFAR10_data()\n",
    "for k, v in data.items():\n",
    "  print('%s: ' % k, v.shape)"
   ]
  },
  {
   "cell_type": "code",
   "execution_count": 5,
   "metadata": {
    "collapsed": true
   },
   "outputs": [],
   "source": [
    "filter_size = 3\n",
    "num_filters = 2\n",
    "pad_size = filter_size//2\n",
    "mid_layer = 100\n",
    "\n",
    "\n",
    "X_train = data['X_train']\n",
    "Y_train = data['y_train']\n",
    "X_Val = data['X_val']\n",
    "Y_Val = data['y_val']\n",
    "\n",
    "Y_train = to_categorical(Y_train, num_classes=10)\n",
    "Y_val = to_categorical(Y_Val, num_classes=10)"
   ]
  },
  {
   "cell_type": "code",
   "execution_count": 6,
   "metadata": {
    "collapsed": true
   },
   "outputs": [],
   "source": [
    "def build_weave_conv_model(num_filters1, num_filters2):\n",
    "    inputs = Input(shape=(3,32,32))\n",
    "\n",
    "\n",
    "    ######### Layer 1\n",
    "    x_pad = ZeroPadding2D(padding=(pad_size,pad_size))(inputs)\n",
    "\n",
    "\n",
    "    x_per = Conv2D(num_filters1,\n",
    "                   kernel_size = (filter_size,filter_size),\n",
    "                   strides=(1,1),\n",
    "                   padding='valid',\n",
    "                   activation='relu')(x_pad)\n",
    "\n",
    "    x_loc = Conv2D(num_filters1,\n",
    "                   kernel_size= (filter_size,filter_size),\n",
    "                   strides=(1,1),\n",
    "                   padding='valid',\n",
    "                   activation = 'relu')(x_pad)\n",
    "\n",
    "    x_zero = ZeroWeave()(x_loc)\n",
    "    x_weave = ArrayWeave()(x_per)\n",
    "\n",
    "    x = Add()([x_weave, x_zero])\n",
    "\n",
    "    x = ZeroPadding2D(padding=(pad_size,pad_size))(x)\n",
    "\n",
    "    x = Conv2D(num_filters2,\n",
    "               kernel_size= (filter_size,filter_size),\n",
    "               strides=(filter_size,filter_size),\n",
    "               padding='valid',\n",
    "               activation = 'relu')(x)\n",
    "    x = MaxPool2D()(x)\n",
    "#     ###############\n",
    "#     x_pad = ZeroPadding2D(padding=(pad_size,pad_size))(x)\n",
    "\n",
    "\n",
    "#     x_per = Conv2D(2*num_filters,\n",
    "#                    kernel_size = (filter_size,filter_size),\n",
    "#                    strides=(1,1),\n",
    "#                    padding='valid',\n",
    "#                    activation='relu')(x_pad)\n",
    "\n",
    "#     x_loc = Conv2D(2*num_filters,\n",
    "#                    kernel_size= (filter_size,filter_size),\n",
    "#                    strides=(1,1),\n",
    "#                    padding='valid',\n",
    "#                    activation = 'relu')(x_pad)\n",
    "\n",
    "#     x_zero = ZeroWeave()(x_loc)\n",
    "#     x_weave = ArrayWeave()(x_per)\n",
    "\n",
    "#     x = Add()([x_weave, x_zero])\n",
    "\n",
    "#     x = ZeroPadding2D(padding=(pad_size,pad_size))(x)\n",
    "\n",
    "#     x = Conv2D(2*num_filters,\n",
    "#                kernel_size= (filter_size,filter_size),\n",
    "#                strides=(filter_size,filter_size),\n",
    "#                padding='valid',\n",
    "#                activation = 'relu')(x)\n",
    "\n",
    "#     x = MaxPool2D()(x)\n",
    "    x = Flatten()(x)\n",
    "    x = Dense(mid_layer, activation = 'relu')(x)\n",
    "    predictions = Dense(10, activation='softmax')(x)\n",
    "\n",
    "    # This creates a model that includes\n",
    "    # the Input layer and three Dense layers\n",
    "    model = Model(inputs=[inputs], outputs=predictions)\n",
    "    model.compile(loss='categorical_crossentropy', optimizer='adam', metrics=['accuracy'])\n",
    "    return model"
   ]
  },
  {
   "cell_type": "code",
   "execution_count": 7,
   "metadata": {},
   "outputs": [],
   "source": [
    "#hist1 = model.fit(X_train, Y_train, epochs = 10, validation_split=.05, verbose=1)"
   ]
  },
  {
   "cell_type": "code",
   "execution_count": 8,
   "metadata": {
    "collapsed": true
   },
   "outputs": [],
   "source": [
    "def build_norm_conv_model(num_filters1, num_filters2):\n",
    "    inputs = Input(shape=(3,32,32))\n",
    "\n",
    "    ####### Layer 1\n",
    "    x = ZeroPadding2D(padding=(pad_size,pad_size))(inputs)\n",
    "\n",
    "    x = Conv2D(num_filters1,\n",
    "                   kernel_size = (filter_size,filter_size),\n",
    "                   strides=(1,1),\n",
    "                   padding='valid',\n",
    "                   activation='relu')(x)\n",
    "\n",
    "    x = ZeroPadding2D(padding=(pad_size,pad_size))(x)\n",
    "\n",
    "    x = Conv2D(num_filters1,\n",
    "                   kernel_size= (filter_size,filter_size),\n",
    "                   strides=(1,1),\n",
    "                   padding='valid',\n",
    "                   activation = 'relu')(x)\n",
    "\n",
    "    x = ZeroPadding2D(padding=(pad_size,pad_size))(x)\n",
    "\n",
    "    x = Conv2D(num_filters2,\n",
    "               kernel_size= (filter_size,filter_size),\n",
    "               strides=(1,1),\n",
    "               padding='valid',\n",
    "               activation = 'relu')(x)\n",
    "\n",
    "    x = MaxPool2D()(x)\n",
    "#     ####### Layer 2\n",
    "#     x = ZeroPadding2D(padding=(pad_size,pad_size))(x)\n",
    "\n",
    "#     x = Conv2D(2*num_filters,\n",
    "#                    kernel_size = (filter_size,filter_size),\n",
    "#                    strides=(1,1),\n",
    "#                    padding='valid',\n",
    "#                    activation='relu')(x)\n",
    "\n",
    "#     x = ZeroPadding2D(padding=(pad_size,pad_size))(x)\n",
    "\n",
    "#     x = Conv2D(2*num_filters,\n",
    "#                    kernel_size= (filter_size,filter_size),\n",
    "#                    strides=(1,1),\n",
    "#                    padding='valid',\n",
    "#                    activation = 'relu')(x)\n",
    "\n",
    "#     x = ZeroPadding2D(padding=(pad_size,pad_size))(x)\n",
    "\n",
    "#     x = Conv2D(2*num_filters,\n",
    "#                kernel_size= (filter_size,filter_size),\n",
    "#                strides=(1,1),\n",
    "#                padding='valid',\n",
    "#                activation = 'relu')(x)\n",
    "\n",
    "#     x = MaxPool2D()(x)\n",
    "    x = Flatten()(x)\n",
    "    x = Dense(mid_layer, activation = 'relu')(x)\n",
    "    predictions = Dense(10, activation='softmax')(x)\n",
    "\n",
    "    # This creates a model that includes\n",
    "    # the Input layer and three Dense layers\n",
    "    model2 = Model(inputs=[inputs], outputs=predictions)\n",
    "    model2.compile(loss='categorical_crossentropy', optimizer='adam', metrics=['accuracy'])\n",
    "    return model2"
   ]
  },
  {
   "cell_type": "code",
   "execution_count": 9,
   "metadata": {},
   "outputs": [],
   "source": [
    "#hist2 = model2.fit(X_train, Y_train, epochs = 10, validation_split=.05, verbose=1)"
   ]
  },
  {
   "cell_type": "code",
   "execution_count": null,
   "metadata": {},
   "outputs": [
    {
     "name": "stdout",
     "output_type": "stream",
     "text": [
      "1 1\n",
      "Weave Model 0.418\n",
      "Norm Model 0.438\n",
      "1 2\n",
      "Weave Model 0.42\n",
      "Norm Model 0.518\n",
      "1 4\n",
      "Weave Model 0.474\n",
      "Norm Model 0.535\n",
      "1 8\n",
      "Weave Model 0.506\n",
      "Norm Model 0.498\n",
      "1 12\n",
      "Weave Model 0.498\n",
      "Norm Model 0.541\n",
      "2 1\n",
      "Weave Model 0.437\n",
      "Norm Model 0.444\n",
      "2 2\n",
      "Weave Model 0.452\n",
      "Norm Model 0.494\n",
      "2 4\n",
      "Weave Model 0.112\n",
      "Norm Model 0.516\n",
      "2 8\n",
      "Weave Model 0.087\n",
      "Norm Model 0.564\n",
      "2 12\n",
      "Weave Model 0.107\n",
      "Norm Model 0.502\n",
      "4 1\n"
     ]
    }
   ],
   "source": [
    "filters1 = [1,2,4,8,12]\n",
    "filters2 = [1,2,4,8,12]\n",
    "num_epochs = 10\n",
    "weave_acc = {}\n",
    "norm_acc = {}\n",
    "for filt1 in filters1:\n",
    "    for filt2 in filters2:\n",
    "        print(filt1,filt2)\n",
    "        weave_model = build_weave_conv_model(filt1,filt2)\n",
    "        norm_model = build_norm_conv_model(filt1,filt2)\n",
    "        weave_model.fit(X_train, Y_train, epochs = num_epochs, verbose=0)\n",
    "        norm_model.fit(X_train, Y_train, epochs = num_epochs, verbose=0)\n",
    "        weave_acc[(filt1,filt2)] = weave_model.evaluate(X_Val, Y_val, verbose = 0)[1]\n",
    "        norm_acc[(filt1,filt2)] = norm_model.evaluate(X_Val, Y_val, verbose = 0)[1]\n",
    "        print('Weave Model', weave_acc[(filt1,filt2)])\n",
    "        print('Norm Model', norm_acc[(filt1,filt2)])"
   ]
  },
  {
   "cell_type": "code",
   "execution_count": null,
   "metadata": {
    "collapsed": true
   },
   "outputs": [],
   "source": []
  }
 ],
 "metadata": {
  "kernelspec": {
   "display_name": "Python 3",
   "language": "python",
   "name": "python3"
  },
  "language_info": {
   "codemirror_mode": {
    "name": "ipython",
    "version": 3
   },
   "file_extension": ".py",
   "mimetype": "text/x-python",
   "name": "python",
   "nbconvert_exporter": "python",
   "pygments_lexer": "ipython3",
   "version": "3.6.3"
  }
 },
 "nbformat": 4,
 "nbformat_minor": 2
}
