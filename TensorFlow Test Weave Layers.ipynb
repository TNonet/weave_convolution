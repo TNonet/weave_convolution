{
 "cells": [
  {
   "cell_type": "code",
   "execution_count": 1,
   "metadata": {},
   "outputs": [
    {
     "name": "stderr",
     "output_type": "stream",
     "text": [
      "/Users/Takn/anaconda3/lib/python3.6/site-packages/h5py/__init__.py:36: FutureWarning: Conversion of the second argument of issubdtype from `float` to `np.floating` is deprecated. In future, it will be treated as `np.float64 == np.dtype(float).type`.\n",
      "  from ._conv import register_converters as _register_converters\n",
      "Using TensorFlow backend.\n"
     ]
    }
   ],
   "source": [
    "from data_utils import get_CIFAR10_data\n",
    "import numpy as np\n",
    "\n",
    "import keras\n",
    "import tensorflow as tf\n",
    "from keras.layers import Input, Conv2D, Dense, Flatten, Add, ZeroPadding2D, add, MaxPool2D\n",
    "from keras.models import Model\n",
    "from keras.utils.np_utils import to_categorical \n",
    "from tensorflow_weave import *"
   ]
  },
  {
   "cell_type": "code",
   "execution_count": 2,
   "metadata": {},
   "outputs": [
    {
     "name": "stdout",
     "output_type": "stream",
     "text": [
      "X_train:  (49000, 3, 32, 32)\n",
      "y_train:  (49000,)\n",
      "X_val:  (1000, 3, 32, 32)\n",
      "y_val:  (1000,)\n",
      "X_test:  (1000, 3, 32, 32)\n",
      "y_test:  (1000,)\n"
     ]
    }
   ],
   "source": [
    "#Load the (preprocessed) CIFAR10 data.\n",
    "\n",
    "data = get_CIFAR10_data()\n",
    "for k, v in data.items():\n",
    "  print('%s: ' % k, v.shape)"
   ]
  },
  {
   "cell_type": "code",
   "execution_count": 3,
   "metadata": {
    "collapsed": true
   },
   "outputs": [],
   "source": [
    "filter_size = 3\n",
    "num_filters = 2\n",
    "pad_size = filter_size//2\n",
    "mid_layer = 100\n",
    "\n",
    "\n",
    "X_train = data['X_train']\n",
    "Y_train = data['y_train']\n",
    "X_Val = data['X_val']\n",
    "Y_Val = data['y_val']\n",
    "\n",
    "Y_train = to_categorical(Y_train, num_classes=10)\n",
    "Y_val = to_categorical(Y_Val, num_classes=10)"
   ]
  },
  {
   "cell_type": "code",
   "execution_count": 9,
   "metadata": {
    "collapsed": true
   },
   "outputs": [],
   "source": [
    "def build_weave_conv_model(num_filters1, num_filters2, include_center):\n",
    "    inputs = Input(shape=(3,32,32))\n",
    "    tf.cast(inputs, dtype=tf.float64)\n",
    "    ######### Layer 1\n",
    "    x_pad = ZeroPadding2D(padding=(pad_size,pad_size))(inputs)\n",
    "\n",
    "\n",
    "    x_per = Conv2D(num_filters1,\n",
    "                   kernel_size = (filter_size,filter_size),\n",
    "                   strides=(1,1),\n",
    "                   padding='valid',\n",
    "                   activation='relu')(x_pad)\n",
    "\n",
    "    x_loc = Conv2D(num_filters1,\n",
    "                   kernel_size= (filter_size,filter_size),\n",
    "                   strides=(1,1),\n",
    "                   padding='valid',\n",
    "                   activation = 'relu')(x_pad)\n",
    "\n",
    "    x_zero = ZeroWeave()(x_loc)\n",
    "    x_weave = ArrayWeave(include_center = include_center)(x_per)\n",
    "\n",
    "    x = Add()([x_weave, x_zero])\n",
    "\n",
    "    x = ZeroPadding2D(padding=(pad_size,pad_size))(x)\n",
    "\n",
    "    x = Conv2D(num_filters2,\n",
    "               kernel_size= (filter_size,filter_size),\n",
    "               strides=(filter_size,filter_size),\n",
    "               padding='valid',\n",
    "               activation = 'relu')(x)\n",
    "    x = MaxPool2D()(x)\n",
    "#     ###############\n",
    "#     x_pad = ZeroPadding2D(padding=(pad_size,pad_size))(x)\n",
    "\n",
    "\n",
    "#     x_per = Conv2D(2*num_filters,\n",
    "#                    kernel_size = (filter_size,filter_size),\n",
    "#                    strides=(1,1),\n",
    "#                    padding='valid',\n",
    "#                    activation='relu')(x_pad)\n",
    "\n",
    "#     x_loc = Conv2D(2*num_filters,\n",
    "#                    kernel_size= (filter_size,filter_size),\n",
    "#                    strides=(1,1),\n",
    "#                    padding='valid',\n",
    "#                    activation = 'relu')(x_pad)\n",
    "\n",
    "#     x_zero = ZeroWeave()(x_loc)\n",
    "#     x_weave = ArrayWeave()(x_per)\n",
    "\n",
    "#     x = Add()([x_weave, x_zero])\n",
    "\n",
    "#     x = ZeroPadding2D(padding=(pad_size,pad_size))(x)\n",
    "\n",
    "#     x = Conv2D(2*num_filters,\n",
    "#                kernel_size= (filter_size,filter_size),\n",
    "#                strides=(filter_size,filter_size),\n",
    "#                padding='valid',\n",
    "#                activation = 'relu')(x)\n",
    "\n",
    "#     x = MaxPool2D()(x)\n",
    "    x = Flatten()(x)\n",
    "    x = Dense(mid_layer, activation = 'relu')(x)\n",
    "    predictions = Dense(10, activation='softmax')(x)\n",
    "\n",
    "    # This creates a model that includes\n",
    "    # the Input layer and three Dense layers\n",
    "    model = Model(inputs=[inputs], outputs=predictions)\n",
    "    model.compile(loss='categorical_crossentropy', optimizer='adam', metrics=['accuracy'])\n",
    "    return model"
   ]
  },
  {
   "cell_type": "code",
   "execution_count": 10,
   "metadata": {},
   "outputs": [],
   "source": [
    "#hist1 = model.fit(X_train, Y_train, epochs = 10, validation_split=.05, verbose=1)"
   ]
  },
  {
   "cell_type": "code",
   "execution_count": 11,
   "metadata": {
    "collapsed": true
   },
   "outputs": [],
   "source": [
    "def build_norm_conv_model(num_filters1, num_filters2):\n",
    "    inputs = Input(shape=(3,32,32))\n",
    "    \n",
    "    tf.cast(inputs, dtype=tf.float64)\n",
    "    ####### Layer 1\n",
    "    x = ZeroPadding2D(padding=(pad_size,pad_size))(inputs)\n",
    "    \n",
    "    \n",
    "\n",
    "    x = Conv2D(num_filters1,\n",
    "                   kernel_size = (filter_size,filter_size),\n",
    "                   strides=(1,1),\n",
    "                   padding='valid',\n",
    "                   activation='relu')(x)\n",
    "\n",
    "    x = ZeroPadding2D(padding=(pad_size,pad_size))(x)\n",
    "\n",
    "    x = Conv2D(num_filters1,\n",
    "                   kernel_size= (filter_size,filter_size),\n",
    "                   strides=(1,1),\n",
    "                   padding='valid',\n",
    "                   activation = 'relu')(x)\n",
    "\n",
    "    x = ZeroPadding2D(padding=(pad_size,pad_size))(x)\n",
    "\n",
    "    x = Conv2D(num_filters2,\n",
    "               kernel_size= (filter_size,filter_size),\n",
    "               strides=(1,1),\n",
    "               padding='valid',\n",
    "               activation = 'relu')(x)\n",
    "\n",
    "    x = MaxPool2D()(x)\n",
    "#     ####### Layer 2\n",
    "#     x = ZeroPadding2D(padding=(pad_size,pad_size))(x)\n",
    "\n",
    "#     x = Conv2D(2*num_filters,\n",
    "#                    kernel_size = (filter_size,filter_size),\n",
    "#                    strides=(1,1),\n",
    "#                    padding='valid',\n",
    "#                    activation='relu')(x)\n",
    "\n",
    "#     x = ZeroPadding2D(padding=(pad_size,pad_size))(x)\n",
    "\n",
    "#     x = Conv2D(2*num_filters,\n",
    "#                    kernel_size= (filter_size,filter_size),\n",
    "#                    strides=(1,1),\n",
    "#                    padding='valid',\n",
    "#                    activation = 'relu')(x)\n",
    "\n",
    "#     x = ZeroPadding2D(padding=(pad_size,pad_size))(x)\n",
    "\n",
    "#     x = Conv2D(2*num_filters,\n",
    "#                kernel_size= (filter_size,filter_size),\n",
    "#                strides=(1,1),\n",
    "#                padding='valid',\n",
    "#                activation = 'relu')(x)\n",
    "\n",
    "#     x = MaxPool2D()(x)\n",
    "    x = Flatten()(x)\n",
    "    x = Dense(mid_layer, activation = 'relu')(x)\n",
    "    predictions = Dense(10, activation='softmax')(x)\n",
    "\n",
    "    model2 = Model(inputs=[inputs], outputs=predictions)\n",
    "    model2.compile(loss='categorical_crossentropy', optimizer='adam', metrics=['accuracy'])\n",
    "    return model2"
   ]
  },
  {
   "cell_type": "code",
   "execution_count": 12,
   "metadata": {},
   "outputs": [],
   "source": [
    "#hist2 = model2.fit(X_train, Y_train, epochs = 10, validation_split=.05, verbose=1)"
   ]
  },
  {
   "cell_type": "code",
   "execution_count": 14,
   "metadata": {},
   "outputs": [
    {
     "name": "stdout",
     "output_type": "stream",
     "text": [
      "2 2\n",
      "Weave Model Center 0.079\n",
      "Weave Model No center 0.448\n",
      "Norm Model 0.499\n",
      "2 4\n",
      "Weave Model Center 0.535\n",
      "Weave Model No center 0.49\n",
      "Norm Model 0.523\n",
      "2 8\n",
      "Weave Model Center 0.119\n",
      "Weave Model No center 0.112\n",
      "Norm Model 0.549\n",
      "4 2\n"
     ]
    },
    {
     "ename": "KeyboardInterrupt",
     "evalue": "",
     "output_type": "error",
     "traceback": [
      "\u001b[0;31m---------------------------------------------------------------------------\u001b[0m",
      "\u001b[0;31mKeyboardInterrupt\u001b[0m                         Traceback (most recent call last)",
      "\u001b[0;32m<ipython-input-14-eeed5aea7693>\u001b[0m in \u001b[0;36m<module>\u001b[0;34m()\u001b[0m\n\u001b[1;32m     13\u001b[0m         \u001b[0mnorm_model\u001b[0m \u001b[0;34m=\u001b[0m \u001b[0mbuild_norm_conv_model\u001b[0m\u001b[0;34m(\u001b[0m\u001b[0mfilt1\u001b[0m\u001b[0;34m,\u001b[0m\u001b[0mfilt2\u001b[0m\u001b[0;34m)\u001b[0m\u001b[0;34m\u001b[0m\u001b[0m\n\u001b[1;32m     14\u001b[0m         \u001b[0mweave_model_no_center\u001b[0m\u001b[0;34m.\u001b[0m\u001b[0mfit\u001b[0m\u001b[0;34m(\u001b[0m\u001b[0mX_train\u001b[0m\u001b[0;34m,\u001b[0m \u001b[0mY_train\u001b[0m\u001b[0;34m,\u001b[0m \u001b[0mepochs\u001b[0m \u001b[0;34m=\u001b[0m \u001b[0mnum_epochs\u001b[0m\u001b[0;34m,\u001b[0m \u001b[0mverbose\u001b[0m\u001b[0;34m=\u001b[0m\u001b[0;36m0\u001b[0m\u001b[0;34m)\u001b[0m\u001b[0;34m\u001b[0m\u001b[0m\n\u001b[0;32m---> 15\u001b[0;31m         \u001b[0mweave_model_center\u001b[0m\u001b[0;34m.\u001b[0m\u001b[0mfit\u001b[0m\u001b[0;34m(\u001b[0m\u001b[0mX_train\u001b[0m\u001b[0;34m,\u001b[0m \u001b[0mY_train\u001b[0m\u001b[0;34m,\u001b[0m \u001b[0mepochs\u001b[0m \u001b[0;34m=\u001b[0m \u001b[0mnum_epochs\u001b[0m\u001b[0;34m,\u001b[0m \u001b[0mverbose\u001b[0m\u001b[0;34m=\u001b[0m\u001b[0;36m0\u001b[0m\u001b[0;34m)\u001b[0m\u001b[0;34m\u001b[0m\u001b[0m\n\u001b[0m\u001b[1;32m     16\u001b[0m         \u001b[0mnorm_model\u001b[0m\u001b[0;34m.\u001b[0m\u001b[0mfit\u001b[0m\u001b[0;34m(\u001b[0m\u001b[0mX_train\u001b[0m\u001b[0;34m,\u001b[0m \u001b[0mY_train\u001b[0m\u001b[0;34m,\u001b[0m \u001b[0mepochs\u001b[0m \u001b[0;34m=\u001b[0m \u001b[0mnum_epochs\u001b[0m\u001b[0;34m,\u001b[0m \u001b[0mverbose\u001b[0m\u001b[0;34m=\u001b[0m\u001b[0;36m0\u001b[0m\u001b[0;34m)\u001b[0m\u001b[0;34m\u001b[0m\u001b[0m\n\u001b[1;32m     17\u001b[0m \u001b[0;34m\u001b[0m\u001b[0m\n",
      "\u001b[0;32m~/anaconda3/lib/python3.6/site-packages/keras/engine/training.py\u001b[0m in \u001b[0;36mfit\u001b[0;34m(self, x, y, batch_size, epochs, verbose, callbacks, validation_split, validation_data, shuffle, class_weight, sample_weight, initial_epoch, steps_per_epoch, validation_steps, **kwargs)\u001b[0m\n\u001b[1;32m   1035\u001b[0m                                         \u001b[0minitial_epoch\u001b[0m\u001b[0;34m=\u001b[0m\u001b[0minitial_epoch\u001b[0m\u001b[0;34m,\u001b[0m\u001b[0;34m\u001b[0m\u001b[0m\n\u001b[1;32m   1036\u001b[0m                                         \u001b[0msteps_per_epoch\u001b[0m\u001b[0;34m=\u001b[0m\u001b[0msteps_per_epoch\u001b[0m\u001b[0;34m,\u001b[0m\u001b[0;34m\u001b[0m\u001b[0m\n\u001b[0;32m-> 1037\u001b[0;31m                                         validation_steps=validation_steps)\n\u001b[0m\u001b[1;32m   1038\u001b[0m \u001b[0;34m\u001b[0m\u001b[0m\n\u001b[1;32m   1039\u001b[0m     def evaluate(self, x=None, y=None,\n",
      "\u001b[0;32m~/anaconda3/lib/python3.6/site-packages/keras/engine/training_arrays.py\u001b[0m in \u001b[0;36mfit_loop\u001b[0;34m(model, f, ins, out_labels, batch_size, epochs, verbose, callbacks, val_f, val_ins, shuffle, callback_metrics, initial_epoch, steps_per_epoch, validation_steps)\u001b[0m\n\u001b[1;32m    197\u001b[0m                     \u001b[0mins_batch\u001b[0m\u001b[0;34m[\u001b[0m\u001b[0mi\u001b[0m\u001b[0;34m]\u001b[0m \u001b[0;34m=\u001b[0m \u001b[0mins_batch\u001b[0m\u001b[0;34m[\u001b[0m\u001b[0mi\u001b[0m\u001b[0;34m]\u001b[0m\u001b[0;34m.\u001b[0m\u001b[0mtoarray\u001b[0m\u001b[0;34m(\u001b[0m\u001b[0;34m)\u001b[0m\u001b[0;34m\u001b[0m\u001b[0m\n\u001b[1;32m    198\u001b[0m \u001b[0;34m\u001b[0m\u001b[0m\n\u001b[0;32m--> 199\u001b[0;31m                 \u001b[0mouts\u001b[0m \u001b[0;34m=\u001b[0m \u001b[0mf\u001b[0m\u001b[0;34m(\u001b[0m\u001b[0mins_batch\u001b[0m\u001b[0;34m)\u001b[0m\u001b[0;34m\u001b[0m\u001b[0m\n\u001b[0m\u001b[1;32m    200\u001b[0m                 \u001b[0mouts\u001b[0m \u001b[0;34m=\u001b[0m \u001b[0mto_list\u001b[0m\u001b[0;34m(\u001b[0m\u001b[0mouts\u001b[0m\u001b[0;34m)\u001b[0m\u001b[0;34m\u001b[0m\u001b[0m\n\u001b[1;32m    201\u001b[0m                 \u001b[0;32mfor\u001b[0m \u001b[0ml\u001b[0m\u001b[0;34m,\u001b[0m \u001b[0mo\u001b[0m \u001b[0;32min\u001b[0m \u001b[0mzip\u001b[0m\u001b[0;34m(\u001b[0m\u001b[0mout_labels\u001b[0m\u001b[0;34m,\u001b[0m \u001b[0mouts\u001b[0m\u001b[0;34m)\u001b[0m\u001b[0;34m:\u001b[0m\u001b[0;34m\u001b[0m\u001b[0m\n",
      "\u001b[0;32m~/anaconda3/lib/python3.6/site-packages/keras/backend/tensorflow_backend.py\u001b[0m in \u001b[0;36m__call__\u001b[0;34m(self, inputs)\u001b[0m\n\u001b[1;32m   2664\u001b[0m                 \u001b[0;32mreturn\u001b[0m \u001b[0mself\u001b[0m\u001b[0;34m.\u001b[0m\u001b[0m_legacy_call\u001b[0m\u001b[0;34m(\u001b[0m\u001b[0minputs\u001b[0m\u001b[0;34m)\u001b[0m\u001b[0;34m\u001b[0m\u001b[0m\n\u001b[1;32m   2665\u001b[0m \u001b[0;34m\u001b[0m\u001b[0m\n\u001b[0;32m-> 2666\u001b[0;31m             \u001b[0;32mreturn\u001b[0m \u001b[0mself\u001b[0m\u001b[0;34m.\u001b[0m\u001b[0m_call\u001b[0m\u001b[0;34m(\u001b[0m\u001b[0minputs\u001b[0m\u001b[0;34m)\u001b[0m\u001b[0;34m\u001b[0m\u001b[0m\n\u001b[0m\u001b[1;32m   2667\u001b[0m         \u001b[0;32melse\u001b[0m\u001b[0;34m:\u001b[0m\u001b[0;34m\u001b[0m\u001b[0m\n\u001b[1;32m   2668\u001b[0m             \u001b[0;32mif\u001b[0m \u001b[0mpy_any\u001b[0m\u001b[0;34m(\u001b[0m\u001b[0mis_tensor\u001b[0m\u001b[0;34m(\u001b[0m\u001b[0mx\u001b[0m\u001b[0;34m)\u001b[0m \u001b[0;32mfor\u001b[0m \u001b[0mx\u001b[0m \u001b[0;32min\u001b[0m \u001b[0minputs\u001b[0m\u001b[0;34m)\u001b[0m\u001b[0;34m:\u001b[0m\u001b[0;34m\u001b[0m\u001b[0m\n",
      "\u001b[0;32m~/anaconda3/lib/python3.6/site-packages/keras/backend/tensorflow_backend.py\u001b[0m in \u001b[0;36m_call\u001b[0;34m(self, inputs)\u001b[0m\n\u001b[1;32m   2634\u001b[0m                                 \u001b[0msymbol_vals\u001b[0m\u001b[0;34m,\u001b[0m\u001b[0;34m\u001b[0m\u001b[0m\n\u001b[1;32m   2635\u001b[0m                                 session)\n\u001b[0;32m-> 2636\u001b[0;31m         \u001b[0mfetched\u001b[0m \u001b[0;34m=\u001b[0m \u001b[0mself\u001b[0m\u001b[0;34m.\u001b[0m\u001b[0m_callable_fn\u001b[0m\u001b[0;34m(\u001b[0m\u001b[0;34m*\u001b[0m\u001b[0marray_vals\u001b[0m\u001b[0;34m)\u001b[0m\u001b[0;34m\u001b[0m\u001b[0m\n\u001b[0m\u001b[1;32m   2637\u001b[0m         \u001b[0;32mreturn\u001b[0m \u001b[0mfetched\u001b[0m\u001b[0;34m[\u001b[0m\u001b[0;34m:\u001b[0m\u001b[0mlen\u001b[0m\u001b[0;34m(\u001b[0m\u001b[0mself\u001b[0m\u001b[0;34m.\u001b[0m\u001b[0moutputs\u001b[0m\u001b[0;34m)\u001b[0m\u001b[0;34m]\u001b[0m\u001b[0;34m\u001b[0m\u001b[0m\n\u001b[1;32m   2638\u001b[0m \u001b[0;34m\u001b[0m\u001b[0m\n",
      "\u001b[0;32m~/anaconda3/lib/python3.6/site-packages/tensorflow/python/client/session.py\u001b[0m in \u001b[0;36m__call__\u001b[0;34m(self, *args, **kwargs)\u001b[0m\n\u001b[1;32m   1380\u001b[0m           ret = tf_session.TF_SessionRunCallable(\n\u001b[1;32m   1381\u001b[0m               \u001b[0mself\u001b[0m\u001b[0;34m.\u001b[0m\u001b[0m_session\u001b[0m\u001b[0;34m.\u001b[0m\u001b[0m_session\u001b[0m\u001b[0;34m,\u001b[0m \u001b[0mself\u001b[0m\u001b[0;34m.\u001b[0m\u001b[0m_handle\u001b[0m\u001b[0;34m,\u001b[0m \u001b[0margs\u001b[0m\u001b[0;34m,\u001b[0m \u001b[0mstatus\u001b[0m\u001b[0;34m,\u001b[0m\u001b[0;34m\u001b[0m\u001b[0m\n\u001b[0;32m-> 1382\u001b[0;31m               run_metadata_ptr)\n\u001b[0m\u001b[1;32m   1383\u001b[0m         \u001b[0;32mif\u001b[0m \u001b[0mrun_metadata\u001b[0m\u001b[0;34m:\u001b[0m\u001b[0;34m\u001b[0m\u001b[0m\n\u001b[1;32m   1384\u001b[0m           \u001b[0mproto_data\u001b[0m \u001b[0;34m=\u001b[0m \u001b[0mtf_session\u001b[0m\u001b[0;34m.\u001b[0m\u001b[0mTF_GetBuffer\u001b[0m\u001b[0;34m(\u001b[0m\u001b[0mrun_metadata_ptr\u001b[0m\u001b[0;34m)\u001b[0m\u001b[0;34m\u001b[0m\u001b[0m\n",
      "\u001b[0;31mKeyboardInterrupt\u001b[0m: "
     ]
    }
   ],
   "source": [
    "filters1 = [2,4,8]\n",
    "filters2 = [2,4,8]\n",
    "num_epochs = 10\n",
    "weave_acc = {}\n",
    "weave_acc_center = {}\n",
    "norm_acc = {}\n",
    "for filt1 in filters1:\n",
    "    for filt2 in filters2:\n",
    "        print(filt1,filt2)\n",
    "        weave_model_no_center = build_weave_conv_model(filt1,filt2, 0)\n",
    "        weave_model_center = build_weave_conv_model(filt1,filt2, 1)\n",
    "        \n",
    "        norm_model = build_norm_conv_model(filt1,filt2)\n",
    "        weave_model_no_center.fit(X_train, Y_train, epochs = num_epochs, verbose=0)\n",
    "        weave_model_center.fit(X_train, Y_train, epochs = num_epochs, verbose=0)\n",
    "        norm_model.fit(X_train, Y_train, epochs = num_epochs, verbose=0)\n",
    "        \n",
    "        weave_acc_center[(filt1,filt2)] = weave_model_center.evaluate(X_Val, Y_val, verbose = 0)[1]\n",
    "        weave_acc[(filt1,filt2)] = weave_model_no_center.evaluate(X_Val, Y_val, verbose = 0)[1]\n",
    "        norm_acc[(filt1,filt2)] = norm_model.evaluate(X_Val, Y_val, verbose = 0)[1]\n",
    "        print('Weave Model Center', weave_acc_center[(filt1,filt2)])\n",
    "        print('Weave Model No center', weave_acc[(filt1,filt2)])\n",
    "        print('Norm Model', norm_acc[(filt1,filt2)])"
   ]
  },
  {
   "cell_type": "markdown",
   "metadata": {},
   "source": [
    "# "
   ]
  }
 ],
 "metadata": {
  "kernelspec": {
   "display_name": "Python 3",
   "language": "python",
   "name": "python3"
  },
  "language_info": {
   "codemirror_mode": {
    "name": "ipython",
    "version": 3
   },
   "file_extension": ".py",
   "mimetype": "text/x-python",
   "name": "python",
   "nbconvert_exporter": "python",
   "pygments_lexer": "ipython3",
   "version": "3.6.3"
  }
 },
 "nbformat": 4,
 "nbformat_minor": 2
}
