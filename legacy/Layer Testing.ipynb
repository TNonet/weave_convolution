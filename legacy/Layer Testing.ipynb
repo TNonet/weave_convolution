{
 "cells": [
  {
   "cell_type": "code",
   "execution_count": 1,
   "metadata": {},
   "outputs": [
    {
     "name": "stderr",
     "output_type": "stream",
     "text": [
      "/Users/Tim/anaconda2/lib/python2.7/site-packages/h5py/__init__.py:36: FutureWarning: Conversion of the second argument of issubdtype from `float` to `np.floating` is deprecated. In future, it will be treated as `np.float64 == np.dtype(float).type`.\n",
      "  from ._conv import register_converters as _register_converters\n"
     ]
    }
   ],
   "source": [
    "import tensorflow as tf\n",
    "import numpy as np"
   ]
  },
  {
   "cell_type": "code",
   "execution_count": 8,
   "metadata": {},
   "outputs": [
    {
     "name": "stdout",
     "output_type": "stream",
     "text": [
      "<class 'tensorflow.python.framework.ops.Tensor'>\n",
      "[[ 1.  0.  2.  0.  3.  0.  4.  0.  5.]\n",
      " [ 6.  0.  7.  0.  8.  0.  9.  0. 10.]\n",
      " [11.  0. 12.  0. 13.  0. 14.  0. 15.]\n",
      " [16.  0. 17.  0. 18.  0. 19.  0. 20.]\n",
      " [21.  0. 22.  0. 23.  0. 24.  0. 25.]]\n"
     ]
    }
   ],
   "source": [
    "# Input\n",
    "N = 5\n",
    "a = tf.constant(np.arange(1,N**2+1).reshape(N,N), tf.float32)\n",
    "#[[0. 1. 2.]\n",
    "# [3. 4. 5.]\n",
    "# [6. 7. 8.]]\n",
    "\n",
    "b = tf.zeros_like(a)\n",
    "print((type(b)))\n",
    "c = tf.reshape(tf.stack([a,b], 2),\n",
    "               [-1, tf.shape(a)[1]+tf.shape(b)[1]])[:,:-1]\n",
    "\n",
    "with tf.Session() as sess:\n",
    "   print(sess.run(c))\n",
    "#[[0. 0. 1. 0. 2.]\n",
    "# [3. 0. 4. 0. 5.]\n",
    "# [6. 0. 7. 0. 8.]]"
   ]
  },
  {
   "cell_type": "code",
   "execution_count": 4,
   "metadata": {},
   "outputs": [
    {
     "ename": "SyntaxError",
     "evalue": "invalid syntax (<ipython-input-4-8dc4953c6b56>, line 35)",
     "output_type": "error",
     "traceback": [
      "\u001b[0;36m  File \u001b[0;32m\"<ipython-input-4-8dc4953c6b56>\"\u001b[0;36m, line \u001b[0;32m35\u001b[0m\n\u001b[0;31m    return tf.TensorShape(shape)\u001b[0m\n\u001b[0m         ^\u001b[0m\n\u001b[0;31mSyntaxError\u001b[0m\u001b[0;31m:\u001b[0m invalid syntax\n"
     ]
    }
   ],
   "source": [
    "def explode_width(tensor, num_zeros = 2):\n",
    "    h_zero = tf.zeros_like(tensor)\n",
    "    h_expand = tf.reshape(tf.stack([tensor,h_zero, h_zero], 2),[-1, tf.shape(tensor)[1]*3])[:,:-2]\n",
    "    return h_expand\n",
    "\n",
    "def explode_tensor(tensor, num_zeros = 2):\n",
    "    h_expand = explode_width(tensor, num_zeros=num_zeros)\n",
    "    rot = tf.transpose(h_expand)\n",
    "    rot1 = explode_width(rot, num_zeros=num_zeros)\n",
    "    return rot1\n",
    "\n",
    "class explode(keras.layers.Layer):\n",
    "\n",
    "    def __init__(self, output_dim, **kwargs):\n",
    "        self.output_dim = output_dim\n",
    "        self.num_zeros = kwargs.pop('num_zeros')\n",
    "        super(explode, self).__init__(**kwargs)\n",
    "\n",
    "    def build(self, input_shape):\n",
    "        pass\n",
    "#         shape = tf.TensorShape((input_shape[1], self.output_dim))\n",
    "#         # Create a trainable weight variable for this layer.\n",
    "#         self.kernel = self.add_weight(name='kernel',\n",
    "#                                       shape=shape,\n",
    "#                                       initializer='uniform',\n",
    "#                                       trainable=True)\n",
    "#         # Be sure to call this at the end\n",
    "#         super(MyLayer, self).build(input_shape)\n",
    "\n",
    "    def call(self, inputs):\n",
    "        return explode_width(inputs, num_zeros = 2)\n",
    "\n",
    "    def compute_output_shape(self, input_shape):\n",
    "        shape = tf.multiply(tf.TensorShape(input_shape), tf.convert_to_tensor(self.num_zeros) - 1\n",
    "        return tf.TensorShape(shape)\n",
    "\n",
    "    def get_config(self):\n",
    "        base_config = super(MyLayer, self).get_config()\n",
    "        base_config['output_dim'] = self.output_dim\n",
    "\n",
    "    @classmethod\n",
    "    def from_config(cls, config):\n",
    "        return cls(**config)"
   ]
  },
  {
   "cell_type": "code",
   "execution_count": 5,
   "metadata": {},
   "outputs": [
    {
     "ename": "NameError",
     "evalue": "name 'explode_tensor' is not defined",
     "output_type": "error",
     "traceback": [
      "\u001b[0;31m---------------------------------------------------------------------------\u001b[0m",
      "\u001b[0;31mNameError\u001b[0m                                 Traceback (most recent call last)",
      "\u001b[0;32m<ipython-input-5-a17abff0d3f0>\u001b[0m in \u001b[0;36m<module>\u001b[0;34m()\u001b[0m\n\u001b[1;32m      1\u001b[0m \u001b[0ma\u001b[0m \u001b[0;34m=\u001b[0m \u001b[0mtf\u001b[0m\u001b[0;34m.\u001b[0m\u001b[0mconstant\u001b[0m\u001b[0;34m(\u001b[0m\u001b[0mnp\u001b[0m\u001b[0;34m.\u001b[0m\u001b[0marange\u001b[0m\u001b[0;34m(\u001b[0m\u001b[0;36m1\u001b[0m\u001b[0;34m,\u001b[0m\u001b[0mN\u001b[0m\u001b[0;34m**\u001b[0m\u001b[0;36m2\u001b[0m\u001b[0;34m+\u001b[0m\u001b[0;36m1\u001b[0m\u001b[0;34m)\u001b[0m\u001b[0;34m.\u001b[0m\u001b[0mreshape\u001b[0m\u001b[0;34m(\u001b[0m\u001b[0mN\u001b[0m\u001b[0;34m,\u001b[0m\u001b[0mN\u001b[0m\u001b[0;34m)\u001b[0m\u001b[0;34m,\u001b[0m \u001b[0mtf\u001b[0m\u001b[0;34m.\u001b[0m\u001b[0mfloat32\u001b[0m\u001b[0;34m)\u001b[0m\u001b[0;34m\u001b[0m\u001b[0m\n\u001b[1;32m      2\u001b[0m \u001b[0;32mwith\u001b[0m \u001b[0mtf\u001b[0m\u001b[0;34m.\u001b[0m\u001b[0mSession\u001b[0m\u001b[0;34m(\u001b[0m\u001b[0;34m)\u001b[0m \u001b[0;32mas\u001b[0m \u001b[0msess\u001b[0m\u001b[0;34m:\u001b[0m\u001b[0;34m\u001b[0m\u001b[0m\n\u001b[0;32m----> 3\u001b[0;31m     \u001b[0mb\u001b[0m \u001b[0;34m=\u001b[0m \u001b[0msess\u001b[0m\u001b[0;34m.\u001b[0m\u001b[0mrun\u001b[0m\u001b[0;34m(\u001b[0m\u001b[0mexplode_tensor\u001b[0m\u001b[0;34m(\u001b[0m\u001b[0ma\u001b[0m\u001b[0;34m)\u001b[0m\u001b[0;34m)\u001b[0m\u001b[0;34m\u001b[0m\u001b[0m\n\u001b[0m\u001b[1;32m      4\u001b[0m     \u001b[0;32mprint\u001b[0m\u001b[0;34m(\u001b[0m\u001b[0mb\u001b[0m\u001b[0;34m)\u001b[0m\u001b[0;34m\u001b[0m\u001b[0m\n\u001b[1;32m      5\u001b[0m     \u001b[0;32mprint\u001b[0m\u001b[0;34m(\u001b[0m\u001b[0mtype\u001b[0m\u001b[0;34m(\u001b[0m\u001b[0mb\u001b[0m\u001b[0;34m)\u001b[0m\u001b[0;34m)\u001b[0m\u001b[0;34m\u001b[0m\u001b[0m\n",
      "\u001b[0;31mNameError\u001b[0m: name 'explode_tensor' is not defined"
     ]
    }
   ],
   "source": [
    "a = tf.constant(np.arange(1,N**2+1).reshape(N,N), tf.float32)\n",
    "with tf.Session() as sess:\n",
    "    b = sess.run(explode_tensor(a))\n",
    "    print(b)\n",
    "    print(type(b))"
   ]
  },
  {
   "cell_type": "code",
   "execution_count": 10,
   "metadata": {},
   "outputs": [],
   "source": [
    "def combine(loc, per, filter_size = 3):\n",
    "    #Size of incoming image\n",
    "    loc_x,loc_y = loc.shape\n",
    "    per_x,per_y = per.shape\n",
    "    n = loc_x\n",
    "    square_radius = (n//2)*filter_size  \n",
    "    assert(loc_x == loc_y == per_x == per_y)\n",
    "    #How big do we need to expand the peripherial image by?\n",
    "    expand_dist = 2*filter_size+2\n",
    "    #expand_dist = n + 1\n",
    "    print(expand_dist)\n",
    "    #How big does the new matrix have to be?\n",
    "    big_x = big_y = 3*n + 4*filter_size + 2\n",
    "    center_x = center_y = (big_x/2)\n",
    "    assert(big_x//2 == big_x/2)\n",
    "    big_array = np.zeros([big_x,big_y])\n",
    "    for i in range(loc_x):\n",
    "        for j in range(loc_y):\n",
    "            temp_val = per[i,j]\n",
    "            big_i = filter_size * i + expand_dist\n",
    "            big_j = filter_size * j + expand_dist\n",
    "            for i_change in [-expand_dist, 0, expand_dist]:\n",
    "                for j_change in [-expand_dist, 0, expand_dist]:\n",
    "                    big_array[big_i+i_change,big_j+j_change] = temp_val\n",
    "                     \n",
    "    return big_array[center_x-square_radius:center_x+1+square_radius,\n",
    "                    center_y-square_radius:center_y+1+square_radius]"
   ]
  },
  {
   "cell_type": "code",
   "execution_count": 12,
   "metadata": {},
   "outputs": [
    {
     "name": "stdout",
     "output_type": "stream",
     "text": [
      "[[  1   2   3   4   5   6   7   8   9  10  11]\n",
      " [ 12  13  14  15  16  17  18  19  20  21  22]\n",
      " [ 23  24  25  26  27  28  29  30  31  32  33]\n",
      " [ 34  35  36  37  38  39  40  41  42  43  44]\n",
      " [ 45  46  47  48  49  50  51  52  53  54  55]\n",
      " [ 56  57  58  59  60  61  62  63  64  65  66]\n",
      " [ 67  68  69  70  71  72  73  74  75  76  77]\n",
      " [ 78  79  80  81  82  83  84  85  86  87  88]\n",
      " [ 89  90  91  92  93  94  95  96  97  98  99]\n",
      " [100 101 102 103 104 105 106 107 108 109 110]\n",
      " [111 112 113 114 115 116 117 118 119 120 121]]\n",
      "8\n",
      "[[  1.   4.   0.   2.   5.   0.   3.   6.   1.   4.   7.   2.   5.   8.\n",
      "    3.   6.   9.   4.   7.  10.   5.   8.  11.   6.   9.   0.   7.  10.\n",
      "    0.   8.  11.]\n",
      " [ 34.  37.   0.  35.  38.   0.  36.  39.  34.  37.  40.  35.  38.  41.\n",
      "   36.  39.  42.  37.  40.  43.  38.  41.  44.  39.  42.   0.  40.  43.\n",
      "    0.  41.  44.]\n",
      " [  0.   0.   0.   0.   0.   0.   0.   0.   0.   0.   0.   0.   0.   0.\n",
      "    0.   0.   0.   0.   0.   0.   0.   0.   0.   0.   0.   0.   0.   0.\n",
      "    0.   0.   0.]\n",
      " [ 12.  15.   0.  13.  16.   0.  14.  17.  12.  15.  18.  13.  16.  19.\n",
      "   14.  17.  20.  15.  18.  21.  16.  19.  22.  17.  20.   0.  18.  21.\n",
      "    0.  19.  22.]\n",
      " [ 45.  48.   0.  46.  49.   0.  47.  50.  45.  48.  51.  46.  49.  52.\n",
      "   47.  50.  53.  48.  51.  54.  49.  52.  55.  50.  53.   0.  51.  54.\n",
      "    0.  52.  55.]\n",
      " [  0.   0.   0.   0.   0.   0.   0.   0.   0.   0.   0.   0.   0.   0.\n",
      "    0.   0.   0.   0.   0.   0.   0.   0.   0.   0.   0.   0.   0.   0.\n",
      "    0.   0.   0.]\n",
      " [ 23.  26.   0.  24.  27.   0.  25.  28.  23.  26.  29.  24.  27.  30.\n",
      "   25.  28.  31.  26.  29.  32.  27.  30.  33.  28.  31.   0.  29.  32.\n",
      "    0.  30.  33.]\n",
      " [ 56.  59.   0.  57.  60.   0.  58.  61.  56.  59.  62.  57.  60.  63.\n",
      "   58.  61.  64.  59.  62.  65.  60.  63.  66.  61.  64.   0.  62.  65.\n",
      "    0.  63.  66.]\n",
      " [  1.   4.   0.   2.   5.   0.   3.   6.   1.   4.   7.   2.   5.   8.\n",
      "    3.   6.   9.   4.   7.  10.   5.   8.  11.   6.   9.   0.   7.  10.\n",
      "    0.   8.  11.]\n",
      " [ 34.  37.   0.  35.  38.   0.  36.  39.  34.  37.  40.  35.  38.  41.\n",
      "   36.  39.  42.  37.  40.  43.  38.  41.  44.  39.  42.   0.  40.  43.\n",
      "    0.  41.  44.]\n",
      " [ 67.  70.   0.  68.  71.   0.  69.  72.  67.  70.  73.  68.  71.  74.\n",
      "   69.  72.  75.  70.  73.  76.  71.  74.  77.  72.  75.   0.  73.  76.\n",
      "    0.  74.  77.]\n",
      " [ 12.  15.   0.  13.  16.   0.  14.  17.  12.  15.  18.  13.  16.  19.\n",
      "   14.  17.  20.  15.  18.  21.  16.  19.  22.  17.  20.   0.  18.  21.\n",
      "    0.  19.  22.]\n",
      " [ 45.  48.   0.  46.  49.   0.  47.  50.  45.  48.  51.  46.  49.  52.\n",
      "   47.  50.  53.  48.  51.  54.  49.  52.  55.  50.  53.   0.  51.  54.\n",
      "    0.  52.  55.]\n",
      " [ 78.  81.   0.  79.  82.   0.  80.  83.  78.  81.  84.  79.  82.  85.\n",
      "   80.  83.  86.  81.  84.  87.  82.  85.  88.  83.  86.   0.  84.  87.\n",
      "    0.  85.  88.]\n",
      " [ 23.  26.   0.  24.  27.   0.  25.  28.  23.  26.  29.  24.  27.  30.\n",
      "   25.  28.  31.  26.  29.  32.  27.  30.  33.  28.  31.   0.  29.  32.\n",
      "    0.  30.  33.]\n",
      " [ 56.  59.   0.  57.  60.   0.  58.  61.  56.  59.  62.  57.  60.  63.\n",
      "   58.  61.  64.  59.  62.  65.  60.  63.  66.  61.  64.   0.  62.  65.\n",
      "    0.  63.  66.]\n",
      " [ 89.  92.   0.  90.  93.   0.  91.  94.  89.  92.  95.  90.  93.  96.\n",
      "   91.  94.  97.  92.  95.  98.  93.  96.  99.  94.  97.   0.  95.  98.\n",
      "    0.  96.  99.]\n",
      " [ 34.  37.   0.  35.  38.   0.  36.  39.  34.  37.  40.  35.  38.  41.\n",
      "   36.  39.  42.  37.  40.  43.  38.  41.  44.  39.  42.   0.  40.  43.\n",
      "    0.  41.  44.]\n",
      " [ 67.  70.   0.  68.  71.   0.  69.  72.  67.  70.  73.  68.  71.  74.\n",
      "   69.  72.  75.  70.  73.  76.  71.  74.  77.  72.  75.   0.  73.  76.\n",
      "    0.  74.  77.]\n",
      " [100. 103.   0. 101. 104.   0. 102. 105. 100. 103. 106. 101. 104. 107.\n",
      "  102. 105. 108. 103. 106. 109. 104. 107. 110. 105. 108.   0. 106. 109.\n",
      "    0. 107. 110.]\n",
      " [ 45.  48.   0.  46.  49.   0.  47.  50.  45.  48.  51.  46.  49.  52.\n",
      "   47.  50.  53.  48.  51.  54.  49.  52.  55.  50.  53.   0.  51.  54.\n",
      "    0.  52.  55.]\n",
      " [ 78.  81.   0.  79.  82.   0.  80.  83.  78.  81.  84.  79.  82.  85.\n",
      "   80.  83.  86.  81.  84.  87.  82.  85.  88.  83.  86.   0.  84.  87.\n",
      "    0.  85.  88.]\n",
      " [111. 114.   0. 112. 115.   0. 113. 116. 111. 114. 117. 112. 115. 118.\n",
      "  113. 116. 119. 114. 117. 120. 115. 118. 121. 116. 119.   0. 117. 120.\n",
      "    0. 118. 121.]\n",
      " [ 56.  59.   0.  57.  60.   0.  58.  61.  56.  59.  62.  57.  60.  63.\n",
      "   58.  61.  64.  59.  62.  65.  60.  63.  66.  61.  64.   0.  62.  65.\n",
      "    0.  63.  66.]\n",
      " [ 89.  92.   0.  90.  93.   0.  91.  94.  89.  92.  95.  90.  93.  96.\n",
      "   91.  94.  97.  92.  95.  98.  93.  96.  99.  94.  97.   0.  95.  98.\n",
      "    0.  96.  99.]\n",
      " [  0.   0.   0.   0.   0.   0.   0.   0.   0.   0.   0.   0.   0.   0.\n",
      "    0.   0.   0.   0.   0.   0.   0.   0.   0.   0.   0.   0.   0.   0.\n",
      "    0.   0.   0.]\n",
      " [ 67.  70.   0.  68.  71.   0.  69.  72.  67.  70.  73.  68.  71.  74.\n",
      "   69.  72.  75.  70.  73.  76.  71.  74.  77.  72.  75.   0.  73.  76.\n",
      "    0.  74.  77.]\n",
      " [100. 103.   0. 101. 104.   0. 102. 105. 100. 103. 106. 101. 104. 107.\n",
      "  102. 105. 108. 103. 106. 109. 104. 107. 110. 105. 108.   0. 106. 109.\n",
      "    0. 107. 110.]\n",
      " [  0.   0.   0.   0.   0.   0.   0.   0.   0.   0.   0.   0.   0.   0.\n",
      "    0.   0.   0.   0.   0.   0.   0.   0.   0.   0.   0.   0.   0.   0.\n",
      "    0.   0.   0.]\n",
      " [ 78.  81.   0.  79.  82.   0.  80.  83.  78.  81.  84.  79.  82.  85.\n",
      "   80.  83.  86.  81.  84.  87.  82.  85.  88.  83.  86.   0.  84.  87.\n",
      "    0.  85.  88.]\n",
      " [111. 114.   0. 112. 115.   0. 113. 116. 111. 114. 117. 112. 115. 118.\n",
      "  113. 116. 119. 114. 117. 120. 115. 118. 121. 116. 119.   0. 117. 120.\n",
      "    0. 118. 121.]]\n",
      "(31, 31)\n"
     ]
    }
   ],
   "source": [
    "N = 11\n",
    "array_test = np.arange(1,N**2 + 1).reshape(N,N)\n",
    "print(array_test)\n",
    "big_array_test = combine(array_test,array_test)\n",
    "print(big_array_test)\n",
    "print(big_array_test.shape)"
   ]
  },
  {
   "cell_type": "code",
   "execution_count": null,
   "metadata": {},
   "outputs": [],
   "source": []
  },
  {
   "cell_type": "code",
   "execution_count": null,
   "metadata": {},
   "outputs": [],
   "source": []
  }
 ],
 "metadata": {
  "kernelspec": {
   "display_name": "Python 2",
   "language": "python",
   "name": "python2"
  },
  "language_info": {
   "codemirror_mode": {
    "name": "ipython",
    "version": 2
   },
   "file_extension": ".py",
   "mimetype": "text/x-python",
   "name": "python",
   "nbconvert_exporter": "python",
   "pygments_lexer": "ipython2",
   "version": "2.7.14"
  }
 },
 "nbformat": 4,
 "nbformat_minor": 2
}
