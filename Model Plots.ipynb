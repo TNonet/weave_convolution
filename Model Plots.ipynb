{
 "cells": [
  {
   "cell_type": "code",
   "execution_count": 1,
   "metadata": {},
   "outputs": [],
   "source": [
    "import json\n",
    "import numpy"
   ]
  },
  {
   "cell_type": "code",
   "execution_count": 2,
   "metadata": {},
   "outputs": [
    {
     "name": "stdout",
     "output_type": "stream",
     "text": [
      "16_1_1.h5    4_1_1.json  8_2_1.h5      \u001b[0m\u001b[01;34mImages\u001b[0m/\r\n",
      "16_1_1.json  4_2_1.h5    8_2_1.json    \u001b[01;34mlegacy\u001b[0m/\r\n",
      "16_2_1.h5    4_2_1.json  8_4_1.h5      Model Plots.ipynb\r\n",
      "16_2_1.json  4_4_1.h5    8_4_1.json    MultiGPU Test.ipynb\r\n",
      "16_4_1.h5    4_4_1.json  \u001b[01;34mCS229_Style\u001b[0m/  Pyrm_Parellel Test.ipynb\r\n",
      "16_4_1.json  8_1_1.h5    \u001b[01;34mdata\u001b[0m/         Untitled.ipynb\r\n",
      "4_1_1.h5     8_1_1.json  \u001b[01;34mdocs\u001b[0m/         \u001b[01;34mweave\u001b[0m/\r\n"
     ]
    }
   ],
   "source": [
    "%ls"
   ]
  },
  {
   "cell_type": "markdown",
   "metadata": {},
   "source": [
    "# Train Time Calculator"
   ]
  },
  {
   "cell_type": "code",
   "execution_count": 18,
   "metadata": {},
   "outputs": [
    {
     "name": "stdout",
     "output_type": "stream",
     "text": [
      "Train Time takes roughly 745571 seconds\n",
      "207.103115 hours if using CPU t3.medium\n",
      "17.258593 hours if using GPU\n"
     ]
    }
   ],
   "source": [
    "steps_per_test_epoch = 10\n",
    "steps_per_full_epoch = 784\n",
    "num_epochs = 60\n",
    "time_count = 0\n",
    "filters = [16, 8, 4]\n",
    "stacks = [4,2,1]\n",
    "for num_filters in filters:\n",
    "    for num_stacks in stacks:\n",
    "        filepath = str(num_filters) + '_' + str(num_stacks) + '_1.json'\n",
    "        with open(filepath) as f:\n",
    "            data = json.load(f)\n",
    "        time_count += data[u'times'][0]\n",
    "                           \n",
    "time_count *= steps_per_full_epoch/float(steps_per_test_epoch)\n",
    "time_count *= num_epochs\n",
    "print('Train Time takes roughly %d seconds' % time_count)\n",
    "print('%f hours if using CPU t3.medium' % (time_count/3600.0))\n",
    "print('%f hours if using GPU' % ((time_count/3600.0)/12))\n"
   ]
  },
  {
   "cell_type": "markdown",
   "metadata": {},
   "source": [
    "# Loss Plot"
   ]
  },
  {
   "cell_type": "code",
   "execution_count": 8,
   "metadata": {},
   "outputs": [
    {
     "data": {
      "text/plain": [
       "[5.134016990661621]"
      ]
     },
     "execution_count": 8,
     "metadata": {},
     "output_type": "execute_result"
    }
   ],
   "source": [
    "data[u'times']"
   ]
  },
  {
   "cell_type": "code",
   "execution_count": null,
   "metadata": {},
   "outputs": [],
   "source": []
  }
 ],
 "metadata": {
  "kernelspec": {
   "display_name": "Environment (conda_tensorflow_p27)",
   "language": "python",
   "name": "conda_tensorflow_p27"
  },
  "language_info": {
   "codemirror_mode": {
    "name": "ipython",
    "version": 2
   },
   "file_extension": ".py",
   "mimetype": "text/x-python",
   "name": "python",
   "nbconvert_exporter": "python",
   "pygments_lexer": "ipython2",
   "version": "2.7.15"
  }
 },
 "nbformat": 4,
 "nbformat_minor": 2
}
